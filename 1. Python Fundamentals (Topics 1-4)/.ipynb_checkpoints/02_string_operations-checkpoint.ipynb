{
 "cells": [
  {
   "cell_type": "markdown",
   "metadata": {},
   "source": [
    "# Topic 02: String Operations\n",
    "\n",
    "## Overview\n",
    "Strings are one of Python's most important data types. This notebook covers comprehensive string operations, methods, and formatting techniques.\n",
    "\n",
    "### What You'll Learn:\n",
    "- String creation and representation\n",
    "- String methods and operations\n",
    "- String formatting techniques\n",
    "- String slicing and indexing\n",
    "- Regular expressions basics\n",
    "\n",
    "---"
   ]
  },
  {
   "cell_type": "markdown",
   "metadata": {},
   "source": [
    "## 1. String Creation and Types\n",
    "\n",
    "Python supports various ways to create strings:"
   ]
  },
  {
   "cell_type": "code",
   "execution_count": 1,
   "metadata": {},
   "outputs": [
    {
     "name": "stdout",
     "output_type": "stream",
     "text": [
      "Single quotes: Hello, World!\n",
      "Double quotes: Hello, World!\n",
      "Are they equal? True\n",
      "\n",
      "Triple single quotes:\n",
      "This is a\n",
      "multi-line string\n",
      "using triple single quotes\n",
      "\n",
      "Triple double quotes:\n",
      "This is a\n",
      "multi-line string\n",
      "using triple double quotes\n"
     ]
    }
   ],
   "source": [
    "# Different ways to create strings\n",
    "single_quotes = 'Hello, World!'\n",
    "double_quotes = \"Hello, World!\"\n",
    "triple_single = '''This is a\n",
    "multi-line string\n",
    "using triple single quotes'''\n",
    "triple_double = \"\"\"This is a\n",
    "multi-line string\n",
    "using triple double quotes\"\"\"\n",
    "\n",
    "print(f\"Single quotes: {single_quotes}\")\n",
    "print(f\"Double quotes: {double_quotes}\")\n",
    "print(f\"Are they equal? {single_quotes == double_quotes}\")\n",
    "print(f\"\\nTriple single quotes:\\n{triple_single}\")\n",
    "print(f\"\\nTriple double quotes:\\n{triple_double}\")"
   ]
  },
  {
   "cell_type": "code",
   "execution_count": 2,
   "metadata": {},
   "outputs": [
    {
     "name": "stdout",
     "output_type": "stream",
     "text": [
      "Raw string: Raw string: \\n \\t \\\\ no escape sequences\n",
      "Byte string: b'Byte string' (type: <class 'bytes'>)\n",
      "Unicode string: Unicode: ñ, é, 中文, العربية, 🐍, 🚀\n",
      "Formatted string: Formatted string with variable: 32\n",
      "\n",
      "Escape sequences:\n",
      "Line 1\n",
      "Line 2\tTabbed\\Backslash\"Quote\n"
     ]
    }
   ],
   "source": [
    "# Special string types\n",
    "raw_string = r\"Raw string: \\n \\t \\\\ no escape sequences\"\n",
    "byte_string = b\"Byte string\"\n",
    "unicode_string = \"Unicode: ñ, é, 中文, العربية, 🐍, 🚀\"\n",
    "formatted_string = f\"Formatted string with variable: {len(unicode_string)}\"\n",
    "\n",
    "print(f\"Raw string: {raw_string}\")\n",
    "print(f\"Byte string: {byte_string} (type: {type(byte_string)})\")\n",
    "print(f\"Unicode string: {unicode_string}\")\n",
    "print(f\"Formatted string: {formatted_string}\")\n",
    "\n",
    "# Escape sequences\n",
    "escape_examples = \"Line 1\\nLine 2\\tTabbed\\\\Backslash\\\"Quote\"\n",
    "print(f\"\\nEscape sequences:\\n{escape_examples}\")"
   ]
  },
  {
   "cell_type": "markdown",
   "metadata": {},
   "source": [
    "## 2. String Indexing and Slicing\n",
    "\n",
    "Strings are sequences, so they support indexing and slicing:"
   ]
  },
  {
   "cell_type": "code",
   "execution_count": 3,
   "metadata": {},
   "outputs": [
    {
     "name": "stdout",
     "output_type": "stream",
     "text": [
      "Original string: 'Python Programming'\n",
      "Length: 18\n",
      "\n",
      "Indexing:\n",
      "First character (index 0): 'P'\n",
      "Last character (index -1): 'g'\n",
      "Second character: 'y'\n",
      "Second from end: 'n'\n",
      "\n",
      "Index positions:\n",
      "Index  0: 'P'\n",
      "Index  1: 'y'\n",
      "Index  2: 't'\n",
      "Index  3: 'h'\n",
      "Index  4: 'o'\n",
      "Index  5: 'n'\n",
      "Index  6: ' '\n",
      "Index  7: 'P'\n",
      "Index  8: 'r'\n",
      "Index  9: 'o'\n",
      "Index 10: 'g'\n",
      "Index 11: 'r'\n",
      "Index 12: 'a'\n",
      "Index 13: 'm'\n",
      "Index 14: 'm'\n",
      "Index 15: 'i'\n",
      "Index 16: 'n'\n",
      "Index 17: 'g'\n"
     ]
    }
   ],
   "source": [
    "# String indexing\n",
    "text = \"Python Programming\"\n",
    "print(f\"Original string: '{text}'\")\n",
    "print(f\"Length: {len(text)}\")\n",
    "print(f\"\\nIndexing:\")\n",
    "print(f\"First character (index 0): '{text[0]}'\")\n",
    "print(f\"Last character (index -1): '{text[-1]}'\")\n",
    "print(f\"Second character: '{text[1]}'\")\n",
    "print(f\"Second from end: '{text[-2]}'\")\n",
    "\n",
    "# Display index positions\n",
    "print(f\"\\nIndex positions:\")\n",
    "for i, char in enumerate(text):\n",
    "    print(f\"Index {i:2d}: '{char}'\")"
   ]
  },
  {
   "cell_type": "code",
   "execution_count": 4,
   "metadata": {},
   "outputs": [
    {
     "name": "stdout",
     "output_type": "stream",
     "text": [
      "Original: 'Python Programming'\n",
      "\n",
      "Slicing examples:\n",
      "text[:6] (first 6): 'Python'\n",
      "text[7:] (from index 7): 'Programming'\n",
      "text[7:18] (index 7 to 17): 'Programming'\n",
      "text[-11:] (last 11): 'Programming'\n",
      "text[::2] (every 2nd): 'Pto rgamn'\n",
      "text[::-1] (reverse): 'gnimmargorP nohtyP'\n",
      "text[1::3] (start at 1, every 3rd): 'yoPgmn'\n"
     ]
    }
   ],
   "source": [
    "# String slicing [start:end:step]\n",
    "text = \"Python Programming\"\n",
    "print(f\"Original: '{text}'\")\n",
    "print(f\"\\nSlicing examples:\")\n",
    "print(f\"text[:6] (first 6): '{text[:6]}'\")\n",
    "print(f\"text[7:] (from index 7): '{text[7:]}'\")\n",
    "print(f\"text[7:18] (index 7 to 17): '{text[7:18]}'\")\n",
    "print(f\"text[-11:] (last 11): '{text[-11:]}'\")\n",
    "print(f\"text[::2] (every 2nd): '{text[::2]}'\")\n",
    "print(f\"text[::-1] (reverse): '{text[::-1]}'\")\n",
    "print(f\"text[1::3] (start at 1, every 3rd): '{text[1::3]}'\")"
   ]
  },
  {
   "cell_type": "markdown",
   "metadata": {},
   "source": [
    "## 3. String Methods - Case Operations\n",
    "\n",
    "Python provides numerous methods for string manipulation:"
   ]
  },
  {
   "cell_type": "code",
   "execution_count": 5,
   "metadata": {},
   "outputs": [
    {
     "name": "stdout",
     "output_type": "stream",
     "text": [
      "Original: '  Hello Python World  '\n",
      "\n",
      "Case operations:\n",
      "upper(): '  HELLO PYTHON WORLD  '\n",
      "lower(): '  hello python world  '\n",
      "title(): '  Hello Python World  '\n",
      "capitalize(): '  hello python world  '\n",
      "swapcase(): '  hELLO pYTHON wORLD  '\n",
      "\n",
      "Case checking:\n",
      "'HELLO': upper=True, lower=False, title=False\n",
      "'hello': upper=False, lower=True, title=False\n",
      "'Hello': upper=False, lower=False, title=True\n",
      "'Hello World': upper=False, lower=False, title=True\n",
      "'123': upper=False, lower=False, title=False\n",
      "'Hello123': upper=False, lower=False, title=True\n"
     ]
    }
   ],
   "source": [
    "# Case manipulation methods\n",
    "text = \"  Hello Python World  \"\n",
    "print(f\"Original: '{text}'\")\n",
    "print(f\"\\nCase operations:\")\n",
    "print(f\"upper(): '{text.upper()}'\")\n",
    "print(f\"lower(): '{text.lower()}'\")\n",
    "print(f\"title(): '{text.title()}'\")\n",
    "print(f\"capitalize(): '{text.capitalize()}'\")\n",
    "print(f\"swapcase(): '{text.swapcase()}'\")\n",
    "\n",
    "# Case checking methods\n",
    "test_strings = ['HELLO', 'hello', 'Hello', 'Hello World', '123', 'Hello123']\n",
    "print(f\"\\nCase checking:\")\n",
    "for s in test_strings:\n",
    "    print(f\"'{s}': upper={s.isupper()}, lower={s.islower()}, title={s.istitle()}\")"
   ]
  },
  {
   "cell_type": "markdown",
   "metadata": {},
   "source": [
    "## 4. String Methods - Whitespace and Cleaning\n",
    "\n",
    "Methods for cleaning and processing strings:"
   ]
  },
  {
   "cell_type": "code",
   "execution_count": 6,
   "metadata": {},
   "outputs": [
    {
     "name": "stdout",
     "output_type": "stream",
     "text": [
      "Original: '  \\t  Hello Python World  \\n  '\n",
      "\n",
      "Whitespace methods:\n",
      "strip(): 'Hello Python World'\n",
      "lstrip(): 'Hello Python World  \\n  '\n",
      "rstrip(): '  \\t  Hello Python World'\n",
      "\n",
      "Custom stripping:\n",
      "Original: '...***Hello World***...'\n",
      "strip('.*'): 'Hello World'\n",
      "lstrip('.*'): 'Hello World***...'\n",
      "rstrip('.*'): '...***Hello World'\n"
     ]
    }
   ],
   "source": [
    "# Whitespace methods\n",
    "messy_text = \"  \\t  Hello Python World  \\n  \"\n",
    "print(f\"Original: {repr(messy_text)}\")\n",
    "print(f\"\\nWhitespace methods:\")\n",
    "print(f\"strip(): {repr(messy_text.strip())}\")\n",
    "print(f\"lstrip(): {repr(messy_text.lstrip())}\")\n",
    "print(f\"rstrip(): {repr(messy_text.rstrip())}\")\n",
    "\n",
    "# Custom character stripping\n",
    "text_with_chars = \"...***Hello World***...\"\n",
    "print(f\"\\nCustom stripping:\")\n",
    "print(f\"Original: '{text_with_chars}'\")\n",
    "print(f\"strip('.*'): '{text_with_chars.strip('.*')}'\")\n",
    "print(f\"lstrip('.*'): '{text_with_chars.lstrip('.*')}'\")\n",
    "print(f\"rstrip('.*'): '{text_with_chars.rstrip('.*')}'\")"
   ]
  },
  {
   "cell_type": "markdown",
   "metadata": {},
   "source": [
    "## 5. String Methods - Search and Replace\n",
    "\n",
    "Finding and replacing content in strings:"
   ]
  },
  {
   "cell_type": "code",
   "execution_count": 7,
   "metadata": {},
   "outputs": [
    {
     "name": "stdout",
     "output_type": "stream",
     "text": [
      "Text: Python is awesome. Python is powerful. Python is versatile.\n",
      "Search term: 'Python'\n",
      "\n",
      "Search methods:\n",
      "find('Python'): 0\n",
      "rfind('Python'): 39\n",
      "index('Python'): 0\n",
      "count('Python'): 3\n",
      "\n",
      "Boolean search:\n",
      "startswith('Python'): True\n",
      "endswith('versatile.'): True\n",
      "'awesome' in text: True\n",
      "'java' in text: False\n"
     ]
    }
   ],
   "source": [
    "# Search methods\n",
    "text = \"Python is awesome. Python is powerful. Python is versatile.\"\n",
    "search_term = \"Python\"\n",
    "\n",
    "print(f\"Text: {text}\")\n",
    "print(f\"Search term: '{search_term}'\")\n",
    "print(f\"\\nSearch methods:\")\n",
    "print(f\"find('{search_term}'): {text.find(search_term)}\")\n",
    "print(f\"rfind('{search_term}'): {text.rfind(search_term)}\")\n",
    "print(f\"index('{search_term}'): {text.index(search_term)}\")\n",
    "print(f\"count('{search_term}'): {text.count(search_term)}\")\n",
    "\n",
    "# Boolean search methods\n",
    "print(f\"\\nBoolean search:\")\n",
    "print(f\"startswith('Python'): {text.startswith('Python')}\")\n",
    "print(f\"endswith('versatile.'): {text.endswith('versatile.')}\")\n",
    "print(f\"'awesome' in text: {'awesome' in text}\")\n",
    "print(f\"'java' in text: {'java' in text}\")"
   ]
  },
  {
   "cell_type": "code",
   "execution_count": 8,
   "metadata": {},
   "outputs": [
    {
     "name": "stdout",
     "output_type": "stream",
     "text": [
      "Original: I love Java. Java is great. Java programming is fun.\n",
      "\n",
      "Replace methods:\n",
      "replace('Java', 'Python'): I love Python. Python is great. Python programming is fun.\n",
      "replace('Java', 'Python', 2): I love Python. Python is great. Java programming is fun.\n",
      "\n",
      "Multiple replacements: I love Python. Python is awesome. Python programming is exciting.\n"
     ]
    }
   ],
   "source": [
    "# Replace methods\n",
    "text = \"I love Java. Java is great. Java programming is fun.\"\n",
    "print(f\"Original: {text}\")\n",
    "print(f\"\\nReplace methods:\")\n",
    "print(f\"replace('Java', 'Python'): {text.replace('Java', 'Python')}\")\n",
    "print(f\"replace('Java', 'Python', 2): {text.replace('Java', 'Python', 2)}\")\n",
    "\n",
    "# Multiple replacements\n",
    "def multiple_replace(text, replacements):\n",
    "    \"\"\"Replace multiple substrings\"\"\"\n",
    "    for old, new in replacements.items():\n",
    "        text = text.replace(old, new)\n",
    "    return text\n",
    "\n",
    "replacements = {'Java': 'Python', 'great': 'awesome', 'fun': 'exciting'}\n",
    "result = multiple_replace(text, replacements)\n",
    "print(f\"\\nMultiple replacements: {result}\")"
   ]
  },
  {
   "cell_type": "markdown",
   "metadata": {},
   "source": [
    "## 6. String Methods - Split and Join\n",
    "\n",
    "Breaking strings apart and putting them back together:"
   ]
  },
  {
   "cell_type": "code",
   "execution_count": 9,
   "metadata": {},
   "outputs": [
    {
     "name": "stdout",
     "output_type": "stream",
     "text": [
      "Sentence: Python is a powerful programming language\n",
      "split(): ['Python', 'is', 'a', 'powerful', 'programming', 'language']\n",
      "split(' ', 2): ['Python', 'is', 'a powerful programming language']\n",
      "\n",
      "CSV data: apple,banana,cherry,date,elderberry\n",
      "split(','): ['apple', 'banana', 'cherry', 'date', 'elderberry']\n",
      "\n",
      "Multiline: 'Line 1\\nLine 2\\nLine 3\\nLine 4'\n",
      "splitlines(): ['Line 1', 'Line 2', 'Line 3', 'Line 4']\n",
      "\n",
      "Email: user@example.com\n",
      "partition('@'): ('user', '@', 'example.com')\n",
      "rpartition('.'): ('user@example', '.', 'com')\n"
     ]
    }
   ],
   "source": [
    "# Split methods\n",
    "sentence = \"Python is a powerful programming language\"\n",
    "csv_data = \"apple,banana,cherry,date,elderberry\"\n",
    "multiline = \"Line 1\\nLine 2\\nLine 3\\nLine 4\"\n",
    "\n",
    "print(f\"Sentence: {sentence}\")\n",
    "print(f\"split(): {sentence.split()}\")\n",
    "print(f\"split(' ', 2): {sentence.split(' ', 2)}\")\n",
    "\n",
    "print(f\"\\nCSV data: {csv_data}\")\n",
    "print(f\"split(','): {csv_data.split(',')}\")\n",
    "\n",
    "print(f\"\\nMultiline: {repr(multiline)}\")\n",
    "print(f\"splitlines(): {multiline.splitlines()}\")\n",
    "\n",
    "# Partition methods\n",
    "email = \"user@example.com\"\n",
    "print(f\"\\nEmail: {email}\")\n",
    "print(f\"partition('@'): {email.partition('@')}\")\n",
    "print(f\"rpartition('.'): {email.rpartition('.')}\")"
   ]
  },
  {
   "cell_type": "code",
   "execution_count": 10,
   "metadata": {},
   "outputs": [
    {
     "name": "stdout",
     "output_type": "stream",
     "text": [
      "Words list: ['Python', 'is', 'awesome']\n",
      "' '.join(words): 'Python is awesome'\n",
      "'-'.join(words): 'Python-is-awesome'\n",
      "''.join(words): 'Python-is-awesome'\n",
      "\n",
      "Fruits: ['apple', 'banana', 'cherry']\n",
      "', '.join(fruits): 'apple, banana, cherry'\n",
      "' and '.join(fruits): 'apple and banana and cherry'\n",
      "\n",
      "Numbers: [1, 2, 3, 4, 5]\n",
      "'-'.join(map(str, numbers)): '1-2-3-4-5'\n"
     ]
    }
   ],
   "source": [
    "# Join methods\n",
    "words = ['Python', 'is', 'awesome']\n",
    "fruits = ['apple', 'banana', 'cherry']\n",
    "numbers = [1, 2, 3, 4, 5]\n",
    "\n",
    "print(f\"Words list: {words}\")\n",
    "print(f\"' '.join(words): '{' '.join(words)}'\")\n",
    "print(f\"'-'.join(words): '{'-'.join(words)}'\")\n",
    "print(f\"''.join(words): '{'-'.join(words)}'\")\n",
    "\n",
    "print(f\"\\nFruits: {fruits}\")\n",
    "print(f\"', '.join(fruits): '{', '.join(fruits)}'\")\n",
    "print(f\"' and '.join(fruits): '{' and '.join(fruits)}'\")\n",
    "\n",
    "# Join numbers (need to convert to strings first)\n",
    "print(f\"\\nNumbers: {numbers}\")\n",
    "number_strings = [str(n) for n in numbers]\n",
    "print(f\"'-'.join(map(str, numbers)): '{'-'.join(map(str, numbers))}'\")"
   ]
  },
  {
   "cell_type": "markdown",
   "metadata": {},
   "source": [
    "## 7. String Validation Methods\n",
    "\n",
    "Methods to check string content and characteristics:"
   ]
  },
  {
   "cell_type": "code",
   "execution_count": 11,
   "metadata": {},
   "outputs": [
    {
     "name": "stdout",
     "output_type": "stream",
     "text": [
      "String validation methods:\n",
      "String       isdigit  isalpha  isalnum  isspace  isidentifier\n",
      "------------------------------------------------------------\n",
      "'123'        True     False    True     False    False       \n",
      "'abc'        False    True     True     False    True        \n",
      "'abc123'     False    False    True     False    True        \n",
      "'ABC'        False    True     True     False    True        \n",
      "'abc'        False    True     True     False    True        \n",
      "'Hello Wo...' False    False    False    False    False       \n",
      "'   '        False    False    False    True     False       \n",
      "'hello_wo...' False    False    False    False    True        \n",
      "'123abc'     False    False    True     False    False       \n",
      "''           False    False    False    False    False       \n"
     ]
    }
   ],
   "source": [
    "# String validation methods\n",
    "test_strings = [\n",
    "    '123',           # digits\n",
    "    'abc',           # alpha\n",
    "    'abc123',        # alphanumeric\n",
    "    'ABC',           # uppercase\n",
    "    'abc',           # lowercase\n",
    "    'Hello World',   # title case\n",
    "    '   ',           # whitespace\n",
    "    'hello_world',   # identifier\n",
    "    '123abc',        # mixed\n",
    "    '',              # empty\n",
    "]\n",
    "\n",
    "print(f\"String validation methods:\")\n",
    "print(f\"{'String':<12} {'isdigit':<8} {'isalpha':<8} {'isalnum':<8} {'isspace':<8} {'isidentifier':<12}\")\n",
    "print(\"-\" * 60)\n",
    "\n",
    "for s in test_strings:\n",
    "    display_s = repr(s) if len(s) < 8 else repr(s[:8] + '...')\n",
    "    print(f\"{display_s:<12} {str(s.isdigit()):<8} {str(s.isalpha()):<8} {str(s.isalnum()):<8} {str(s.isspace()):<8} {str(s.isidentifier()):<12}\")"
   ]
  },
  {
   "cell_type": "code",
   "execution_count": 12,
   "metadata": {},
   "outputs": [
    {
     "name": "stdout",
     "output_type": "stream",
     "text": [
      "\n",
      "isprintable() examples:\n",
      "  'hello'         -> True\n",
      "  'hello\\n'       -> False\n",
      "  'hello\\tworld'  -> False\n",
      "  '🐍'             -> True\n",
      "\n",
      "isdecimal() examples:\n",
      "  '123'           -> True\n",
      "  '123.45'        -> False\n",
      "  '½'             -> False\n",
      "  '²'             -> False\n",
      "\n",
      "isnumeric() examples:\n",
      "  '123'           -> True\n",
      "  '½'             -> True\n",
      "  '²'             -> True\n",
      "  'Ⅴ'             -> True\n",
      "  'hello'         -> False\n",
      "\n",
      "isascii() examples:\n",
      "  'hello'         -> True\n",
      "  'café'          -> False\n",
      "  '🐍'             -> False\n",
      "  'naïve'         -> False\n"
     ]
    }
   ],
   "source": [
    "# More validation methods\n",
    "test_cases = {\n",
    "    'isprintable': ['hello', 'hello\\n', 'hello\\tworld', '🐍'],\n",
    "    'isdecimal': ['123', '123.45', '½', '²'],\n",
    "    'isnumeric': ['123', '½', '²', 'Ⅴ', 'hello'],\n",
    "    'isascii': ['hello', 'café', '🐍', 'naïve']\n",
    "}\n",
    "\n",
    "for method, strings in test_cases.items():\n",
    "    print(f\"\\n{method}() examples:\")\n",
    "    for s in strings:\n",
    "        result = getattr(s, method)()\n",
    "        print(f\"  {repr(s):<15} -> {result}\")"
   ]
  },
  {
   "cell_type": "markdown",
   "metadata": {},
   "source": [
    "## 8. String Formatting - Multiple Techniques\n",
    "\n",
    "Python offers several ways to format strings:"
   ]
  },
  {
   "cell_type": "code",
   "execution_count": 13,
   "metadata": {},
   "outputs": [
    {
     "name": "stdout",
     "output_type": "stream",
     "text": [
      "String Formatting Techniques:\n",
      "========================================\n",
      "\n",
      "1. f-strings (recommended):\n",
      "Name: Alice\n",
      "Age: 25 years old\n",
      "Height: 5.75 feet\n",
      "Balance: $1234.56\n",
      "Student status: True\n",
      "Summary: Alice is 25 years old and is a student\n"
     ]
    }
   ],
   "source": [
    "# Variables for formatting examples\n",
    "name = \"Alice\"\n",
    "age = 25\n",
    "height = 5.75\n",
    "balance = 1234.56\n",
    "is_student = True\n",
    "\n",
    "print(\"String Formatting Techniques:\")\n",
    "print(\"=\" * 40)\n",
    "\n",
    "# 1. f-strings (Python 3.6+) - Recommended\n",
    "print(\"\\n1. f-strings (recommended):\")\n",
    "print(f\"Name: {name}\")\n",
    "print(f\"Age: {age} years old\")\n",
    "print(f\"Height: {height} feet\")\n",
    "print(f\"Balance: ${balance:.2f}\")\n",
    "print(f\"Student status: {is_student}\")\n",
    "print(f\"Summary: {name} is {age} years old and {'is' if is_student else 'is not'} a student\")"
   ]
  },
  {
   "cell_type": "code",
   "execution_count": 14,
   "metadata": {},
   "outputs": [
    {
     "name": "stdout",
     "output_type": "stream",
     "text": [
      "\n",
      "2. .format() method:\n",
      "Name: Alice\n",
      "Name: Alice, Age: 25\n",
      "Age: 25, Name: Alice\n",
      "Name: Alice, Age: 25\n",
      "Balance: $1234.56\n",
      "Height: 5.8 feet\n"
     ]
    }
   ],
   "source": [
    "# 2. .format() method\n",
    "print(\"\\n2. .format() method:\")\n",
    "print(\"Name: {}\".format(name))\n",
    "print(\"Name: {0}, Age: {1}\".format(name, age))\n",
    "print(\"Age: {1}, Name: {0}\".format(name, age))  # Different order\n",
    "print(\"Name: {name}, Age: {age}\".format(name=name, age=age))\n",
    "print(\"Balance: ${:.2f}\".format(balance))\n",
    "print(\"Height: {:.1f} feet\".format(height))"
   ]
  },
  {
   "cell_type": "code",
   "execution_count": 15,
   "metadata": {},
   "outputs": [
    {
     "name": "stdout",
     "output_type": "stream",
     "text": [
      "\n",
      "3. % formatting (old style):\n",
      "Name: Alice\n",
      "Name: Alice, Age: 25\n",
      "Balance: $1234.56\n",
      "Height: 5.8 feet\n",
      "Student: True\n"
     ]
    }
   ],
   "source": [
    "# 3. % formatting (old style, but still useful)\n",
    "print(\"\\n3. % formatting (old style):\")\n",
    "print(\"Name: %s\" % name)\n",
    "print(\"Name: %s, Age: %d\" % (name, age))\n",
    "print(\"Balance: $%.2f\" % balance)\n",
    "print(\"Height: %.1f feet\" % height)\n",
    "print(\"Student: %s\" % is_student)"
   ]
  },
  {
   "cell_type": "markdown",
   "metadata": {},
   "source": [
    "## 9. Advanced String Formatting\n",
    "\n",
    "Detailed formatting options and alignment:"
   ]
  },
  {
   "cell_type": "code",
   "execution_count": 16,
   "metadata": {},
   "outputs": [
    {
     "name": "stdout",
     "output_type": "stream",
     "text": [
      "Advanced f-string formatting:\n",
      "\n",
      "Alignment and width:\n",
      "Left aligned: 'Bob                 '\n",
      "Right aligned: '                 Bob'\n",
      "Center aligned: '        Bob         '\n",
      "Center with fill: '********Bob*********'\n",
      "\n",
      "Number formatting:\n",
      "Score with 2 decimals: 95.67\n",
      "Score with comma separator: 1,234\n",
      "Percentage: 87.5%\n",
      "Scientific notation: 1.23e+03\n",
      "Binary: 10011010010\n",
      "Hexadecimal: 4d2\n",
      "Octal: 2322\n"
     ]
    }
   ],
   "source": [
    "# Advanced f-string formatting\n",
    "name = \"Bob\"\n",
    "score = 95.67\n",
    "count = 1234\n",
    "percentage = 0.875\n",
    "\n",
    "print(\"Advanced f-string formatting:\")\n",
    "print(f\"\\nAlignment and width:\")\n",
    "print(f\"Left aligned: '{name:<20}'\")\n",
    "print(f\"Right aligned: '{name:>20}'\")\n",
    "print(f\"Center aligned: '{name:^20}'\")\n",
    "print(f\"Center with fill: '{name:*^20}'\")\n",
    "\n",
    "print(f\"\\nNumber formatting:\")\n",
    "print(f\"Score with 2 decimals: {score:.2f}\")\n",
    "print(f\"Score with comma separator: {count:,}\")\n",
    "print(f\"Percentage: {percentage:.1%}\")\n",
    "print(f\"Scientific notation: {count:.2e}\")\n",
    "print(f\"Binary: {count:b}\")\n",
    "print(f\"Hexadecimal: {count:x}\")\n",
    "print(f\"Octal: {count:o}\")"
   ]
  },
  {
   "cell_type": "code",
   "execution_count": 17,
   "metadata": {},
   "outputs": [
    {
     "name": "stdout",
     "output_type": "stream",
     "text": [
      "Number padding examples:\n",
      "Number:     5 | Zero-padded: 00005 | Right-aligned:        5\n",
      "Number:    42 | Zero-padded: 00042 | Right-aligned:       42\n",
      "Number:   123 | Zero-padded: 00123 | Right-aligned:      123\n",
      "Number:  1000 | Zero-padded: 01000 | Right-aligned:     1000\n",
      "\n",
      "Date and time formatting:\n",
      "Default: 2025-08-01 17:36:22.933830\n",
      "Date only: 2025-08-01\n",
      "Time only: 17:36:22\n",
      "Full format: Friday, August 01, 2025 at 05:36 PM\n"
     ]
    }
   ],
   "source": [
    "# Padding and zero-filling\n",
    "numbers = [5, 42, 123, 1000]\n",
    "print(\"Number padding examples:\")\n",
    "for num in numbers:\n",
    "    print(f\"Number: {num:5d} | Zero-padded: {num:05d} | Right-aligned: {num:>8}\")\n",
    "\n",
    "# Date and time formatting\n",
    "from datetime import datetime\n",
    "now = datetime.now()\n",
    "\n",
    "print(f\"\\nDate and time formatting:\")\n",
    "print(f\"Default: {now}\")\n",
    "print(f\"Date only: {now:%Y-%m-%d}\")\n",
    "print(f\"Time only: {now:%H:%M:%S}\")\n",
    "print(f\"Full format: {now:%A, %B %d, %Y at %I:%M %p}\")"
   ]
  },
  {
   "cell_type": "markdown",
   "metadata": {},
   "source": [
    "## 10. String Encoding and Decoding\n",
    "\n",
    "Working with different text encodings:"
   ]
  },
  {
   "cell_type": "code",
   "execution_count": 18,
   "metadata": {},
   "outputs": [
    {
     "name": "stdout",
     "output_type": "stream",
     "text": [
      "Original text: Hello, 世界! 🌍\n",
      "Type: <class 'str'>\n",
      "\n",
      "Encoded to bytes:\n",
      "UTF-8: b'Hello, \\xe4\\xb8\\x96\\xe7\\x95\\x8c! \\xf0\\x9f\\x8c\\x8d'\n",
      "ASCII (ignored): b'Hello, ! '\n",
      "Latin-1 (replaced): b'Hello, ??! ?'\n",
      "\n",
      "Decoded back:\n",
      "From UTF-8: Hello, 世界! 🌍\n",
      "From ASCII: Hello, ! \n"
     ]
    }
   ],
   "source": [
    "# String encoding and decoding\n",
    "text = \"Hello, 世界! 🌍\"\n",
    "print(f\"Original text: {text}\")\n",
    "print(f\"Type: {type(text)}\")\n",
    "\n",
    "# Encode to bytes\n",
    "utf8_bytes = text.encode('utf-8')\n",
    "ascii_bytes = text.encode('ascii', errors='ignore')  # Ignore non-ASCII\n",
    "latin1_bytes = text.encode('latin-1', errors='replace')  # Replace with ?\n",
    "\n",
    "print(f\"\\nEncoded to bytes:\")\n",
    "print(f\"UTF-8: {utf8_bytes}\")\n",
    "print(f\"ASCII (ignored): {ascii_bytes}\")\n",
    "print(f\"Latin-1 (replaced): {latin1_bytes}\")\n",
    "\n",
    "# Decode back to string\n",
    "decoded_utf8 = utf8_bytes.decode('utf-8')\n",
    "decoded_ascii = ascii_bytes.decode('ascii')\n",
    "\n",
    "print(f\"\\nDecoded back:\")\n",
    "print(f\"From UTF-8: {decoded_utf8}\")\n",
    "print(f\"From ASCII: {decoded_ascii}\")"
   ]
  },
  {
   "cell_type": "markdown",
   "metadata": {},
   "source": [
    "## 11. Regular Expressions Basics\n",
    "\n",
    "Introduction to pattern matching with regex:"
   ]
  },
  {
   "cell_type": "code",
   "execution_count": 19,
   "metadata": {},
   "outputs": [
    {
     "name": "stdout",
     "output_type": "stream",
     "text": [
      "Text: My phone number is 123-456-7890 and my email is user@example.com\n",
      "Phone found: 123-456-7890\n",
      "Email found: user@example.com\n",
      "All numbers: ['123', '456', '7890']\n"
     ]
    }
   ],
   "source": [
    "import re\n",
    "\n",
    "# Basic regex patterns\n",
    "text = \"My phone number is 123-456-7890 and my email is user@example.com\"\n",
    "print(f\"Text: {text}\")\n",
    "\n",
    "# Find phone number\n",
    "phone_pattern = r'\\d{3}-\\d{3}-\\d{4}'\n",
    "phone_match = re.search(phone_pattern, text)\n",
    "if phone_match:\n",
    "    print(f\"Phone found: {phone_match.group()}\")\n",
    "\n",
    "# Find email\n",
    "email_pattern = r'\\w+@\\w+\\.\\w+'\n",
    "email_match = re.search(email_pattern, text)\n",
    "if email_match:\n",
    "    print(f\"Email found: {email_match.group()}\")\n",
    "\n",
    "# Find all numbers\n",
    "numbers = re.findall(r'\\d+', text)\n",
    "print(f\"All numbers: {numbers}\")"
   ]
  },
  {
   "cell_type": "code",
   "execution_count": 20,
   "metadata": {},
   "outputs": [
    {
     "name": "stdout",
     "output_type": "stream",
     "text": [
      "Pattern matching examples:\n",
      "\n",
      "Text: Valid email: user@domain.com\n",
      "  Email found: user@domain.com\n",
      "\n",
      "Text: Invalid email: userdomaincom\n",
      "  No patterns found\n",
      "\n",
      "Text: Phone: (555) 123-4567\n",
      "  Phone found: (555) 123-4567\n",
      "\n",
      "Text: Phone: 555.123.4567\n",
      "  Phone found: 555.123.4567\n",
      "\n",
      "Text: Phone: 5551234567\n",
      "  Phone found: 5551234567\n"
     ]
    }
   ],
   "source": [
    "# Practical regex examples\n",
    "test_strings = [\n",
    "    \"Valid email: user@domain.com\",\n",
    "    \"Invalid email: userdomaincom\",\n",
    "    \"Phone: (555) 123-4567\",\n",
    "    \"Phone: 555.123.4567\",\n",
    "    \"Phone: 5551234567\",\n",
    "]\n",
    "\n",
    "# Email validation pattern\n",
    "email_pattern = r'\\b[A-Za-z0-9._%+-]+@[A-Za-z0-9.-]+\\.[A-Z|a-z]{2,}\\b'\n",
    "\n",
    "# Phone validation pattern (flexible)\n",
    "phone_pattern = r'\\(?\\d{3}\\)?[-.)\\s]?\\d{3}[-.)\\s]?\\d{4}'\n",
    "\n",
    "print(\"Pattern matching examples:\")\n",
    "for text in test_strings:\n",
    "    print(f\"\\nText: {text}\")\n",
    "    \n",
    "    email_found = re.search(email_pattern, text)\n",
    "    phone_found = re.search(phone_pattern, text)\n",
    "    \n",
    "    if email_found:\n",
    "        print(f\"  Email found: {email_found.group()}\")\n",
    "    if phone_found:\n",
    "        print(f\"  Phone found: {phone_found.group()}\")\n",
    "    if not email_found and not phone_found:\n",
    "        print(\"  No patterns found\")"
   ]
  },
  {
   "cell_type": "markdown",
   "metadata": {},
   "source": [
    "## 12. String Performance and Best Practices\n",
    "\n",
    "Tips for efficient string operations:"
   ]
  },
  {
   "cell_type": "code",
   "execution_count": 21,
   "metadata": {},
   "outputs": [
    {
     "name": "stdout",
     "output_type": "stream",
     "text": [
      "Concatenation performance test (1000 items):\n",
      "  += operator: 0.0000 seconds\n",
      "  join() method: 0.0010 seconds\n",
      "  f-string + join: 0.0000 seconds\n",
      "  Results equal: True\n"
     ]
    }
   ],
   "source": [
    "import time\n",
    "\n",
    "# String concatenation performance comparison\n",
    "def test_concatenation(n=1000):\n",
    "    \"\"\"Compare different string concatenation methods\"\"\"\n",
    "    \n",
    "    # Method 1: += operator (inefficient for many operations)\n",
    "    start = time.time()\n",
    "    result1 = \"\"\n",
    "    for i in range(n):\n",
    "        result1 += f\"item{i} \"\n",
    "    time1 = time.time() - start\n",
    "    \n",
    "    # Method 2: join() method (efficient)\n",
    "    start = time.time()\n",
    "    items = [f\"item{i} \" for i in range(n)]\n",
    "    result2 = \"\".join(items)\n",
    "    time2 = time.time() - start\n",
    "    \n",
    "    # Method 3: f-string with join (most readable)\n",
    "    start = time.time()\n",
    "    result3 = \" \".join(f\"item{i}\" for i in range(n)) + \" \"\n",
    "    time3 = time.time() - start\n",
    "    \n",
    "    print(f\"Concatenation performance test ({n} items):\")\n",
    "    print(f\"  += operator: {time1:.4f} seconds\")\n",
    "    print(f\"  join() method: {time2:.4f} seconds\")\n",
    "    print(f\"  f-string + join: {time3:.4f} seconds\")\n",
    "    print(f\"  Results equal: {result1 == result2 == result3}\")\n",
    "\n",
    "test_concatenation(1000)"
   ]
  },
  {
   "cell_type": "code",
   "execution_count": 22,
   "metadata": {},
   "outputs": [
    {
     "name": "stdout",
     "output_type": "stream",
     "text": [
      "String Best Practices:\n",
      "==============================\n",
      "1. F-strings are more readable:\n",
      "   Good: Hello, Alice! You are 25 years old.\n",
      "   Okay: Hello, Alice! You are 25 years old.\n",
      "\n",
      "2. Use join() for multiple strings:\n",
      "   Good: Python is awesome and powerful\n",
      "   Works but inefficient: Python is awesome and powerful\n",
      "\n",
      "3. Raw strings for regex:\n",
      "   Good: '\\\\d+\\\\.\\\\d+'\n",
      "   Bad: '\\\\d+\\\\.\\\\d+'\n",
      "   Both work: True\n"
     ]
    }
   ],
   "source": [
    "# String best practices\n",
    "print(\"String Best Practices:\")\n",
    "print(\"=\" * 30)\n",
    "\n",
    "# 1. Use f-strings for readability\n",
    "name, age = \"Alice\", 25\n",
    "# Good\n",
    "good_format = f\"Hello, {name}! You are {age} years old.\"\n",
    "# Less readable\n",
    "old_format = \"Hello, {}! You are {} years old.\".format(name, age)\n",
    "print(f\"1. F-strings are more readable:\")\n",
    "print(f\"   Good: {good_format}\")\n",
    "print(f\"   Okay: {old_format}\")\n",
    "\n",
    "# 2. Use join() for multiple concatenations\n",
    "words = ['Python', 'is', 'awesome', 'and', 'powerful']\n",
    "# Good\n",
    "good_join = \" \".join(words)\n",
    "# Inefficient\n",
    "bad_concat = \"\"\n",
    "for word in words:\n",
    "    bad_concat += word + \" \"\n",
    "bad_concat = bad_concat.strip()\n",
    "\n",
    "print(f\"\\n2. Use join() for multiple strings:\")\n",
    "print(f\"   Good: {good_join}\")\n",
    "print(f\"   Works but inefficient: {bad_concat}\")\n",
    "\n",
    "# 3. Use raw strings for regex patterns\n",
    "import re\n",
    "# Good - raw string\n",
    "pattern_good = r'\\d+\\.\\d+'\n",
    "# Bad - need to escape backslashes\n",
    "pattern_bad = '\\\\d+\\\\.\\\\d+'\n",
    "print(f\"\\n3. Raw strings for regex:\")\n",
    "print(f\"   Good: {repr(pattern_good)}\")\n",
    "print(f\"   Bad: {repr(pattern_bad)}\")\n",
    "print(f\"   Both work: {pattern_good == pattern_bad}\")"
   ]
  },
  {
   "cell_type": "markdown",
   "metadata": {},
   "source": [
    "## 13. Practice Exercises\n",
    "\n",
    "Let's practice string operations:"
   ]
  },
  {
   "cell_type": "code",
   "execution_count": 23,
   "metadata": {},
   "outputs": [
    {
     "name": "stdout",
     "output_type": "stream",
     "text": [
      "Text Analysis for: 'Python is a powerful programming language. It is easy to learn and versatile.'\n",
      "--------------------------------------------------\n",
      "Characters: 77\n",
      "Characters No Spaces: 65\n",
      "Words: 13\n",
      "Sentences: 2\n",
      "Avg Word Length: 4.85\n",
      "Longest Word: programming\n",
      "Most Common Char:  \n"
     ]
    }
   ],
   "source": [
    "# Exercise 1: Text analyzer\n",
    "def analyze_text(text):\n",
    "    \"\"\"Analyze text and return statistics\"\"\"\n",
    "    words = text.split()\n",
    "    sentences = text.split('.')\n",
    "    \n",
    "    stats = {\n",
    "        'characters': len(text),\n",
    "        'characters_no_spaces': len(text.replace(' ', '')),\n",
    "        'words': len(words),\n",
    "        'sentences': len([s for s in sentences if s.strip()]),\n",
    "        'avg_word_length': sum(len(word.strip('.,!?;:')) for word in words) / len(words) if words else 0,\n",
    "        'longest_word': max(words, key=len) if words else '',\n",
    "        'most_common_char': max(text.lower(), key=text.lower().count) if text else ''\n",
    "    }\n",
    "    return stats\n",
    "\n",
    "sample_text = \"Python is a powerful programming language. It is easy to learn and versatile.\"\n",
    "analysis = analyze_text(sample_text)\n",
    "\n",
    "print(f\"Text Analysis for: '{sample_text}'\")\n",
    "print(\"-\" * 50)\n",
    "for key, value in analysis.items():\n",
    "    if isinstance(value, float):\n",
    "        print(f\"{key.replace('_', ' ').title()}: {value:.2f}\")\n",
    "    else:\n",
    "        print(f\"{key.replace('_', ' ').title()}: {value}\")"
   ]
  },
  {
   "cell_type": "code",
   "execution_count": 24,
   "metadata": {},
   "outputs": [
    {
     "name": "stdout",
     "output_type": "stream",
     "text": [
      "Input Validation Results:\n",
      "============================================================\n",
      "\n",
      "Input: 'Hello123'\n",
      "  ✓ Not Empty: True\n",
      "  ✓ Min Length: True\n",
      "  ✓ Max Length: True\n",
      "  ✓ Has Letter: True\n",
      "  ✓ Has Digit: True\n",
      "  ✓ No Special Chars: True\n",
      "  ✓ Starts With Letter: True\n",
      "\n",
      "Input: 'Hi'\n",
      "  ✓ Not Empty: True\n",
      "  ✗ Min Length: False\n",
      "  ✓ Max Length: True\n",
      "  ✓ Has Letter: True\n",
      "  ✗ Has Digit: False\n",
      "  ✓ No Special Chars: True\n",
      "  ✓ Starts With Letter: True\n",
      "\n",
      "Input: '   '\n",
      "  ✗ Not Empty: False\n",
      "  ✓ Min Length: True\n",
      "  ✓ Max Length: True\n",
      "  ✗ Has Letter: False\n",
      "  ✗ Has Digit: False\n",
      "  ✗ No Special Chars: False\n",
      "  ✗ Starts With Letter: False\n",
      "\n",
      "Input: '123456'\n",
      "  ✓ Not Empty: True\n",
      "  ✓ Min Length: True\n",
      "  ✓ Max Length: True\n",
      "  ✗ Has Letter: False\n",
      "  ✓ Has Digit: True\n",
      "  ✓ No Special Chars: True\n",
      "  ✗ Starts With Letter: False\n",
      "\n",
      "Input: 'Hello@World'\n",
      "  ✓ Not Empty: True\n",
      "  ✓ Min Length: True\n",
      "  ✓ Max Length: True\n",
      "  ✓ Has Letter: True\n",
      "  ✗ Has Digit: False\n",
      "  ✗ No Special Chars: False\n",
      "  ✓ Starts With Letter: True\n",
      "\n",
      "Input: '9StartWithNumber'\n",
      "  ✓ Not Empty: True\n",
      "  ✓ Min Length: True\n",
      "  ✓ Max Length: True\n",
      "  ✓ Has Letter: True\n",
      "  ✓ Has Digit: True\n",
      "  ✓ No Special Chars: True\n",
      "  ✗ Starts With Letter: False\n"
     ]
    }
   ],
   "source": [
    "# Exercise 2: String validator\n",
    "def validate_input(text, rules):\n",
    "    \"\"\"Validate text against multiple rules\"\"\"\n",
    "    results = {}\n",
    "    \n",
    "    for rule_name, rule_func in rules.items():\n",
    "        try:\n",
    "            results[rule_name] = rule_func(text)\n",
    "        except Exception as e:\n",
    "            results[rule_name] = f\"Error: {e}\"\n",
    "    \n",
    "    return results\n",
    "\n",
    "# Define validation rules\n",
    "validation_rules = {\n",
    "    'not_empty': lambda x: len(x.strip()) > 0,\n",
    "    'min_length': lambda x: len(x) >= 3,\n",
    "    'max_length': lambda x: len(x) <= 50,\n",
    "    'has_letter': lambda x: any(c.isalpha() for c in x),\n",
    "    'has_digit': lambda x: any(c.isdigit() for c in x),\n",
    "    'no_special_chars': lambda x: x.replace(' ', '').isalnum(),\n",
    "    'starts_with_letter': lambda x: x[0].isalpha() if x else False,\n",
    "}\n",
    "\n",
    "# Test different inputs\n",
    "test_inputs = [\n",
    "    \"Hello123\",\n",
    "    \"Hi\",\n",
    "    \"   \",\n",
    "    \"123456\",\n",
    "    \"Hello@World\",\n",
    "    \"9StartWithNumber\"\n",
    "]\n",
    "\n",
    "print(\"Input Validation Results:\")\n",
    "print(\"=\" * 60)\n",
    "for test_input in test_inputs:\n",
    "    print(f\"\\nInput: '{test_input}'\")\n",
    "    results = validate_input(test_input, validation_rules)\n",
    "    for rule, result in results.items():\n",
    "        status = \"✓\" if result else \"✗\"\n",
    "        print(f\"  {status} {rule.replace('_', ' ').title()}: {result}\")"
   ]
  },
  {
   "cell_type": "code",
   "execution_count": 25,
   "metadata": {},
   "outputs": [
    {
     "name": "stdout",
     "output_type": "stream",
     "text": [
      "Formatted Student Table:\n",
      "+---------+-----+------------------+-----+\n",
      "| Name    | Age | Major            | GPA |\n",
      "+---------+-----+------------------+-----+\n",
      "| Alice   | 20  | Computer Science | 3.8 |\n",
      "| Bob     | 19  | Mathematics      | 3.6 |\n",
      "| Charlie | 21  | Physics          | 3.9 |\n",
      "| Diana   | 22  | Chemistry        | 3.7 |\n",
      "+---------+-----+------------------+-----+\n"
     ]
    }
   ],
   "source": [
    "# Exercise 3: Text formatter\n",
    "def format_text_table(data, headers):\n",
    "    \"\"\"Format data as a text table\"\"\"\n",
    "    # Calculate column widths\n",
    "    col_widths = []\n",
    "    for i, header in enumerate(headers):\n",
    "        max_width = len(header)\n",
    "        for row in data:\n",
    "            max_width = max(max_width, len(str(row[i])))\n",
    "        col_widths.append(max_width + 2)  # Add padding\n",
    "    \n",
    "    # Create table\n",
    "    separator = '+' + '+'.join('-' * width for width in col_widths) + '+'\n",
    "    \n",
    "    # Header\n",
    "    table = [separator]\n",
    "    header_row = '|' + '|'.join(f' {header:<{col_widths[i]-1}}' for i, header in enumerate(headers)) + '|'\n",
    "    table.append(header_row)\n",
    "    table.append(separator)\n",
    "    \n",
    "    # Data rows\n",
    "    for row in data:\n",
    "        data_row = '|' + '|'.join(f' {str(row[i]):<{col_widths[i]-1}}' for i in range(len(row))) + '|'\n",
    "        table.append(data_row)\n",
    "    \n",
    "    table.append(separator)\n",
    "    return '\\n'.join(table)\n",
    "\n",
    "# Test the table formatter\n",
    "student_data = [\n",
    "    ['Alice', 20, 'Computer Science', 3.8],\n",
    "    ['Bob', 19, 'Mathematics', 3.6],\n",
    "    ['Charlie', 21, 'Physics', 3.9],\n",
    "    ['Diana', 22, 'Chemistry', 3.7]\n",
    "]\n",
    "\n",
    "headers = ['Name', 'Age', 'Major', 'GPA']\n",
    "formatted_table = format_text_table(student_data, headers)\n",
    "\n",
    "print(\"Formatted Student Table:\")\n",
    "print(formatted_table)"
   ]
  },
  {
   "cell_type": "markdown",
   "metadata": {},
   "source": [
    "## Summary\n",
    "\n",
    "In this notebook, you learned about:\n",
    "\n",
    "✅ **String Creation**: Different ways to create and represent strings  \n",
    "✅ **Indexing & Slicing**: Accessing parts of strings  \n",
    "✅ **String Methods**: Case, whitespace, search, replace, split, join  \n",
    "✅ **String Validation**: Methods to check string content  \n",
    "✅ **String Formatting**: f-strings, .format(), % formatting  \n",
    "✅ **Encoding/Decoding**: Working with different text encodings  \n",
    "✅ **Regular Expressions**: Basic pattern matching  \n",
    "✅ **Performance**: Best practices for string operations  \n",
    "\n",
    "### Key Takeaways:\n",
    "1. Strings are immutable - operations return new strings\n",
    "2. Use f-strings for readable string formatting\n",
    "3. Use join() for efficient string concatenation\n",
    "4. Raw strings (r\"\") are useful for regex patterns\n",
    "5. Python handles Unicode seamlessly\n",
    "6. Many string methods return boolean values for validation\n",
    "\n",
    "### Next Topic: 03_numbers_and_math.ipynb\n",
    "Learn about numeric types, mathematical operations, and the math module."
   ]
  }
 ],
 "metadata": {
  "kernelspec": {
   "display_name": "Python 3 (ipykernel)",
   "language": "python",
   "name": "python3"
  },
  "language_info": {
   "codemirror_mode": {
    "name": "ipython",
    "version": 3
   },
   "file_extension": ".py",
   "mimetype": "text/x-python",
   "name": "python",
   "nbconvert_exporter": "python",
   "pygments_lexer": "ipython3",
   "version": "3.12.7"
  }
 },
 "nbformat": 4,
 "nbformat_minor": 4
}
