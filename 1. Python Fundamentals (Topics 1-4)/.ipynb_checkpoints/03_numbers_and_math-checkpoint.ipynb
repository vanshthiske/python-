{
 "cells": [
  {
   "cell_type": "markdown",
   "metadata": {},
   "source": [
    "# Topic 03: Numbers and Math Operations\n",
    "\n",
    "## Overview\n",
    "This notebook covers Python's numeric types, mathematical operations, and the math module for scientific computing.\n",
    "\n",
    "### What You'll Learn:\n",
    "- Numeric data types (int, float, complex, decimal, fractions)\n",
    "- Arithmetic operations and operator precedence\n",
    "- Math module functions and constants\n",
    "- Random number generation\n",
    "- Number formatting and precision\n",
    "\n",
    "---"
   ]
  },
  {
   "cell_type": "markdown",
   "metadata": {},
   "source": [
    "## 1. Numeric Data Types\n",
    "\n",
    "Python supports several numeric types with different characteristics:"
   ]
  },
  {
   "cell_type": "code",
   "execution_count": 1,
   "metadata": {},
   "outputs": [
    {
     "name": "stdout",
     "output_type": "stream",
     "text": [
      "Small integer: 42 (type: <class 'int'>)\n",
      "Large integer: 123456789012345678901234567890\n",
      "Length of large integer: 30 digits\n",
      "Negative integer: -789\n",
      "\n",
      "Integer operations:\n",
      "42 + 8 = 50\n",
      "42 - 8 = 34\n",
      "42 * 8 = 336\n",
      "42 / 8 = 5.25 (float result)\n",
      "42 // 8 = 5 (floor division)\n",
      "42 % 8 = 2 (modulus)\n",
      "42 ** 3 = 74088 (exponentiation)\n"
     ]
    }
   ],
   "source": [
    "# Integer - arbitrary precision\n",
    "small_int = 42\n",
    "large_int = 123456789012345678901234567890\n",
    "negative_int = -789\n",
    "\n",
    "print(f\"Small integer: {small_int} (type: {type(small_int)})\")\n",
    "print(f\"Large integer: {large_int}\")\n",
    "print(f\"Length of large integer: {len(str(large_int))} digits\")\n",
    "print(f\"Negative integer: {negative_int}\")\n",
    "\n",
    "# Integer operations\n",
    "print(f\"\\nInteger operations:\")\n",
    "print(f\"42 + 8 = {42 + 8}\")\n",
    "print(f\"42 - 8 = {42 - 8}\")\n",
    "print(f\"42 * 8 = {42 * 8}\")\n",
    "print(f\"42 / 8 = {42 / 8} (float result)\")\n",
    "print(f\"42 // 8 = {42 // 8} (floor division)\")\n",
    "print(f\"42 % 8 = {42 % 8} (modulus)\")\n",
    "print(f\"42 ** 3 = {42 ** 3} (exponentiation)\")"
   ]
  },
  {
   "cell_type": "code",
   "execution_count": 2,
   "metadata": {},
   "outputs": [
    {
     "name": "stdout",
     "output_type": "stream",
     "text": [
      "Float: 3.14159 (type: <class 'float'>)\n",
      "Scientific notation: 0.000123\n",
      "Large float: 12300000000.0\n",
      "\n",
      "Float precision:\n",
      "0.1 + 0.2 = 0.30000000000000004\n",
      "0.1 + 0.2 == 0.3: False\n",
      "Difference: 5.551115123125783e-17\n",
      "\n",
      "Special float values:\n",
      "Positive infinity: inf\n",
      "Negative infinity: -inf\n",
      "Not a Number: nan\n",
      "Is NaN?: True\n",
      "Is infinite?: True\n"
     ]
    }
   ],
   "source": [
    "# Float - 64-bit floating point\n",
    "float_num = 3.14159\n",
    "scientific = 1.23e-4  # 0.000123\n",
    "large_float = 1.23e10  # 12,300,000,000\n",
    "\n",
    "print(f\"Float: {float_num} (type: {type(float_num)})\")\n",
    "print(f\"Scientific notation: {scientific}\")\n",
    "print(f\"Large float: {large_float}\")\n",
    "\n",
    "# Float precision limitations\n",
    "print(f\"\\nFloat precision:\")\n",
    "print(f\"0.1 + 0.2 = {0.1 + 0.2}\")\n",
    "print(f\"0.1 + 0.2 == 0.3: {0.1 + 0.2 == 0.3}\")\n",
    "print(f\"Difference: {abs((0.1 + 0.2) - 0.3)}\")\n",
    "\n",
    "# Special float values\n",
    "import math\n",
    "print(f\"\\nSpecial float values:\")\n",
    "print(f\"Positive infinity: {math.inf}\")\n",
    "print(f\"Negative infinity: {-math.inf}\")\n",
    "print(f\"Not a Number: {math.nan}\")\n",
    "print(f\"Is NaN?: {math.isnan(math.nan)}\")\n",
    "print(f\"Is infinite?: {math.isinf(math.inf)}\")"
   ]
  },
  {
   "cell_type": "code",
   "execution_count": 3,
   "metadata": {},
   "outputs": [
    {
     "name": "stdout",
     "output_type": "stream",
     "text": [
      "Complex numbers:\n",
      "complex1: (3+4j) (type: <class 'complex'>)\n",
      "complex2: (5-2j)\n",
      "complex3: (2+0j)\n",
      "\n",
      "Complex number properties:\n",
      "Real part of (3+4j): 3.0\n",
      "Imaginary part of (3+4j): 4.0\n",
      "Conjugate of (3+4j): (3-4j)\n",
      "Magnitude of (3+4j): 5.0\n",
      "\n",
      "Complex arithmetic:\n",
      "(3+4j) + (5-2j) = (8+2j)\n",
      "(3+4j) * (5-2j) = (23+14j)\n",
      "(3+4j) / (5-2j) = (0.24137931034482757+0.896551724137931j)\n"
     ]
    }
   ],
   "source": [
    "# Complex numbers - a + bj\n",
    "complex1 = 3 + 4j\n",
    "complex2 = complex(5, -2)  # Alternative creation\n",
    "complex3 = 2 + 0j  # Real number as complex\n",
    "\n",
    "print(f\"Complex numbers:\")\n",
    "print(f\"complex1: {complex1} (type: {type(complex1)})\")\n",
    "print(f\"complex2: {complex2}\")\n",
    "print(f\"complex3: {complex3}\")\n",
    "\n",
    "print(f\"\\nComplex number properties:\")\n",
    "print(f\"Real part of {complex1}: {complex1.real}\")\n",
    "print(f\"Imaginary part of {complex1}: {complex1.imag}\")\n",
    "print(f\"Conjugate of {complex1}: {complex1.conjugate()}\")\n",
    "print(f\"Magnitude of {complex1}: {abs(complex1)}\")\n",
    "\n",
    "# Complex arithmetic\n",
    "print(f\"\\nComplex arithmetic:\")\n",
    "print(f\"{complex1} + {complex2} = {complex1 + complex2}\")\n",
    "print(f\"{complex1} * {complex2} = {complex1 * complex2}\")\n",
    "print(f\"{complex1} / {complex2} = {complex1 / complex2}\")"
   ]
  },
  {
   "cell_type": "markdown",
   "metadata": {},
   "source": [
    "## 2. Decimal and Fractions for Precision\n",
    "\n",
    "For financial calculations and exact arithmetic:"
   ]
  },
  {
   "cell_type": "code",
   "execution_count": 22,
   "metadata": {},
   "outputs": [
    {
     "name": "stdout",
     "output_type": "stream",
     "text": [
      "Decimal precision:\n",
      "Float: 0.1 + 0.2 = 0.30000000000000004\n",
      "Decimal: 0.1 + 0.2 = 0.3\n",
      "Decimal equality: 0.1 + 0.2 == 0.3: True\n",
      "\n",
      "High precision (50 digits): 0.33333333333333333333333333333333333333333333333333\n"
     ]
    }
   ],
   "source": [
    "from decimal import Decimal, getcontext\n",
    "\n",
    "# Decimal for exact decimal arithmetic\n",
    "print(\"Decimal precision:\")\n",
    "print(f\"Float: 0.1 + 0.2 = {0.1 + 0.2}\")\n",
    "\n",
    "# Create Decimal from string (recommended)\n",
    "d1 = Decimal('0.1')\n",
    "d2 = Decimal('0.2')\n",
    "d3 = Decimal('0.3')\n",
    "\n",
    "print(f\"Decimal: 0.1 + 0.2 = {d1 + d2}\")\n",
    "print(f\"Decimal equality: 0.1 + 0.2 == 0.3: {d1 + d2 == d3}\")\n",
    "\n",
    "# Set precision\n",
    "getcontext().prec = 50  # 50 decimal places\n",
    "high_precision = Decimal('1') / Decimal('3')\n",
    "print(f\"\\nHigh precision (50 digits): {high_precision}\")\n",
    "\n",
    "# Reset to default precision\n",
    "getcontext().prec = 28"
   ]
  },
  {
   "cell_type": "code",
   "execution_count": 23,
   "metadata": {},
   "outputs": [
    {
     "name": "stdout",
     "output_type": "stream",
     "text": [
      "Fraction arithmetic:\n",
      "1/3: 1/3\n",
      "2/6: 1/3\n",
      "1/4: 1/4\n",
      "1/3 == 2/6: True\n",
      "\n",
      "Fraction operations:\n",
      "1/3 + 1/4 = 7/12\n",
      "1/3 * 1/4 = 1/12\n",
      "1/3 / 1/4 = 4/3\n",
      "\n",
      "From different sources:\n",
      "From float 0.25: 1/4\n",
      "From string '3.14159': 314159/100000\n",
      "From Decimal '0.1': 1/10\n"
     ]
    }
   ],
   "source": [
    "from fractions import Fraction\n",
    "\n",
    "# Fractions for exact rational arithmetic\n",
    "print(\"Fraction arithmetic:\")\n",
    "frac1 = Fraction(1, 3)  # 1/3\n",
    "frac2 = Fraction(2, 6)  # 2/6 = 1/3\n",
    "frac3 = Fraction(1, 4)  # 1/4\n",
    "\n",
    "print(f\"1/3: {frac1}\")\n",
    "print(f\"2/6: {frac2}\")\n",
    "print(f\"1/4: {frac3}\")\n",
    "print(f\"1/3 == 2/6: {frac1 == frac2}\")\n",
    "\n",
    "print(f\"\\nFraction operations:\")\n",
    "print(f\"1/3 + 1/4 = {frac1 + frac3}\")\n",
    "print(f\"1/3 * 1/4 = {frac1 * frac3}\")\n",
    "print(f\"1/3 / 1/4 = {frac1 / frac3}\")\n",
    "\n",
    "# Create fractions from decimals and strings\n",
    "frac_from_float = Fraction(0.25)\n",
    "frac_from_string = Fraction('3.14159')\n",
    "frac_from_decimal = Fraction(Decimal('0.1'))\n",
    "\n",
    "print(f\"\\nFrom different sources:\")\n",
    "print(f\"From float 0.25: {frac_from_float}\")\n",
    "print(f\"From string '3.14159': {frac_from_string}\")\n",
    "print(f\"From Decimal '0.1': {frac_from_decimal}\")"
   ]
  },
  {
   "cell_type": "markdown",
   "metadata": {},
   "source": [
    "## 3. Arithmetic Operations and Precedence\n",
    "\n",
    "Understanding operator precedence and special operations:"
   ]
  },
  {
   "cell_type": "code",
   "execution_count": 6,
   "metadata": {},
   "outputs": [
    {
     "name": "stdout",
     "output_type": "stream",
     "text": [
      "Operator Precedence Examples:\n",
      "(highest to lowest: ** → */ → +-)\n",
      "\n",
      "2 + 3 ** 2 = 11 (3**2 first, then +2)\n",
      "(2 + 3) ** 2 = 25 (parentheses first)\n",
      "\n",
      "10 + 5 * 2 = 20 (5*2 first, then +10)\n",
      "(10 + 5) * 2 = 30 (parentheses first)\n",
      "\n",
      "20 / 4 * 2 = 10.0 (left-to-right: 20/4=5, then 5*2)\n",
      "20 / (4 * 2) = 2.5 (parentheses first)\n"
     ]
    }
   ],
   "source": [
    "# Operator precedence (highest to lowest)\n",
    "print(\"Operator Precedence Examples:\")\n",
    "print(\"(highest to lowest: ** → */ → +-)\")\n",
    "print()\n",
    "\n",
    "# Exponentiation has highest precedence\n",
    "result1 = 2 + 3 ** 2\n",
    "result2 = (2 + 3) ** 2\n",
    "print(f\"2 + 3 ** 2 = {result1} (3**2 first, then +2)\")\n",
    "print(f\"(2 + 3) ** 2 = {result2} (parentheses first)\")\n",
    "\n",
    "# Multiplication/Division before Addition/Subtraction\n",
    "result3 = 10 + 5 * 2\n",
    "result4 = (10 + 5) * 2\n",
    "print(f\"\\n10 + 5 * 2 = {result3} (5*2 first, then +10)\")\n",
    "print(f\"(10 + 5) * 2 = {result4} (parentheses first)\")\n",
    "\n",
    "# Left-to-right for same precedence\n",
    "result5 = 20 / 4 * 2\n",
    "result6 = 20 / (4 * 2)\n",
    "print(f\"\\n20 / 4 * 2 = {result5} (left-to-right: 20/4=5, then 5*2)\")\n",
    "print(f\"20 / (4 * 2) = {result6} (parentheses first)\")"
   ]
  },
  {
   "cell_type": "code",
   "execution_count": 7,
   "metadata": {},
   "outputs": [
    {
     "name": "stdout",
     "output_type": "stream",
     "text": [
      "Division Operations:\n",
      "Numbers: a=10, b=3\n",
      "True division (a / b): 3.3333333333333335 (always returns float)\n",
      "Floor division (a // b): 3 (rounds down to integer)\n",
      "Modulus (a % b): 1 (remainder)\n",
      "\n",
      "Verification: 3 * 3 + 1 = 10 (should equal 10)\n",
      "\n",
      "Negative numbers:\n",
      "-10 // 3 = -4 (floor division always rounds down)\n",
      "-10 % 3 = 2 (remainder has same sign as divisor)\n",
      "10 // -3 = -4\n",
      "10 % -3 = -2\n"
     ]
    }
   ],
   "source": [
    "# Division types and behavior\n",
    "print(\"Division Operations:\")\n",
    "a, b = 10, 3\n",
    "\n",
    "print(f\"Numbers: a={a}, b={b}\")\n",
    "print(f\"True division (a / b): {a / b} (always returns float)\")\n",
    "print(f\"Floor division (a // b): {a // b} (rounds down to integer)\")\n",
    "print(f\"Modulus (a % b): {a % b} (remainder)\")\n",
    "\n",
    "# Verify division relationship: a = (a // b) * b + (a % b)\n",
    "quotient = a // b\n",
    "remainder = a % b\n",
    "verification = quotient * b + remainder\n",
    "print(f\"\\nVerification: {quotient} * {b} + {remainder} = {verification} (should equal {a})\")\n",
    "\n",
    "# Negative number division\n",
    "print(f\"\\nNegative numbers:\")\n",
    "print(f\"-10 // 3 = {-10 // 3} (floor division always rounds down)\")\n",
    "print(f\"-10 % 3 = {-10 % 3} (remainder has same sign as divisor)\")\n",
    "print(f\"10 // -3 = {10 // -3}\")\n",
    "print(f\"10 % -3 = {10 % -3}\")"
   ]
  },
  {
   "cell_type": "markdown",
   "metadata": {},
   "source": [
    "## 4. Math Module Functions\n",
    "\n",
    "The math module provides mathematical functions and constants:"
   ]
  },
  {
   "cell_type": "code",
   "execution_count": 8,
   "metadata": {},
   "outputs": [
    {
     "name": "stdout",
     "output_type": "stream",
     "text": [
      "Mathematical Constants:\n",
      "π (pi): 3.141592653589793\n",
      "e (Euler's number): 2.718281828459045\n",
      "τ (tau = 2π): 6.283185307179586\n",
      "∞ (infinity): inf\n",
      "NaN (Not a Number): nan\n",
      "\n",
      "Power and Logarithmic Functions:\n",
      "sqrt(16) = 4.0\n",
      "pow(2, 4) = 16.0\n",
      "exp(1) = 2.718281828459045 (e^1)\n",
      "log(e) = 1.0 (natural log)\n",
      "log10(100) = 2.0 (base 10)\n",
      "log2(8) = 3.0 (base 2)\n",
      "log(8, 2) = 3.0 (custom base)\n"
     ]
    }
   ],
   "source": [
    "import math\n",
    "\n",
    "# Mathematical constants\n",
    "print(\"Mathematical Constants:\")\n",
    "print(f\"π (pi): {math.pi}\")\n",
    "print(f\"e (Euler's number): {math.e}\")\n",
    "print(f\"τ (tau = 2π): {math.tau}\")\n",
    "print(f\"∞ (infinity): {math.inf}\")\n",
    "print(f\"NaN (Not a Number): {math.nan}\")\n",
    "\n",
    "# Power and logarithmic functions\n",
    "print(f\"\\nPower and Logarithmic Functions:\")\n",
    "x = 16\n",
    "print(f\"sqrt({x}) = {math.sqrt(x)}\")\n",
    "print(f\"pow(2, 4) = {math.pow(2, 4)}\")\n",
    "print(f\"exp(1) = {math.exp(1)} (e^1)\")\n",
    "print(f\"log(e) = {math.log(math.e)} (natural log)\")\n",
    "print(f\"log10(100) = {math.log10(100)} (base 10)\")\n",
    "print(f\"log2(8) = {math.log2(8)} (base 2)\")\n",
    "print(f\"log(8, 2) = {math.log(8, 2)} (custom base)\")"
   ]
  },
  {
   "cell_type": "code",
   "execution_count": 9,
   "metadata": {},
   "outputs": [
    {
     "name": "stdout",
     "output_type": "stream",
     "text": [
      "Trigonometric Functions:\n",
      "Degrees  Radians    Sin        Cos        Tan       \n",
      "--------------------------------------------------\n",
      "0        0.0000     0.0000     1.0000     0.0000    \n",
      "30       0.5236     0.5000     0.8660     0.5774    \n",
      "45       0.7854     0.7071     0.7071     1.0000    \n",
      "60       1.0472     0.8660     0.5000     1.7321    \n",
      "90       1.5708     1.0000     0.0000     inf       \n",
      "\n",
      "Inverse Trigonometric Functions:\n",
      "asin(0.5) = 0.5236 radians = 30.0°\n",
      "acos(0.5) = 1.0472 radians = 60.0°\n",
      "atan(1) = 0.7854 radians = 45.0°\n"
     ]
    }
   ],
   "source": [
    "# Trigonometric functions (input in radians)\n",
    "print(\"Trigonometric Functions:\")\n",
    "angles_degrees = [0, 30, 45, 60, 90]\n",
    "print(f\"{'Degrees':<8} {'Radians':<10} {'Sin':<10} {'Cos':<10} {'Tan':<10}\")\n",
    "print(\"-\" * 50)\n",
    "\n",
    "for deg in angles_degrees:\n",
    "    rad = math.radians(deg)  # Convert degrees to radians\n",
    "    sin_val = math.sin(rad)\n",
    "    cos_val = math.cos(rad)\n",
    "    tan_val = math.tan(rad) if deg != 90 else float('inf')\n",
    "    \n",
    "    print(f\"{deg:<8} {rad:<10.4f} {sin_val:<10.4f} {cos_val:<10.4f} {tan_val:<10.4f}\")\n",
    "\n",
    "# Inverse trigonometric functions\n",
    "print(f\"\\nInverse Trigonometric Functions:\")\n",
    "print(f\"asin(0.5) = {math.asin(0.5):.4f} radians = {math.degrees(math.asin(0.5)):.1f}°\")\n",
    "print(f\"acos(0.5) = {math.acos(0.5):.4f} radians = {math.degrees(math.acos(0.5)):.1f}°\")\n",
    "print(f\"atan(1) = {math.atan(1):.4f} radians = {math.degrees(math.atan(1)):.1f}°\")"
   ]
  },
  {
   "cell_type": "code",
   "execution_count": 10,
   "metadata": {},
   "outputs": [
    {
     "name": "stdout",
     "output_type": "stream",
     "text": [
      "Rounding and Integer Functions:\n",
      "Number   ceil   floor   trunc   round  \n",
      "----------------------------------------\n",
      "4.2      5      4       4       4      \n",
      "4.7      5      4       4       5      \n",
      "-4.2     -4     -5      -4      -4     \n",
      "-4.7     -4     -5      -4      -5     \n",
      "4.5      5      4       4       4      \n",
      "-4.5     -4     -5      -4      -4     \n",
      "\n",
      "Other useful functions:\n",
      "abs(-5.3) = 5.3\n",
      "math.fabs(-5.3) = 5.3\n",
      "math.copysign(5, -1) = -5.0\n",
      "math.gcd(48, 18) = 6 (greatest common divisor)\n"
     ]
    }
   ],
   "source": [
    "# Rounding and integer functions\n",
    "print(\"Rounding and Integer Functions:\")\n",
    "numbers = [4.2, 4.7, -4.2, -4.7, 4.5, -4.5]\n",
    "\n",
    "print(f\"{'Number':<8} {'ceil':<6} {'floor':<7} {'trunc':<7} {'round':<7}\")\n",
    "print(\"-\" * 40)\n",
    "\n",
    "for num in numbers:\n",
    "    ceil_val = math.ceil(num)\n",
    "    floor_val = math.floor(num)\n",
    "    trunc_val = math.trunc(num)\n",
    "    round_val = round(num)\n",
    "    \n",
    "    print(f\"{num:<8} {ceil_val:<6} {floor_val:<7} {trunc_val:<7} {round_val:<7}\")\n",
    "\n",
    "# Absolute value and sign functions\n",
    "print(f\"\\nOther useful functions:\")\n",
    "print(f\"abs(-5.3) = {abs(-5.3)}\")\n",
    "print(f\"math.fabs(-5.3) = {math.fabs(-5.3)}\")\n",
    "print(f\"math.copysign(5, -1) = {math.copysign(5, -1)}\")\n",
    "print(f\"math.gcd(48, 18) = {math.gcd(48, 18)} (greatest common divisor)\")"
   ]
  },
  {
   "cell_type": "markdown",
   "metadata": {},
   "source": [
    "## 5. Random Number Generation\n",
    "\n",
    "The random module for generating random numbers:"
   ]
  },
  {
   "cell_type": "code",
   "execution_count": 11,
   "metadata": {},
   "outputs": [
    {
     "name": "stdout",
     "output_type": "stream",
     "text": [
      "Random Number Generation (seed=42 for reproducibility):\n",
      "\n",
      "Basic random functions:\n",
      "random(): 0.639427 (float between 0 and 1)\n",
      "uniform(1, 10): 1.2251 (float between 1 and 10)\n",
      "randint(1, 6): 3 (integer between 1 and 6, inclusive)\n",
      "randrange(0, 100, 5): 35 (multiple of 5 between 0 and 100)\n",
      "\n",
      "Random choices:\n",
      "choice(colors): green\n",
      "choices(colors, k=3): ['red', 'red', 'yellow'] (with replacement)\n",
      "sample(colors, 3): ['purple', 'red', 'blue'] (without replacement)\n",
      "\n",
      "Original deck: [1, 2, 3, 4, 5, 6, 7, 8, 9, 10]\n",
      "Shuffled deck: [5, 4, 3, 10, 6, 2, 8, 9, 1, 7]\n"
     ]
    }
   ],
   "source": [
    "import random\n",
    "\n",
    "# Set seed for reproducible results\n",
    "random.seed(42)\n",
    "print(\"Random Number Generation (seed=42 for reproducibility):\")\n",
    "\n",
    "# Basic random functions\n",
    "print(f\"\\nBasic random functions:\")\n",
    "print(f\"random(): {random.random():.6f} (float between 0 and 1)\")\n",
    "print(f\"uniform(1, 10): {random.uniform(1, 10):.4f} (float between 1 and 10)\")\n",
    "print(f\"randint(1, 6): {random.randint(1, 6)} (integer between 1 and 6, inclusive)\")\n",
    "print(f\"randrange(0, 100, 5): {random.randrange(0, 100, 5)} (multiple of 5 between 0 and 100)\")\n",
    "\n",
    "# Random choices\n",
    "colors = ['red', 'green', 'blue', 'yellow', 'purple']\n",
    "print(f\"\\nRandom choices:\")\n",
    "print(f\"choice(colors): {random.choice(colors)}\")\n",
    "print(f\"choices(colors, k=3): {random.choices(colors, k=3)} (with replacement)\")\n",
    "print(f\"sample(colors, 3): {random.sample(colors, 3)} (without replacement)\")\n",
    "\n",
    "# Shuffle a list\n",
    "deck = list(range(1, 11))\n",
    "print(f\"\\nOriginal deck: {deck}\")\n",
    "random.shuffle(deck)\n",
    "print(f\"Shuffled deck: {deck}\")"
   ]
  },
  {
   "cell_type": "code",
   "execution_count": 12,
   "metadata": {},
   "outputs": [
    {
     "name": "stdout",
     "output_type": "stream",
     "text": [
      "Random Statistical Distributions:\n",
      "(generating 5 samples each)\n",
      "\n",
      "Normal distribution (μ=0, σ=1):\n",
      "Samples: ['-0.329', '-1.519', '-0.955', '0.529', '-0.355']\n",
      "\n",
      "Exponential distribution (λ=1):\n",
      "Samples: ['1.422', '0.174', '0.549', '0.326', '0.242']\n",
      "\n",
      "Beta distribution (α=2, β=5):\n",
      "Samples: ['0.272', '0.114', '0.075', '0.406', '0.310']\n",
      "\n",
      "Dice Roll Simulation (100 rolls):\n",
      "  1: 12 times (12.0%)\n",
      "  2: 17 times (17.0%)\n",
      "  3: 17 times (17.0%)\n",
      "  4: 17 times (17.0%)\n",
      "  5: 14 times (14.0%)\n",
      "  6: 23 times (23.0%)\n"
     ]
    }
   ],
   "source": [
    "# Statistical distributions\n",
    "print(\"Random Statistical Distributions:\")\n",
    "print(\"(generating 5 samples each)\")\n",
    "\n",
    "# Normal (Gaussian) distribution\n",
    "print(f\"\\nNormal distribution (μ=0, σ=1):\")\n",
    "normal_samples = [random.gauss(0, 1) for _ in range(5)]\n",
    "print(f\"Samples: {[f'{x:.3f}' for x in normal_samples]}\")\n",
    "\n",
    "# Exponential distribution\n",
    "print(f\"\\nExponential distribution (λ=1):\")\n",
    "exp_samples = [random.expovariate(1) for _ in range(5)]\n",
    "print(f\"Samples: {[f'{x:.3f}' for x in exp_samples]}\")\n",
    "\n",
    "# Beta distribution\n",
    "print(f\"\\nBeta distribution (α=2, β=5):\")\n",
    "beta_samples = [random.betavariate(2, 5) for _ in range(5)]\n",
    "print(f\"Samples: {[f'{x:.3f}' for x in beta_samples]}\")\n",
    "\n",
    "# Practical example: Simulate dice rolls\n",
    "print(f\"\\nDice Roll Simulation (100 rolls):\")\n",
    "dice_rolls = [random.randint(1, 6) for _ in range(100)]\n",
    "for i in range(1, 7):\n",
    "    count = dice_rolls.count(i)\n",
    "    percentage = count / 100 * 100\n",
    "    print(f\"  {i}: {count} times ({percentage:.1f}%)\")"
   ]
  },
  {
   "cell_type": "markdown",
   "metadata": {},
   "source": [
    "## 6. Number Systems and Conversions\n",
    "\n",
    "Working with different number bases:"
   ]
  },
  {
   "cell_type": "code",
   "execution_count": 13,
   "metadata": {},
   "outputs": [
    {
     "name": "stdout",
     "output_type": "stream",
     "text": [
      "Number: 42 (decimal)\n",
      "\n",
      "Different bases:\n",
      "Binary: 0b101010 = 101010\n",
      "Octal: 0o52 = 52\n",
      "Hexadecimal: 0x2a = 2A\n",
      "\n",
      "Converting to decimal:\n",
      "Binary '101010' = 42\n",
      "Octal '52' = 42\n",
      "Hex '2A' = 42\n",
      "\n",
      "Custom base conversions for 255:\n",
      "Base 2: 11111111\n",
      "Base 8: 377\n",
      "Base 16: FF\n",
      "Base 36: 73\n"
     ]
    }
   ],
   "source": [
    "# Number base conversions\n",
    "number = 42\n",
    "print(f\"Number: {number} (decimal)\")\n",
    "print(f\"\\nDifferent bases:\")\n",
    "print(f\"Binary: {bin(number)} = {bin(number)[2:]}\")\n",
    "print(f\"Octal: {oct(number)} = {oct(number)[2:]}\")\n",
    "print(f\"Hexadecimal: {hex(number)} = {hex(number)[2:].upper()}\")\n",
    "\n",
    "# Convert from other bases to decimal\n",
    "print(f\"\\nConverting to decimal:\")\n",
    "binary_str = '101010'\n",
    "octal_str = '52'\n",
    "hex_str = '2A'\n",
    "\n",
    "print(f\"Binary '{binary_str}' = {int(binary_str, 2)}\")\n",
    "print(f\"Octal '{octal_str}' = {int(octal_str, 8)}\")\n",
    "print(f\"Hex '{hex_str}' = {int(hex_str, 16)}\")\n",
    "\n",
    "# Custom base conversion\n",
    "def to_base(number, base):\n",
    "    \"\"\"Convert number to given base\"\"\"\n",
    "    if number == 0:\n",
    "        return '0'\n",
    "    \n",
    "    digits = '0123456789ABCDEFGHIJKLMNOPQRSTUVWXYZ'\n",
    "    result = ''\n",
    "    \n",
    "    while number > 0:\n",
    "        result = digits[number % base] + result\n",
    "        number //= base\n",
    "    \n",
    "    return result\n",
    "\n",
    "print(f\"\\nCustom base conversions for 255:\")\n",
    "for base in [2, 8, 16, 36]:\n",
    "    converted = to_base(255, base)\n",
    "    print(f\"Base {base}: {converted}\")"
   ]
  },
  {
   "cell_type": "markdown",
   "metadata": {},
   "source": [
    "## 7. Number Formatting and Display\n",
    "\n",
    "Different ways to format and display numbers:"
   ]
  },
  {
   "cell_type": "code",
   "execution_count": 14,
   "metadata": {},
   "outputs": [
    {
     "name": "stdout",
     "output_type": "stream",
     "text": [
      "Number Formatting Examples:\n",
      "\n",
      "Original values:\n",
      "pi = 3.141592653589793\n",
      "large_number = 1234567.89\n",
      "small_number = 0.00012345\n",
      "\n",
      "Decimal places:\n",
      "pi to 2 places: 3.14\n",
      "pi to 5 places: 3.14159\n",
      "large_number to 1 place: 1234567.9\n",
      "\n",
      "Scientific notation:\n",
      "large_number: 1.23e+06\n",
      "small_number: 1.234e-04\n",
      "pi: 3.1416e+00\n",
      "\n",
      "Comma separators:\n",
      "large_number: 1,234,567.89\n",
      "1000000: 1,000,000\n",
      "1000000: 1_000_000\n"
     ]
    }
   ],
   "source": [
    "# Number formatting examples\n",
    "pi = math.pi\n",
    "large_number = 1234567.89\n",
    "small_number = 0.00012345\n",
    "\n",
    "print(\"Number Formatting Examples:\")\n",
    "print(f\"\\nOriginal values:\")\n",
    "print(f\"pi = {pi}\")\n",
    "print(f\"large_number = {large_number}\")\n",
    "print(f\"small_number = {small_number}\")\n",
    "\n",
    "print(f\"\\nDecimal places:\")\n",
    "print(f\"pi to 2 places: {pi:.2f}\")\n",
    "print(f\"pi to 5 places: {pi:.5f}\")\n",
    "print(f\"large_number to 1 place: {large_number:.1f}\")\n",
    "\n",
    "print(f\"\\nScientific notation:\")\n",
    "print(f\"large_number: {large_number:.2e}\")\n",
    "print(f\"small_number: {small_number:.3e}\")\n",
    "print(f\"pi: {pi:.4e}\")\n",
    "\n",
    "print(f\"\\nComma separators:\")\n",
    "print(f\"large_number: {large_number:,.2f}\")\n",
    "print(f\"1000000: {1000000:,}\")\n",
    "print(f\"1000000: {1000000:_}\")  # Underscore separator"
   ]
  },
  {
   "cell_type": "code",
   "execution_count": 15,
   "metadata": {},
   "outputs": [
    {
     "name": "stdout",
     "output_type": "stream",
     "text": [
      "Advanced Formatting:\n",
      "\n",
      "Percentage formatting:\n",
      "0.75 as percentage: 75.0%\n",
      "0.875 as percentage: 87.50%\n",
      "\n",
      "Padding and alignment:\n",
      "Right-aligned:      5 | Zero-padded: 000005 | Left-aligned: 5     \n",
      "Right-aligned:     42 | Zero-padded: 000042 | Left-aligned: 42    \n",
      "Right-aligned:    123 | Zero-padded: 000123 | Left-aligned: 123   \n",
      "Right-aligned:   1000 | Zero-padded: 001000 | Left-aligned: 1000  \n",
      "\n",
      "Signed numbers:\n",
      "Always show sign: +42 and -42\n",
      "Space for positive:  42 and -42\n",
      "\n",
      "Currency formatting:\n",
      "$    9.99\n",
      "$ 1299.50\n",
      "$    0.99\n"
     ]
    }
   ],
   "source": [
    "# Percentage and padding formatting\n",
    "fraction = 0.75\n",
    "numbers = [5, 42, 123, 1000]\n",
    "\n",
    "print(\"Advanced Formatting:\")\n",
    "print(f\"\\nPercentage formatting:\")\n",
    "print(f\"0.75 as percentage: {fraction:.1%}\")\n",
    "print(f\"0.875 as percentage: {0.875:.2%}\")\n",
    "\n",
    "print(f\"\\nPadding and alignment:\")\n",
    "for num in numbers:\n",
    "    print(f\"Right-aligned: {num:>6} | Zero-padded: {num:06} | Left-aligned: {num:<6}\")\n",
    "\n",
    "print(f\"\\nSigned numbers:\")\n",
    "positive = 42\n",
    "negative = -42\n",
    "print(f\"Always show sign: {positive:+} and {negative:+}\")\n",
    "print(f\"Space for positive: {positive: } and {negative: }\")\n",
    "\n",
    "# Currency formatting\n",
    "prices = [9.99, 1299.50, 0.99]\n",
    "print(f\"\\nCurrency formatting:\")\n",
    "for price in prices:\n",
    "    print(f\"${price:>8.2f}\")"
   ]
  },
  {
   "cell_type": "markdown",
   "metadata": {},
   "source": [
    "## 8. Mathematical Problem Solving\n",
    "\n",
    "Practical applications of mathematical operations:"
   ]
  },
  {
   "cell_type": "code",
   "execution_count": 16,
   "metadata": {},
   "outputs": [
    {
     "name": "stdout",
     "output_type": "stream",
     "text": [
      "Compound Interest Calculator:\n",
      "Principal: $10,000\n",
      "Annual rate: 5.0%\n",
      "Time: 10 years\n",
      "\n",
      "Annually       : Final amount = $16,288.95, Interest = $6,288.95\n",
      "Semi-annually  : Final amount = $16,386.16, Interest = $6,386.16\n",
      "Quarterly      : Final amount = $16,436.19, Interest = $6,436.19\n",
      "Monthly        : Final amount = $16,470.09, Interest = $6,470.09\n",
      "Daily          : Final amount = $16,486.65, Interest = $6,486.65\n"
     ]
    }
   ],
   "source": [
    "# Problem 1: Compound Interest Calculator\n",
    "def compound_interest(principal, rate, time, compounds_per_year=1):\n",
    "    \"\"\"Calculate compound interest\"\"\"\n",
    "    amount = principal * (1 + rate / compounds_per_year) ** (compounds_per_year * time)\n",
    "    interest = amount - principal\n",
    "    return amount, interest\n",
    "\n",
    "print(\"Compound Interest Calculator:\")\n",
    "principal = 10000  # $10,000\n",
    "annual_rate = 0.05  # 5%\n",
    "years = 10\n",
    "\n",
    "# Different compounding frequencies\n",
    "frequencies = {\n",
    "    'Annually': 1,\n",
    "    'Semi-annually': 2,\n",
    "    'Quarterly': 4,\n",
    "    'Monthly': 12,\n",
    "    'Daily': 365\n",
    "}\n",
    "\n",
    "print(f\"Principal: ${principal:,}\")\n",
    "print(f\"Annual rate: {annual_rate:.1%}\")\n",
    "print(f\"Time: {years} years\")\n",
    "print()\n",
    "\n",
    "for freq_name, freq_value in frequencies.items():\n",
    "    amount, interest = compound_interest(principal, annual_rate, years, freq_value)\n",
    "    print(f\"{freq_name:<15}: Final amount = ${amount:,.2f}, Interest = ${interest:,.2f}\")"
   ]
  },
  {
   "cell_type": "code",
   "execution_count": 17,
   "metadata": {},
   "outputs": [
    {
     "name": "stdout",
     "output_type": "stream",
     "text": [
      "Geometric Calculations:\n",
      "Distance between (3, 4) and (6, 8): 5.00\n",
      "3D distance between (1, 2, 3) and (4, 6, 8): 7.07\n",
      "\n",
      "Circle with radius 5:\n",
      "  Area: 78.54\n",
      "  Circumference: 31.42\n"
     ]
    }
   ],
   "source": [
    "# Problem 2: Distance and coordinate calculations\n",
    "def distance_2d(x1, y1, x2, y2):\n",
    "    \"\"\"Calculate distance between two 2D points\"\"\"\n",
    "    return math.sqrt((x2 - x1)**2 + (y2 - y1)**2)\n",
    "\n",
    "def distance_3d(x1, y1, z1, x2, y2, z2):\n",
    "    \"\"\"Calculate distance between two 3D points\"\"\"\n",
    "    return math.sqrt((x2 - x1)**2 + (y2 - y1)**2 + (z2 - z1)**2)\n",
    "\n",
    "def circle_area_circumference(radius):\n",
    "    \"\"\"Calculate circle area and circumference\"\"\"\n",
    "    area = math.pi * radius**2\n",
    "    circumference = 2 * math.pi * radius\n",
    "    return area, circumference\n",
    "\n",
    "print(\"Geometric Calculations:\")\n",
    "\n",
    "# Distance calculations\n",
    "point1 = (3, 4)\n",
    "point2 = (6, 8)\n",
    "dist_2d = distance_2d(*point1, *point2)\n",
    "print(f\"Distance between {point1} and {point2}: {dist_2d:.2f}\")\n",
    "\n",
    "point3d_1 = (1, 2, 3)\n",
    "point3d_2 = (4, 6, 8)\n",
    "dist_3d = distance_3d(*point3d_1, *point3d_2)\n",
    "print(f\"3D distance between {point3d_1} and {point3d_2}: {dist_3d:.2f}\")\n",
    "\n",
    "# Circle calculations\n",
    "radius = 5\n",
    "area, circumference = circle_area_circumference(radius)\n",
    "print(f\"\\nCircle with radius {radius}:\")\n",
    "print(f\"  Area: {area:.2f}\")\n",
    "print(f\"  Circumference: {circumference:.2f}\")"
   ]
  },
  {
   "cell_type": "code",
   "execution_count": 18,
   "metadata": {},
   "outputs": [
    {
     "name": "stdout",
     "output_type": "stream",
     "text": [
      "Statistical Analysis:\n",
      "Data: [85, 92, 78, 96, 88, 91, 84, 89, 93, 87]\n",
      "\n",
      "Count: 10\n",
      "Mean: 88.30\n",
      "Median: 88.50\n",
      "Variance: 26.68\n",
      "Std Dev: 5.17\n",
      "Min: 78\n",
      "Max: 96\n",
      "Range: 18\n"
     ]
    }
   ],
   "source": [
    "# Problem 3: Statistics calculations\n",
    "def statistics(data):\n",
    "    \"\"\"Calculate basic statistics for a dataset\"\"\"\n",
    "    n = len(data)\n",
    "    if n == 0:\n",
    "        return None\n",
    "    \n",
    "    # Central tendency\n",
    "    mean = sum(data) / n\n",
    "    sorted_data = sorted(data)\n",
    "    median = sorted_data[n//2] if n % 2 == 1 else (sorted_data[n//2-1] + sorted_data[n//2]) / 2\n",
    "    \n",
    "    # Spread\n",
    "    variance = sum((x - mean)**2 for x in data) / (n - 1) if n > 1 else 0\n",
    "    std_dev = math.sqrt(variance)\n",
    "    \n",
    "    # Range\n",
    "    data_range = max(data) - min(data)\n",
    "    \n",
    "    return {\n",
    "        'count': n,\n",
    "        'mean': mean,\n",
    "        'median': median,\n",
    "        'variance': variance,\n",
    "        'std_dev': std_dev,\n",
    "        'min': min(data),\n",
    "        'max': max(data),\n",
    "        'range': data_range\n",
    "    }\n",
    "\n",
    "# Test data\n",
    "test_scores = [85, 92, 78, 96, 88, 91, 84, 89, 93, 87]\n",
    "print(f\"Statistical Analysis:\")\n",
    "print(f\"Data: {test_scores}\")\n",
    "print()\n",
    "\n",
    "stats = statistics(test_scores)\n",
    "for key, value in stats.items():\n",
    "    if isinstance(value, float):\n",
    "        print(f\"{key.replace('_', ' ').title()}: {value:.2f}\")\n",
    "    else:\n",
    "        print(f\"{key.replace('_', ' ').title()}: {value}\")"
   ]
  },
  {
   "cell_type": "markdown",
   "metadata": {},
   "source": [
    "## 9. Practice Exercises\n",
    "\n",
    "Let's practice with mathematical problems:"
   ]
  },
  {
   "cell_type": "code",
   "execution_count": 19,
   "metadata": {},
   "outputs": [
    {
     "name": "stdout",
     "output_type": "stream",
     "text": [
      "Prime Number Exercise:\n",
      "17 is prime\n",
      "25 is not prime\n",
      "29 is prime\n",
      "33 is not prime\n",
      "97 is prime\n",
      "100 is not prime\n",
      "\n",
      "Primes up to 50: [2, 3, 5, 7, 11, 13, 17, 19, 23, 29, 31, 37, 41, 43, 47]\n",
      "Count: 15\n"
     ]
    }
   ],
   "source": [
    "# Exercise 1: Prime number checker and generator\n",
    "def is_prime(n):\n",
    "    \"\"\"Check if a number is prime\"\"\"\n",
    "    if n < 2:\n",
    "        return False\n",
    "    if n == 2:\n",
    "        return True\n",
    "    if n % 2 == 0:\n",
    "        return False\n",
    "    \n",
    "    # Check odd divisors up to sqrt(n)\n",
    "    for i in range(3, int(math.sqrt(n)) + 1, 2):\n",
    "        if n % i == 0:\n",
    "            return False\n",
    "    return True\n",
    "\n",
    "def generate_primes(limit):\n",
    "    \"\"\"Generate prime numbers up to limit\"\"\"\n",
    "    return [n for n in range(2, limit + 1) if is_prime(n)]\n",
    "\n",
    "print(\"Prime Number Exercise:\")\n",
    "test_numbers = [17, 25, 29, 33, 97, 100]\n",
    "for num in test_numbers:\n",
    "    print(f\"{num} is {'prime' if is_prime(num) else 'not prime'}\")\n",
    "\n",
    "primes_up_to_50 = generate_primes(50)\n",
    "print(f\"\\nPrimes up to 50: {primes_up_to_50}\")\n",
    "print(f\"Count: {len(primes_up_to_50)}\")"
   ]
  },
  {
   "cell_type": "code",
   "execution_count": 20,
   "metadata": {},
   "outputs": [
    {
     "name": "stdout",
     "output_type": "stream",
     "text": [
      "Fibonacci and Golden Ratio:\n",
      "First 15 Fibonacci numbers: [0, 1, 1, 2, 3, 5, 8, 13, 21, 34, 55, 89, 144, 233, 377]\n",
      "\n",
      "True golden ratio: 1.6180339887\n",
      "\n",
      "Fibonacci ratio approximations:\n",
      "  F(10)/F(9) = 1.6176470588 (error: 3.87e-04)\n",
      "  F(11)/F(10) = 1.6181818182 (error: 1.48e-04)\n",
      "  F(12)/F(11) = 1.6179775281 (error: 5.65e-05)\n",
      "  F(13)/F(12) = 1.6180555556 (error: 2.16e-05)\n",
      "  F(14)/F(13) = 1.6180257511 (error: 8.24e-06)\n"
     ]
    }
   ],
   "source": [
    "# Exercise 2: Fibonacci sequence and golden ratio\n",
    "def fibonacci(n):\n",
    "    \"\"\"Generate first n Fibonacci numbers\"\"\"\n",
    "    if n <= 0:\n",
    "        return []\n",
    "    elif n == 1:\n",
    "        return [0]\n",
    "    elif n == 2:\n",
    "        return [0, 1]\n",
    "    \n",
    "    fib = [0, 1]\n",
    "    for i in range(2, n):\n",
    "        fib.append(fib[i-1] + fib[i-2])\n",
    "    \n",
    "    return fib\n",
    "\n",
    "def golden_ratio_approximation(fib_sequence):\n",
    "    \"\"\"Approximate golden ratio using Fibonacci ratios\"\"\"\n",
    "    if len(fib_sequence) < 2:\n",
    "        return None\n",
    "    \n",
    "    ratios = []\n",
    "    for i in range(1, len(fib_sequence)):\n",
    "        if fib_sequence[i-1] != 0:\n",
    "            ratio = fib_sequence[i] / fib_sequence[i-1]\n",
    "            ratios.append(ratio)\n",
    "    \n",
    "    return ratios\n",
    "\n",
    "print(\"Fibonacci and Golden Ratio:\")\n",
    "fib_numbers = fibonacci(15)\n",
    "print(f\"First 15 Fibonacci numbers: {fib_numbers}\")\n",
    "\n",
    "ratios = golden_ratio_approximation(fib_numbers)\n",
    "golden_ratio = (1 + math.sqrt(5)) / 2\n",
    "print(f\"\\nTrue golden ratio: {golden_ratio:.10f}\")\n",
    "print(f\"\\nFibonacci ratio approximations:\")\n",
    "for i, ratio in enumerate(ratios[-5:], len(ratios)-4):  # Last 5 ratios\n",
    "    error = abs(ratio - golden_ratio)\n",
    "    print(f\"  F({i+1})/F({i}) = {ratio:.10f} (error: {error:.2e})\")"
   ]
  },
  {
   "cell_type": "code",
   "execution_count": 21,
   "metadata": {},
   "outputs": [
    {
     "name": "stdout",
     "output_type": "stream",
     "text": [
      "Number Theory Functions:\n",
      "\n",
      "GCD and LCM:\n",
      "  GCD(48, 18) = 6, LCM(48, 18) = 144\n",
      "  GCD(100, 75) = 25, LCM(100, 75) = 300\n",
      "  GCD(17, 13) = 1, LCM(17, 13) = 221\n",
      "\n",
      "Factorials:\n",
      "  0! = 1\n",
      "  1! = 1\n",
      "  2! = 2\n",
      "  3! = 6\n",
      "  4! = 24\n",
      "  5! = 120\n",
      "  6! = 720\n",
      "  7! = 5040\n",
      "\n",
      "Combinations C(10, r):\n",
      "  C(10, 0) = 1\n",
      "  C(10, 1) = 10\n",
      "  C(10, 2) = 45\n",
      "  C(10, 3) = 120\n",
      "  C(10, 4) = 210\n",
      "  C(10, 5) = 252\n"
     ]
    }
   ],
   "source": [
    "# Exercise 3: Number theory functions\n",
    "def gcd(a, b):\n",
    "    \"\"\"Greatest Common Divisor using Euclidean algorithm\"\"\"\n",
    "    while b:\n",
    "        a, b = b, a % b\n",
    "    return a\n",
    "\n",
    "def lcm(a, b):\n",
    "    \"\"\"Least Common Multiple\"\"\"\n",
    "    return abs(a * b) // gcd(a, b)\n",
    "\n",
    "def factorial(n):\n",
    "    \"\"\"Calculate factorial\"\"\"\n",
    "    if n < 0:\n",
    "        return None\n",
    "    if n <= 1:\n",
    "        return 1\n",
    "    return n * factorial(n - 1)\n",
    "\n",
    "def combinations(n, r):\n",
    "    \"\"\"Calculate combinations C(n,r) = n! / (r! * (n-r)!)\"\"\"\n",
    "    if r > n or r < 0:\n",
    "        return 0\n",
    "    return factorial(n) // (factorial(r) * factorial(n - r))\n",
    "\n",
    "print(\"Number Theory Functions:\")\n",
    "print(f\"\\nGCD and LCM:\")\n",
    "pairs = [(48, 18), (100, 75), (17, 13)]\n",
    "for a, b in pairs:\n",
    "    print(f\"  GCD({a}, {b}) = {gcd(a, b)}, LCM({a}, {b}) = {lcm(a, b)}\")\n",
    "\n",
    "print(f\"\\nFactorials:\")\n",
    "for n in range(0, 8):\n",
    "    print(f\"  {n}! = {factorial(n)}\")\n",
    "\n",
    "print(f\"\\nCombinations C(10, r):\")\n",
    "for r in range(0, 6):\n",
    "    print(f\"  C(10, {r}) = {combinations(10, r)}\")"
   ]
  },
  {
   "cell_type": "markdown",
   "metadata": {},
   "source": [
    "## Summary\n",
    "\n",
    "In this notebook, you learned about:\n",
    "\n",
    "✅ **Numeric Types**: int, float, complex, Decimal, Fraction  \n",
    "✅ **Arithmetic Operations**: Basic operations and precedence rules  \n",
    "✅ **Math Module**: Mathematical functions and constants  \n",
    "✅ **Random Numbers**: Generation and statistical distributions  \n",
    "✅ **Number Systems**: Binary, octal, hexadecimal conversions  \n",
    "✅ **Formatting**: Various ways to display numbers  \n",
    "✅ **Problem Solving**: Practical mathematical applications  \n",
    "\n",
    "### Key Takeaways:\n",
    "1. Python integers have arbitrary precision\n",
    "2. Use Decimal for financial calculations requiring exact precision\n",
    "3. Fractions provide exact rational arithmetic\n",
    "4. The math module offers comprehensive mathematical functions\n",
    "5. Random module supports various probability distributions\n",
    "6. Floating-point arithmetic has precision limitations\n",
    "7. Always consider operator precedence in complex expressions\n",
    "\n",
    "### Next Topic: 04_input_output.ipynb\n",
    "Learn about input/output operations, file handling, and user interaction."
   ]
  }
 ],
 "metadata": {
  "kernelspec": {
   "display_name": "Python 3 (ipykernel)",
   "language": "python",
   "name": "python3"
  },
  "language_info": {
   "codemirror_mode": {
    "name": "ipython",
    "version": 3
   },
   "file_extension": ".py",
   "mimetype": "text/x-python",
   "name": "python",
   "nbconvert_exporter": "python",
   "pygments_lexer": "ipython3",
   "version": "3.12.7"
  }
 },
 "nbformat": 4,
 "nbformat_minor": 4
}
