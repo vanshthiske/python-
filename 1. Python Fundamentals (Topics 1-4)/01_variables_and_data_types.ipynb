{
"cells": [
{
"cell_type": "markdown",
"metadata": {},
"source": [
"# Topic 01: Variables and Data Types\n",
"\n",
"## Overview\n",
"This notebook covers Python's fundamental data types, variable assignment patterns, and type operations.\n",
"\n",
"### What You'll Learn:\n",
"- Basic data types (int, float, str, bool, None)\n",
"- Type conversion and checking\n",
"- Variable assignment patterns\n",
"- Memory and identity concepts\n",
"- Naming conventions\n",
"\n",
"---"
]
},
{
"cell_type": "markdown",
"metadata": {},
"source": [
"## 1. Basic Data Types\n",
"\n",
"Python has several built-in data types. Let's explore each one:"
]
},
{
"cell_type": "code",
"execution_count": null,
"metadata": {},
"outputs": [],
"source": [
"# Integer - whole numbers\n",
"integer_var = 42\n",
"print(f\"Integer: {integer_var} (type: {type(integer_var)})\")\n",
"print(f\"Size in memory: {integer_var.__sizeof__()} bytes\")\n",
"\n",
"# Large integers (Python handles arbitrary precision)\n",
"large_int = 123456789012345678901234567890\n",
"print(f\"Large integer: {large_int}\")\n",
"print(f\"Type: {type(large_int)}\")"
]
},
{
"cell_type": "code",
"execution_count": null,
"metadata": {},
"outputs": [],
"source": [
"# Float - decimal numbers (64-bit floating point)\n",
"float_var = 3.14159\n",
"scientific_notation = 1.23e-4  # 0.000123\n",
"print(f\"Float: {float_var} (type: {type(float_var)})\")\n",
"print(f\"Scientific notation: {scientific_notation}\")\n",
"\n",
"# Special float values\n",
"import math\n",
"print(f\"Infinity: {math.inf}\")\n",
"print(f\"Negative infinity: {-math.inf}\")\n",
"print(f\"Not a Number: {math.nan}\")"
]
},
{
"cell_type": "code",
"execution_count": null,
"metadata": {},
"outputs": [],
"source": [
"# String - text data (Unicode)\n",
"string_var = \"Hello, Python!\"\n",
"multiline_string = \"\"\"This is a\n",
"multiline string\n",
"example\"\"\"\n",
"raw_string = r\"Raw string \\n no escape sequences\"\n",
"unicode_string = \"Unicode: ñ, é, 中文, 🐍\"\n",
"\n",
"print(f\"String: {string_var} (type: {type(string_var)})\")\n",
"print(f\"Length: {len(string_var)}\")\n",
"print(f\"\\nMultiline string:\\n{multiline_string}\")\n",
"print(f\"\\nRaw string: {raw_string}\")\n",
"print(f\"Unicode string: {unicode_string}\")"
]
},
{
"cell_type": "code",
"execution_count": null,
"metadata": {},
"outputs": [],
"source": [
"# Boolean - True/False values\n",
"boolean_true = True\n",
"boolean_false = False\n",
"\n",
"print(f\"Boolean True: {boolean_true} (type: {type(boolean_true)})\")\n",
"print(f\"Boolean False: {boolean_false} (type: {type(boolean_false)})\")\n",
"\n",
"# Boolean operations\n",
"print(f\"\\nBoolean operations:\")\n",
"print(f\"True and False: {True and False}\")\n",
"print(f\"True or False: {True or False}\")\n",
"print(f\"not True: {not True}\")"
]
},
{
"cell_type": "code",
"execution_count": null,
"metadata": {},
"outputs": [],
"source": [
"# None - represents absence of value\n",
"none_var = None\n",
"print(f\"None: {none_var} (type: {type(none_var)})\")\n",
"\n",
"# Common use cases for None\n",
"def get_user_input():\n",
"    # Simulate function that might not return a value\n",
"    return None\n",
"\n",
"result = get_user_input()\n",
"if result is None:\n",
"    print(\"No value returned\")\n",
"else:\n",
"    print(f\"Value: {result}\")"
]
},
{
"cell_type": "code",
"execution_count": null,
"metadata": {},
"outputs": [],
"source": [
"# Complex numbers - real + imaginary parts\n",
"complex_var = 3 + 4j\n",
"complex_var2 = complex(5, -2)  # Alternative way to create\n",
"\n",
"print(f\"Complex: {complex_var} (type: {type(complex_var)})\")\n",
"print(f\"Real part: {complex_var.real}\")\n",
"print(f\"Imaginary part: {complex_var.imag}\")\n",
"print(f\"Magnitude: {abs(complex_var)}\")\n",
"\n",
"# Complex arithmetic\n",
"result = complex_var + complex_var2\n",
"print(f\"\\n{complex_var} + {complex_var2} = {result}\")"
]
},
{
"cell_type": "markdown",
"metadata": {},
"source": [
"## 2. Type Conversion\n",
"\n",
"Python allows you to convert between different data types:"
]
},
{
"cell_type": "code",
"execution_count": null,
"metadata": {},
"outputs": [],
"source": [
"# String to numeric conversions\n",
"str_number = \"123\"\n",
"str_float = \"3.14\"\n",
"str_boolean = \"True\"\n",
"\n",
"print(\"String to other types:\")\n",
"print(f\"int('{str_number}') = {int(str_number)}\")\n",
"print(f\"float('{str_float}') = {float(str_float)}\")\n",
"print(f\"float('{str_number}') = {float(str_number)}\")\n",
"\n",
"# Numeric to string conversions\n",
"number = 456\n",
"pi = 3.14159\n",
"print(f\"\\nNumeric to string:\")\n",
"print(f\"str({number}) = '{str(number)}'\")\n",
"print(f\"str({pi}) = '{str(pi)}'\")"
]
},
{
"cell_type": "code",
"execution_count": null,
"metadata": {},
"outputs": [],
"source": [
"# Boolean conversions - what evaluates to True/False\n",
"print(\"Boolean conversions:\")\n",
"print(\"\\nFalsy values (evaluate to False):\")\n",
"falsy_values = [0, 0.0, '', [], {}, set(), None, False]\n",
"for value in falsy_values:\n",
"    print(f\"bool({repr(value)}) = {bool(value)}\")\n",
"\n",
"print(\"\\nTruthy values (evaluate to True):\")\n",
"truthy_values = [1, -1, 0.1, 'hello', [1], {'a': 1}, {1}, True]\n",
"for value in truthy_values:\n",
"    print(f\"bool({repr(value)}) = {bool(value)}\")"
]
},
{
"cell_type": "code",
"execution_count": null,
"metadata": {},
"outputs": [],
"source": [
"# Handling conversion errors\n",
"print(\"Handling conversion errors:\")\n",
"\n",
"# This will cause an error if uncommented:\n",
"# invalid_conversion = int(\"hello\")\n",
"\n",
"# Safe conversion with error handling\n",
"def safe_int_conversion(value):\n",
"    try:\n",
"        return int(value)\n",
"    except ValueError:\n",
"        return f\"Cannot convert '{value}' to integer\"\n",
"\n",
"test_values = ['123', '45.67', 'hello', '3.14']\n",
"for value in test_values:\n",
"    result = safe_int_conversion(value)\n",
"    print(f\"safe_int_conversion('{value}') = {result}\")"
]
},
{
"cell_type": "markdown",
"metadata": {},
"source": [
"## 3. Variable Assignment Patterns\n",
"\n",
"Python offers flexible ways to assign values to variables:"
]
},
{
"cell_type": "code",
"execution_count": null,
"metadata": {},
"outputs": [],
"source": [
"# Basic assignment\n",
"name = \"Alice\"\n",
"age = 25\n",
"print(f\"Basic assignment: {name}, {age}\")\n",
"\n",
"# Multiple assignment (tuple unpacking)\n",
"a, b, c = 1, 2, 3\n",
"print(f\"Multiple assignment: a={a}, b={b}, c={c}\")\n",
"\n",
"# Same value to multiple variables\n",
"x = y = z = 10\n",
"print(f\"Same value assignment: x={x}, y={y}, z={z}\")"
]
},
{
"cell_type": "code",
"execution_count": null,
"metadata": {},
"outputs": [],
"source": [
"# Variable swapping (Pythonic way)\n",
"a, b = 100, 200\n",
"print(f\"Before swap: a={a}, b={b}\")\n",
"\n",
"a, b = b, a  # Swap without temporary variable\n",
"print(f\"After swap: a={a}, b={b}\")\n",
"\n",
"# Extended unpacking (Python 3.0+)\n",
"numbers = [1, 2, 3, 4, 5, 6]\n",
"first, *middle, last = numbers\n",
"print(f\"\\nExtended unpacking:\")\n",
"print(f\"First: {first}\")\n",
"print(f\"Middle: {middle}\")\n",
"print(f\"Last: {last}\")"
]
},
{
"cell_type": "code",
"execution_count": null,
"metadata": {},
"outputs": [],
"source": [
"# Unpacking with different patterns\n",
"coordinates = (10, 20, 30)\n",
"x, y, z = coordinates\n",
"print(f\"Coordinate unpacking: x={x}, y={y}, z={z}\")\n",
"\n",
"# Ignoring values with underscore\n",
"data = (\"Alice\", 25, \"Engineer\", \"New York\")\n",
"name, age, _, city = data  # Ignore occupation\n",
"print(f\"Selective unpacking: {name}, {age}, {city}\")\n",
"\n",
"# Nested unpacking\n",
"nested_data = ((1, 2), (3, 4))\n",
"(a, b), (c, d) = nested_data\n",
"print(f\"Nested unpacking: a={a}, b={b}, c={c}, d={d}\")"
]
},
{
"cell_type": "markdown",
"metadata": {},
"source": [
"## 4. Variable Naming Conventions\n",
"\n",
"Python follows specific naming conventions (PEP 8):"
]
},
{
"cell_type": "code",
"execution_count": null,
"metadata": {},
"outputs": [],
"source": [
"# Naming conventions\n",
"snake_case_variable = \"Standard variable naming\"\n",
"CONSTANT_VALUE = \"Constants in uppercase\"\n",
"_internal_variable = \"Internal use (single underscore)\"\n",
"__private_variable = \"Private variable (double underscore)\"\n",
"\n",
"print(f\"Snake case: {snake_case_variable}\")\n",
"print(f\"Constant: {CONSTANT_VALUE}\")\n",
"print(f\"Internal: {_internal_variable}\")\n",
"print(f\"Private: {__private_variable}\")\n",
"\n",
"# Valid variable names\n",
"valid_names = [\n",
"    \"user_name\",\n",
"    \"userName\",  # camelCase (less common in Python)\n",
"    \"user2\",\n",
"    \"_temp\",\n",
"    \"MAX_SIZE\"\n",
"]\n",
"\n",
"# Invalid variable names (would cause syntax errors):\n",
"# 2user (starts with number)\n",
"# user-name (contains hyphen)\n",
"# class (reserved keyword)\n",
"\n",
"print(f\"\\nValid variable names: {valid_names}\")"
]
},
{
"cell_type": "code",
"execution_count": null,
"metadata": {},
"outputs": [],
"source": [
"# Reserved keywords (cannot be used as variable names)\n",
"import keyword\n",
"\n",
"print(\"Python reserved keywords:\")\n",
"keywords = keyword.kwlist\n",
"for i, kw in enumerate(keywords, 1):\n",
"    print(f\"{kw:<12}\", end=\"\")\n",
"    if i % 6 == 0:  # New line every 6 keywords\n",
"        print()\n",
"\n",
"print(f\"\\n\\nTotal keywords: {len(keywords)}\")"
]
},
{
"cell_type": "markdown",
"metadata": {},
"source": [
"## 5. Memory and Identity\n",
"\n",
"Understanding how Python manages memory and object identity:"
]
},
{
"cell_type": "code",
"execution_count": null,
"metadata": {},
"outputs": [],
"source": [
"# Identity vs Equality\n",
"list1 = [1, 2, 3]\n",
"list2 = [1, 2, 3]\n",
"list3 = list1\n",
"\n",
"print(f\"list1: {list1} (id: {id(list1)})\")\n",
"print(f\"list2: {list2} (id: {id(list2)})\")\n",
"print(f\"list3: {list3} (id: {id(list3)})\")\n",
"\n",
"print(f\"\\nEquality (same values):\")\n",
"print(f\"list1 == list2: {list1 == list2}\")\n",
"print(f\"list1 == list3: {list1 == list3}\")\n",
"\n",
"print(f\"\\nIdentity (same object):\")\n",
"print(f\"list1 is list2: {list1 is list2}\")\n",
"print(f\"list1 is list3: {list1 is list3}\")"
]
},
{
"cell_type": "code",
"execution_count": null,
"metadata": {},
"outputs": [],
"source": [
"# Small integer caching (Python optimization)\n",
"a = 256\n",
"b = 256\n",
"print(f\"Small integers (256):\")\n",
"print(f\"a is b: {a is b}\")\n",
"print(f\"id(a): {id(a)}, id(b): {id(b)}\")\n",
"\n",
"# Larger integers\n",
"c = 257\n",
"d = 257\n",
"print(f\"\\nLarger integers (257):\")\n",
"print(f\"c is d: {c is d}\")\n",
"print(f\"id(c): {id(c)}, id(d): {id(d)}\")\n",
"\n",
"# String interning\n",
"str1 = \"hello\"\n",
"str2 = \"hello\"\n",
"print(f\"\\nString interning:\")\n",
"print(f\"str1 is str2: {str1 is str2}\")\n",
"print(f\"id(str1): {id(str1)}, id(str2): {id(str2)}\")"
]
},
{
"cell_type": "code",
"execution_count": null,
"metadata": {},
"outputs": [],
"source": [
"# Mutable vs Immutable objects\n",
"print(\"Mutable vs Immutable objects:\")\n",
"\n",
"# Immutable: int, float, str, tuple, frozenset\n",
"immutable_examples = {\n",
"    'int': 42,\n",
"    'float': 3.14,\n",
"    'str': \"hello\",\n",
"    'tuple': (1, 2, 3),\n",
"    'frozenset': frozenset([1, 2, 3])\n",
"}\n",
"\n",
"# Mutable: list, dict, set\n",
"mutable_examples = {\n",
"    'list': [1, 2, 3],\n",
"    'dict': {'a': 1, 'b': 2},\n",
"    'set': {1, 2, 3}\n",
"}\n",
"\n",
"print(\"\\nImmutable types:\")\n",
"for name, obj in immutable_examples.items():\n",
"    print(f\"{name}: {obj} (hashable: {obj.__hash__ is not None})\")\n",
"\n",
"print(\"\\nMutable types:\")\n",
"for name, obj in mutable_examples.items():\n",
"    try:\n",
"        hashable = obj.__hash__ is not None\n",
"    except AttributeError:\n",
"        hashable = False\n",
"    print(f\"{name}: {obj} (hashable: {hashable})\")"
]
},
{
"cell_type": "markdown",
"metadata": {},
"source": [
"## 6. Type Checking and Introspection\n",
"\n",
"Tools for examining and verifying data types:"
]
},
{
"cell_type": "code",
"execution_count": null,
"metadata": {},
"outputs": [],
"source": [
"# Type checking functions\n",
"def analyze_type(value):\n",
"    \"\"\"Analyze the type and properties of a value\"\"\"\n",
"    print(f\"Value: {repr(value)}\")\n",
"    print(f\"  Type: {type(value)}\")\n",
"    print(f\"  Type name: {type(value).__name__}\")\n",
"    print(f\"  isinstance(int): {isinstance(value, int)}\")\n",
"    print(f\"  isinstance(str): {isinstance(value, str)}\")\n",
"    print(f\"  isinstance((int, float)): {isinstance(value, (int, float))}\")\n",
"    \n",
"    # Check if hashable\n",
"    try:\n",
"        hash(value)\n",
"        hashable = True\n",
"    except TypeError:\n",
"        hashable = False\n",
"    print(f\"  Hashable: {hashable}\")\n",
"    print()\n",
"\n",
"# Test different values\n",
"test_values = [42, 3.14, \"hello\", True, None, [1, 2, 3], {\"key\": \"value\"}]\n",
"\n",
"for value in test_values:\n",
"    analyze_type(value)"
]
},
{
"cell_type": "code",
"execution_count": null,
"metadata": {},
"outputs": [],
"source": [
"# Advanced type checking\n",
"import types\n",
"\n",
"def advanced_type_info(obj):\n",
"    \"\"\"Get advanced type information\"\"\"\n",
"    print(f\"Object: {repr(obj)}\")\n",
"    print(f\"  Type: {type(obj)}\")\n",
"    print(f\"  Module: {type(obj).__module__}\")\n",
"    print(f\"  MRO: {type(obj).__mro__}\")\n",
"    print(f\"  Dir (first 10): {dir(obj)[:10]}\")\n",
"    print(f\"  Callable: {callable(obj)}\")\n",
"    print(f\"  Has __dict__: {hasattr(obj, '__dict__')}\")\n",
"    print()\n",
"\n",
"# Test with different objects\n",
"test_objects = [42, \"hello\", [1, 2, 3], len]\n",
"\n",
"for obj in test_objects:\n",
"    advanced_type_info(obj)"
]
},
{
"cell_type": "markdown",
"metadata": {},
"source": [
"## 7. Practice Exercises\n",
"\n",
"Let's practice what we've learned:"
]
},
{
"cell_type": "code",
"execution_count": null,
"metadata": {},
"outputs": [],
"source": [
"# Exercise 1: Type conversion chain\n",
"print(\"Exercise 1: Type conversion chain\")\n",
"original = \"123\"\n",
"print(f\"Original: {repr(original)} ({type(original).__name__})\")\n",
"\n",
"# Convert string -> int -> float -> complex -> string\n",
"step1 = int(original)\n",
"step2 = float(step1)\n",
"step3 = complex(step2)\n",
"step4 = str(step3)\n",
"\n",
"print(f\"int(): {step1} ({type(step1).__name__})\")\n",
"print(f\"float(): {step2} ({type(step2).__name__})\")\n",
"print(f\"complex(): {step3} ({type(step3).__name__})\")\n",
"print(f\"str(): {repr(step4)} ({type(step4).__name__})\")"
]
},
{
"cell_type": "code",
"execution_count": null,
"metadata": {},
"outputs": [],
"source": [
"# Exercise 2: Variable swapping techniques\n",
"print(\"Exercise 2: Variable swapping techniques\")\n",
"\n",
"# Method 1: Pythonic tuple unpacking\n",
"a, b = 10, 20\n",
"print(f\"Before: a={a}, b={b}\")\n",
"a, b = b, a\n",
"print(f\"After tuple swap: a={a}, b={b}\")\n",
"\n",
"# Method 2: Arithmetic (only for numbers)\n",
"a, b = a + b, a - b  # b becomes original a\n",
"a = a - b  # a becomes original b\n",
"print(f\"After arithmetic swap: a={a}, b={b}\")\n",
"\n",
"# Method 3: XOR (only for integers)\n",
"a, b = 5, 7\n",
"print(f\"\\nBefore XOR: a={a}, b={b}\")\n",
"a = a ^ b\n",
"b = a ^ b  # b becomes original a\n",
"a = a ^ b  # a becomes original b\n",
"print(f\"After XOR swap: a={a}, b={b}\")"
]
},
{
"cell_type": "code",
"execution_count": null,
"metadata": {},
"outputs": [],
"source": [
"# Exercise 3: Dynamic type checking function\n",
"def smart_converter(value, target_type):\n",
"    \"\"\"Attempt to convert value to target_type with error handling\"\"\"\n",
"    try:\n",
"        if target_type == 'int':\n",
"            return int(float(value))  # Handle \"3.14\" -> 3\n",
"        elif target_type == 'float':\n",
"            return float(value)\n",
"        elif target_type == 'str':\n",
"            return str(value)\n",
"        elif target_type == 'bool':\n",
"            if isinstance(value, str):\n",
"                return value.lower() in ('true', '1', 'yes', 'on')\n",
"            return bool(value)\n",
"        else:\n",
"            return f\"Unsupported target type: {target_type}\"\n",
"    except (ValueError, TypeError) as e:\n",
"        return f\"Conversion error: {e}\"\n",
"\n",
"# Test the smart converter\n",
"test_cases = [\n",
"    (\"123\", \"int\"),\n",
"    (\"3.14\", \"int\"), \n",
"    (\"3.14\", \"float\"),\n",
"    (42, \"str\"),\n",
"    (\"true\", \"bool\"),\n",
"    (\"false\", \"bool\"),\n",
"    (\"hello\", \"int\"),\n",
"]\n",
"\n",
"print(\"Smart converter test:\")\n",
"for value, target in test_cases:\n",
"    result = smart_converter(value, target)\n",
"    print(f\"smart_converter({repr(value)}, '{target}') = {repr(result)}\")"
]
},
{
"cell_type": "markdown",
"metadata": {},
"source": [
"## Summary\n",
"\n",
"In this notebook, you learned about:\n",
"\n",
"✅ **Basic Data Types**: int, float, str, bool, None, complex  \n",
"✅ **Type Conversion**: Converting between different types safely  \n",
"✅ **Variable Assignment**: Multiple assignment, unpacking, swapping  \n",
"✅ **Naming Conventions**: PEP 8 guidelines for variable names  \n",
"✅ **Memory Management**: Identity vs equality, mutable vs immutable  \n",
"✅ **Type Checking**: isinstance(), type(), and introspection  \n",
"\n",
"### Key Takeaways:\n",
"1. Python is dynamically typed but strongly typed\n",
"2. Use `isinstance()` instead of `type()` for type checking\n",
"3. Understand the difference between `==` (equality) and `is` (identity)\n",
"4. Follow PEP 8 naming conventions for readable code\n",
"5. Be aware of mutable vs immutable types\n",
"\n",
"### Next Topic: 02_string_operations.ipynb\n",
"Learn about string manipulation, formatting, and methods."
]
}
],
"metadata": {
"kernelspec": {
"display_name": "Python 3",
"language": "python",
"name": "python3"
},
"language_info": {
"codemirror_mode": {
"name": "ipython",
"version": 3
},
"file_extension": ".py",
"mimetype": "text/x-python",
"name": "python",
"nbconvert_exporter": "python",
"pygments_lexer": "ipython3",
"version": "3.8.5"
}
},
"nbformat": 4,
"nbformat_minor": 4
}
