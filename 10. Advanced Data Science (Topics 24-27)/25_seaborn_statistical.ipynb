{
"cells": [
{
"cell_type": "markdown",
"metadata": {},
"source": [
"# Topic 28: Seaborn for Statistical Visualizations\n",
"\n",
"## Overview\n",
"Seaborn is a powerful Python library built on Matplotlib that provides a high-level interface for creating attractive statistical graphics[1][3]. It simplifies complex statistical visualizations with elegant default styles and colors.\n",
"\n",
"### What You'll Learn:\n",
"- Statistical plot types in Seaborn\n",
"- Distribution and relationship visualizations\n",
"- Categorical and regression plots\n",
"- Multi-plot grids and faceting\n",
"- Statistical estimation and confidence intervals\n",
"- Integration with Pandas DataFrames\n",
"\n",
"---"
]
},
{
"cell_type": "markdown",
"metadata": {},
"source": [
"## 1. Introduction to Seaborn\n",
"\n",
"Understanding Seaborn's philosophy and basic usage:"
]
},
{
"cell_type": "code",
"execution_count": null,
"metadata": {},
"outputs": [],
"source": [
"# Introduction to Seaborn\nimport seaborn as sns\nimport matplotlib.pyplot as plt\nimport pandas as pd\nimport numpy as np\nfrom scipy import stats\n\nprint(\"Introduction to Seaborn:\")\nprint(\"=\" * 24)\n\n# Set Seaborn style\nsns.set_theme(style=\"whitegrid\")  # Modern way to set style\nprint(\"1. Seaborn vs Matplotlib comparison:\")\n\n# Create sample data\nnp.random.seed(42)\ndata = {\n    'group': ['A', 'B', 'C'] * 100,\n    'value': np.concatenate([\n        np.random.normal(100, 15, 100),\n        np.random.normal(110, 12, 100), \n        np.random.normal(95, 18, 100)\n    ]),\n    'category': np.random.choice(['X', 'Y'], 300)\n}\ndf = pd.DataFrame(data)\n\n# Create comparison plot\nfig, (ax1, ax2) = plt.subplots(1, 2, figsize=(15, 6))\n\n# Matplotlib approach\nfor group in ['A', 'B', 'C']:\n    group_data = df[df['group'] == group]['value']\n    ax1.hist(group_data, alpha=0.6, label=f'Group {group}', bins=20)\nax1.set_title('Matplotlib: Multiple Histograms')\nax1.set_xlabel('Value')\nax1.set_ylabel('Frequency')\nax1.legend()\n\n# Seaborn approach\nsns.histplot(data=df, x='value', hue='group', alpha=0.6, ax=ax2)\nax2.set_title('Seaborn: Multiple Histograms')\n\nplt.tight_layout()\nplt.show()\n\nprint(\"   ✓ Seaborn provides cleaner syntax and better default styling\")\n\n# Built-in datasets\nprint(\"\\n2. Seaborn built-in datasets:\")\navailable_datasets = ['tips', 'flights', 'iris', 'titanic', 'car_crashes', 'mpg']\n\nfor dataset in available_datasets:\n    try:\n        data = sns.load_dataset(dataset)\n        print(f\"   {dataset}: {data.shape} - {', '.join(data.columns[:4])}{'...' if len(data.columns) > 4 else ''}\")\n    except:\n        print(f\"   {dataset}: Not available\")\n\n# Load sample datasets for examples\ntips = sns.load_dataset('tips')\niris = sns.load_dataset('iris')\nflights = sns.load_dataset('flights')\n\nprint(f\"\\n3. Sample data overview:\")\nprint(f\"   Tips dataset: {tips.shape}\")\nprint(f\"{tips.head()}\")\n\n# Seaborn's statistical capabilities\nprint(f\"\\n4. Seaborn's statistical focus:\")\nprint(f\"   ✓ Automatic statistical calculations\")\nprint(f\"   ✓ Built-in statistical plots\")\nprint(f\"   ✓ Confidence intervals and error bars\")\nprint(f\"   ✓ Regression fitting\")\nprint(f\"   ✓ Distribution analysis\")\nprint(f\"   ✓ Correlation visualization\")\n\n# Quick statistical visualization example\nfig, axes = plt.subplots(2, 2, figsize=(15, 12))\nfig.suptitle('Seaborn Statistical Capabilities', fontsize=16, fontweight='bold')\n\n# 1. Regression plot with confidence interval\nsns.regplot(data=tips, x='total_bill', y='tip', ax=axes[0,0])\naxes[0,0].set_title('Regression with Confidence Interval')\n\n# 2. Box plot with statistical summaries\nsns.boxplot(data=tips, x='day', y='total_bill', ax=axes[0,1])\naxes[0,1].set_title('Box Plot with Quartiles')\n\n# 3. Violin plot with kernel density\nsns.violinplot(data=tips, x='day', y='total_bill', ax=axes[1,0])\naxes[1,0].set_title('Violin Plot with Density')\n\n# 4. Distribution plot with statistical fit\nsns.histplot(data=tips, x='total_bill', kde=True, stat='density', ax=axes[1,1])\naxes[1,1].set_title('Distribution with KDE')\n\nplt.tight_layout()\nplt.show()\n\nprint(\"   ✓ Demonstrated automatic statistical calculations and confidence intervals\")\n\n# Seaborn plot categories\nprint(f\"\\n5. Seaborn plot categories:\")\nplot_categories = {\n    'Relational': ['scatterplot', 'lineplot', 'relplot'],\n    'Distribution': ['histplot', 'kdeplot', 'ecdfplot', 'distplot'],\n    'Categorical': ['stripplot', 'swarmplot', 'boxplot', 'violinplot', 'barplot'],\n    'Regression': ['regplot', 'lmplot', 'residplot'],\n    'Matrix': ['heatmap', 'clustermap'],\n    'Grid': ['FacetGrid', 'PairGrid', 'JointGrid']\n}\n\nfor category, plots in plot_categories.items():\n    print(f\"   {category}: {', '.join(plots)}\")\n\n# Style and color palettes\nprint(f\"\\n6. Seaborn styling options:\")\n\n# Available styles\nstyles = ['darkgrid', 'whitegrid', 'dark', 'white', 'ticks']\nprint(f\"   Styles: {', '.join(styles)}\")\n\n# Color palettes\npalette_types = ['deep', 'muted', 'pastel', 'bright', 'dark', 'colorblind']\nprint(f\"   Qualitative palettes: {', '.join(palette_types)}\")\n\n# Show palette examples\nfig, axes = plt.subplots(2, 3, figsize=(15, 8))\nfig.suptitle('Seaborn Color Palettes', fontsize=16)\n\nfor i, palette in enumerate(palette_types):\n    row, col = i // 3, i % 3\n    sns.barplot(data=tips.groupby('day')['total_bill'].mean().reset_index(), \n               x='day', y='total_bill', palette=palette, ax=axes[row, col])\n    axes[row, col].set_title(f'Palette: {palette}')\n    axes[row, col].set_ylabel('Average Bill')\n\nplt.tight_layout()\nplt.show()\n\nprint(\"   ✓ Demonstrated various built-in color palettes\")"
]
},
{
"cell_type": "markdown",
"metadata": {},
"source": [
"## 2. Distribution Plots\n",
"\n",
"Visualizing single and multiple distributions:"
]
},
{
"cell_type": "code",
"execution_count": null,
"metadata": {},
"outputs": [],
"source": [
"# Distribution plots in Seaborn\nprint(\"Distribution Plots in Seaborn:\")\nprint(\"=\" * 29)\n\n# Load and prepare data\ntips = sns.load_dataset('tips')\niris = sns.load_dataset('iris')\n\n# Generate additional sample data for demonstrations\nnp.random.seed(42)\nsample_data = {\n    'normal': np.random.normal(100, 15, 1000),\n    'skewed': np.random.exponential(2, 1000),\n    'bimodal': np.concatenate([np.random.normal(80, 10, 500), \n                              np.random.normal(120, 10, 500)])\n}\n\n# Create comprehensive distribution analysis\nfig, axes = plt.subplots(3, 3, figsize=(18, 15))\nfig.suptitle('Seaborn Distribution Plots', fontsize=16, fontweight='bold')\n\nprint(\"1. Histogram plots:\")\n\n# Basic histogram\nsns.histplot(data=tips, x='total_bill', ax=axes[0,0])\naxes[0,0].set_title('Basic Histogram')\nprint(\"   ✓ Basic histogram with automatic binning\")\n\n# Histogram with KDE overlay\nsns.histplot(data=tips, x='total_bill', kde=True, ax=axes[0,1])\naxes[0,1].set_title('Histogram with KDE')\nprint(\"   ✓ Added kernel density estimation overlay\")\n\n# Multiple distributions\nsns.histplot(data=tips, x='total_bill', hue='time', alpha=0.6, ax=axes[0,2])\naxes[0,2].set_title('Multiple Distributions')\nprint(\"   ✓ Compared multiple groups with different colors\")\n\nprint(\"\\n2. KDE (Kernel Density Estimation) plots:\")\n\n# Basic KDE\nsns.kdeplot(data=tips, x='total_bill', ax=axes[1,0])\naxes[1,0].set_title('Basic KDE Plot')\nprint(\"   ✓ Smooth density curve\")\n\n# Multiple KDE plots\nsns.kdeplot(data=tips, x='total_bill', hue='time', ax=axes[1,1])\naxes[1,1].set_title('Multiple KDE Plots')\nprint(\"   ✓ Comparing density curves for different groups\")\n\n# 2D KDE (bivariate)\nsns.kdeplot(data=tips, x='total_bill', y='tip', ax=axes[1,2])\naxes[1,2].set_title('2D KDE (Bivariate)')\nprint(\"   ✓ Two-dimensional density visualization\")\n\nprint(\"\\n3. Advanced distribution plots:\")\n\n# ECDF (Empirical Cumulative Distribution Function)\nsns.ecdfplot(data=tips, x='total_bill', hue='time', ax=axes[2,0])\naxes[2,0].set_title('ECDF Plot')\nprint(\"   ✓ Empirical cumulative distribution function\")\n\n# Rug plot combined with histogram\nsns.histplot(data=tips, x='total_bill', ax=axes[2,1])\nsns.rugplot(data=tips, x='total_bill', ax=axes[2,1], color='red', alpha=0.6)\naxes[2,1].set_title('Histogram with Rug Plot')\nprint(\"   ✓ Rug plot shows individual data points\")\n\n# Distribution comparison\nfor dist_name, dist_data in sample_data.items():\n    sns.kdeplot(dist_data, label=dist_name, ax=axes[2,2])\naxes[2,2].set_title('Different Distribution Types')\naxes[2,2].legend()\nprint(\"   ✓ Compared normal, skewed, and bimodal distributions\")\n\nplt.tight_layout()\nplt.show()\n\n# Joint distribution plots\nprint(\"\\n4. Joint distribution plots:\")\n\nfig, axes = plt.subplots(2, 2, figsize=(12, 10))\nfig.suptitle('Joint Distribution Analysis', fontsize=16)\n\n# Joint plot with different kinds\njoint_kinds = ['scatter', 'kde', 'hist', 'reg']\n\nfor i, kind in enumerate(joint_kinds):\n    row, col = i // 2, i % 2\n    \n    # Create joint plot using JointGrid for subplot integration\n    if kind == 'scatter':\n        sns.scatterplot(data=tips, x='total_bill', y='tip', ax=axes[row, col])\n        axes[row, col].set_title(f'Joint {kind.title()} Plot')\n    elif kind == 'kde':\n        sns.kdeplot(data=tips, x='total_bill', y='tip', ax=axes[row, col])\n        axes[row, col].set_title(f'Joint {kind.upper()} Plot')\n    elif kind == 'hist':\n        plt.sca(axes[row, col])\n        axes[row, col].hist2d(tips['total_bill'], tips['tip'], bins=20)\n        axes[row, col].set_title(f'Joint {kind.title()} Plot')\n        axes[row, col].set_xlabel('Total Bill')\n        axes[row, col].set_ylabel('Tip')\n    elif kind == 'reg':\n        sns.regplot(data=tips, x='total_bill', y='tip', ax=axes[row, col])\n        axes[row, col].set_title(f'Joint {kind.title()} Plot')\n\nplt.tight_layout()\nplt.show()\n\nprint(\"   ✓ Demonstrated different ways to visualize joint distributions\")\n\n# Statistical distribution fitting\nprint(\"\\n5. Statistical distribution fitting:\")\n\nfig, axes = plt.subplots(1, 3, figsize=(15, 5))\n\n# Normal distribution fitting\ndata_normal = tips['total_bill']\n\n# Plot histogram\nsns.histplot(data_normal, kde=False, stat='density', ax=axes[0])\n\n# Fit and plot normal distribution\nmu, sigma = stats.norm.fit(data_normal)\nx = np.linspace(data_normal.min(), data_normal.max(), 100)\nnormal_fit = stats.norm.pdf(x, mu, sigma)\naxes[0].plot(x, normal_fit, 'r-', linewidth=2, label=f'Normal fit (μ={mu:.1f}, σ={sigma:.1f})')\naxes[0].set_title('Normal Distribution Fit')\naxes[0].legend()\n\nprint(f\"   Normal fit: μ={mu:.2f}, σ={sigma:.2f}\")\n\n# Exponential distribution fitting (using tip amounts)\ntip_data = tips['tip']\nsns.histplot(tip_data, kde=False, stat='density', ax=axes[1])\n\n# Fit exponential distribution\nlam = 1/np.mean(tip_data)  # Maximum likelihood estimator for exponential\nx_exp = np.linspace(0, tip_data.max(), 100)\nexp_fit = stats.expon.pdf(x_exp, scale=1/lam)\naxes[1].plot(x_exp, exp_fit, 'g-', linewidth=2, label=f'Exponential fit (λ={lam:.2f})')\naxes[1].set_title('Exponential Distribution Fit')\naxes[1].legend()\n\nprint(f\"   Exponential fit: λ={lam:.3f}\")\n\n# Q-Q plot for normality testing\nstats.probplot(tips['total_bill'], dist=\"norm\", plot=axes[2])\naxes[2].set_title('Q-Q Plot (Normality Test)')\n\nplt.tight_layout()\nplt.show()\n\nprint(\"   ✓ Fitted statistical distributions and tested normality\")\n\n# Distribution summary statistics\nprint(\"\\n6. Distribution summary with visualizations:\")\n\ndef analyze_distribution(data, name):\n    \"\"\"Comprehensive distribution analysis\"\"\"\n    print(f\"   {name} Analysis:\")\n    print(f\"     Mean: {np.mean(data):.2f}\")\n    print(f\"     Median: {np.median(data):.2f}\")\n    print(f\"     Std Dev: {np.std(data):.2f}\")\n    print(f\"     Skewness: {stats.skew(data):.2f}\")\n    print(f\"     Kurtosis: {stats.kurtosis(data):.2f}\")\n    \n    # Normality test\n    _, p_value = stats.shapiro(data[:5000])  # Shapiro-Wilk test (sample if large)\n    print(f\"     Normality test p-value: {p_value:.4f}\")\n    print(f\"     Is normal (p>0.05): {p_value > 0.05}\")\n    print()\n\nanalyze_distribution(tips['total_bill'], 'Total Bill')\nanalyze_distribution(tips['tip'], 'Tip Amount')\n\nprint(\"7. Distribution plot best practices:\")\nprint(\"   ✓ Use histplot for count distributions\")\nprint(\"   ✓ Use kdeplot for smooth density curves\")\nprint(\"   ✓ Use ecdfplot for cumulative distributions\")\nprint(\"   ✓ Combine multiple plots for comprehensive analysis\")\nprint(\"   ✓ Test assumptions with statistical tests\")\nprint(\"   ✓ Choose appropriate bin sizes for histograms\")"
]
},
{
"cell_type": "markdown",
"metadata": {},
"source": [
"## Summary\n",
"\n",
"In this notebook, you learned about:\n",
"\n",
"✅ **Seaborn Fundamentals**: High-level statistical visualization library[1][3]  \n",
"✅ **Distribution Analysis**: Histograms, KDE plots, and ECDF visualizations  \n",
"✅ **Statistical Integration**: Automatic confidence intervals and regression fitting[2]  \n",
"✅ **Built-in Datasets**: Ready-to-use datasets for learning and testing  \n",
"✅ **Elegant Styling**: Beautiful default themes and color palettes[3]  \n",
"✅ **Pandas Integration**: Seamless DataFrame compatibility[8]  \n",
"\n",
"### Key Takeaways:\n",
"1. Seaborn simplifies complex statistical visualizations with clean syntax[1][3]\n",
"2. Built on Matplotlib but provides higher-level statistical functions\n",
"3. Excellent for exploratory data analysis and statistical graphics[3]\n",
"4. Automatic statistical calculations and confidence intervals[2]\n",
"5. Perfect complement to Pandas and NumPy workflow[8]\n",
"6. Ideal for publication-quality statistical plots\n",
"\n",
"### Next Topics:\n",
"Continue with **29_sklearn_basics.ipynb** for machine learning fundamentals, or **30_web_scraping.ipynb** for data collection techniques."
]
}
],
"metadata": {
"kernelspec": {
"display_name": "Python 3",
"language": "python",
"name": "python3"
},
"language_info": {
"codemirror_mode": {
"name": "ipython",
"version": 3
},
"file_extension": ".py",
"mimetype": "text/x-python",
"name": "python",
"nbconvert_exporter": "python",
"pygments_lexer": "ipython3",
"version": "3.8.5"
}
},
"nbformat": 4,
"nbformat_minor": 4
}
