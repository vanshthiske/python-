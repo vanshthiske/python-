{
"cells": [
{
"cell_type": "markdown",
"metadata": {},
"source": [
"# Topic 27: Matplotlib Basics - Data Visualization\n",
"\n",
"## Overview\n",
"Matplotlib is Python's foundational plotting library, providing versatile plot types and customization options for data visualization[6][7]. It serves as the foundation for many other plotting libraries.\n",
"\n",
"### What You'll Learn:\n",
"- Basic plotting with pyplot\n",
"- Different plot types (line, bar, scatter, histogram)\n",
"- Plot customization and styling\n",
"- Subplots and multiple plots\n",
"- Integration with Pandas and NumPy\n",
"- Saving and exporting plots\n",
"\n",
"---"
]
},
{
"cell_type": "markdown",
"metadata": {},
"source": [
"## 1. Basic Plotting with Pyplot\n",
"\n",
"Getting started with matplotlib.pyplot:"
]
},
{
"cell_type": "code",
"execution_count": null,
"metadata": {},
"outputs": [],
"source": [
"# Basic plotting with pyplot\nimport matplotlib.pyplot as plt\nimport numpy as np\nimport pandas as pd\n\nprint(\"Basic Plotting with Pyplot:\")\nprint(\"=\" * 28)\n\n# Simple line plot\nprint(\"1. Simple line plot:\")\n\n# Create sample data\nx = [1, 2, 3, 4, 5]\ny = [2, 4, 6, 8, 10]\n\n# Create the plot\nplt.figure(figsize=(8, 6))\nplt.plot(x, y)\nplt.title('Simple Line Plot')\nplt.xlabel('X-axis')\nplt.ylabel('Y-axis')\nplt.grid(True)\nplt.show()\n\nprint(\"   ✓ Basic line plot created with title, labels, and grid\")\n\n# Multiple lines on same plot\nprint(\"\\n2. Multiple lines plot:\")\n\nx = np.linspace(0, 10, 100)\ny1 = np.sin(x)\ny2 = np.cos(x)\ny3 = np.sin(x) * np.cos(x)\n\nplt.figure(figsize=(10, 6))\nplt.plot(x, y1, label='sin(x)', color='blue', linewidth=2)\nplt.plot(x, y2, label='cos(x)', color='red', linewidth=2, linestyle='--')\nplt.plot(x, y3, label='sin(x)*cos(x)', color='green', linewidth=2, linestyle=':')\n\nplt.title('Multiple Trigonometric Functions', fontsize=16)\nplt.xlabel('X values', fontsize=12)\nplt.ylabel('Y values', fontsize=12)\nplt.legend()\nplt.grid(True, alpha=0.3)\nplt.show()\n\nprint(\"   ✓ Multiple lines with different colors, styles, and legend\")\n\n# Customizing line properties\nprint(\"\\n3. Line customization options:\")\nprint(\"   Colors: 'red', 'blue', 'green', '#FF5733', (0.1, 0.2, 0.5)\")\nprint(\"   Line styles: '-' (solid), '--' (dashed), ':' (dotted), '-.' (dashdot)\")\nprint(\"   Markers: 'o' (circle), 's' (square), '^' (triangle), '*' (star)\")\nprint(\"   Line widths: 1, 2, 3, etc.\")\n\n# Demonstrating different styles\nfig, axes = plt.subplots(2, 2, figsize=(12, 10))\n\n# Different colors\ncolors = ['red', 'blue', 'green', 'orange']\nfor i, color in enumerate(colors):\n    axes[0, 0].plot(x[:20], y1[:20] + i*0.5, color=color, label=f'Line {i+1}', linewidth=2)\naxes[0, 0].set_title('Different Colors')\naxes[0, 0].legend()\naxes[0, 0].grid(True, alpha=0.3)\n\n# Different line styles\nstyles = ['-', '--', ':', '-.']\nfor i, style in enumerate(styles):\n    axes[0, 1].plot(x[:20], y2[:20] + i*0.5, linestyle=style, label=f'Style {i+1}', linewidth=2)\naxes[0, 1].set_title('Different Line Styles')\naxes[0, 1].legend()\naxes[0, 1].grid(True, alpha=0.3)\n\n# Different markers\nmarkers = ['o', 's', '^', 'D']\nfor i, marker in enumerate(markers):\n    axes[1, 0].plot(x[::5], (y1[::5] + i*0.5), marker=marker, label=f'Marker {marker}', linewidth=2, markersize=8)\naxes[1, 0].set_title('Different Markers')\naxes[1, 0].legend()\naxes[1, 0].grid(True, alpha=0.3)\n\n# Different line widths\nwidths = [1, 2, 3, 4]\nfor i, width in enumerate(widths):\n    axes[1, 1].plot(x[:20], y3[:20] + i*0.3, linewidth=width, label=f'Width {width}')\naxes[1, 1].set_title('Different Line Widths')\naxes[1, 1].legend()\naxes[1, 1].grid(True, alpha=0.3)\n\nplt.tight_layout()\nplt.show()\n\nprint(\"   ✓ Demonstrated various customization options\")\n\n# Figure and axes concepts\nprint(\"\\n4. Figure and Axes concepts:\")\nprint(\"   Figure: The entire plot window or page\")\nprint(\"   Axes: The plot area where data is displayed\")\nprint(\"   plt.figure(): Creates new figure\")\nprint(\"   plt.subplot(): Creates subplots within figure\")\nprint(\"   fig, ax = plt.subplots(): Object-oriented approach\")\n\n# Object-oriented approach\nprint(\"\\n5. Object-oriented plotting:\")\n\n# Create figure and axis objects\nfig, ax = plt.subplots(figsize=(10, 6))\n\n# Plot data using axis methods\nax.plot(x, y1, 'b-', label='sin(x)', linewidth=2)\nax.plot(x, y2, 'r--', label='cos(x)', linewidth=2)\n\n# Customize using axis methods\nax.set_title('Object-Oriented Plotting Example', fontsize=16)\nax.set_xlabel('X values', fontsize=12)\nax.set_ylabel('Y values', fontsize=12)\nax.legend()\nax.grid(True, alpha=0.3)\nax.set_xlim(0, 10)\nax.set_ylim(-1.5, 1.5)\n\nplt.show()\n\nprint(\"   ✓ Used object-oriented approach with explicit figure and axes\")\n\n# Adding annotations\nprint(\"\\n6. Adding annotations:\")\n\nfig, ax = plt.subplots(figsize=(10, 6))\n\n# Plot data\nax.plot(x, y1, 'b-', linewidth=2, label='sin(x)')\n\n# Add annotations\nax.annotate('Maximum', xy=(np.pi/2, 1), xytext=(2, 1.2),\n            arrowprops=dict(arrowstyle='->', color='red'),\n            fontsize=12, color='red')\n\nax.annotate('Zero crossing', xy=(np.pi, 0), xytext=(4, 0.5),\n            arrowprops=dict(arrowstyle='->', color='green'),\n            fontsize=12, color='green')\n\n# Add text\nax.text(8, -0.8, 'This is sin(x) function', fontsize=12, \n        bbox=dict(boxstyle='round', facecolor='yellow', alpha=0.5))\n\nax.set_title('Plot with Annotations', fontsize=16)\nax.set_xlabel('X values')\nax.set_ylabel('Y values')\nax.legend()\nax.grid(True, alpha=0.3)\n\nplt.show()\n\nprint(\"   ✓ Added annotations, arrows, and text boxes\")\n\n# Common pyplot functions summary\nprint(\"\\n7. Common pyplot functions:\")\nfunctions_summary = {\n    'plt.plot()': 'Create line plots',\n    'plt.scatter()': 'Create scatter plots', \n    'plt.bar()': 'Create bar plots',\n    'plt.hist()': 'Create histograms',\n    'plt.pie()': 'Create pie charts',\n    'plt.imshow()': 'Display images',\n    'plt.subplot()': 'Create multiple plots',\n    'plt.legend()': 'Add legend',\n    'plt.xlabel()': 'Set x-axis label',\n    'plt.ylabel()': 'Set y-axis label',\n    'plt.title()': 'Set plot title',\n    'plt.grid()': 'Add grid lines',\n    'plt.show()': 'Display the plot',\n    'plt.savefig()': 'Save plot to file'\n}\n\nfor func, description in functions_summary.items():\n    print(f\"   {func:15}: {description}\")"
]
},
{
"cell_type": "markdown",
"metadata": {},
"source": [
"## 2. Different Plot Types\n",
"\n",
"Exploring various visualization types:"
]
},
{
"cell_type": "code",
"execution_count": null,
"metadata": {},
"outputs": [],
"source": [
"# Different plot types\nimport matplotlib.pyplot as plt\nimport numpy as np\nimport pandas as pd\n\nprint(\"Different Plot Types:\")\nprint(\"=\" * 20)\n\n# Generate sample data\nnp.random.seed(42)\ndata = {\n    'categories': ['A', 'B', 'C', 'D', 'E'],\n    'values': [23, 35, 30, 35, 27],\n    'x_scatter': np.random.randn(100),\n    'y_scatter': np.random.randn(100),\n    'histogram_data': np.random.normal(100, 15, 1000)\n}\n\n# Create subplot layout for different plot types\nfig, axes = plt.subplots(2, 3, figsize=(18, 12))\nfig.suptitle('Different Plot Types in Matplotlib', fontsize=16, fontweight='bold')\n\n# 1. Bar plot\nprint(\"1. Bar Plot:\")\naxes[0, 0].bar(data['categories'], data['values'], color=['skyblue', 'lightgreen', 'lightcoral', 'khaki', 'plum'])\naxes[0, 0].set_title('Bar Plot', fontsize=14)\naxes[0, 0].set_xlabel('Categories')\naxes[0, 0].set_ylabel('Values')\naxes[0, 0].grid(True, alpha=0.3)\n\n# Add value labels on bars\nfor i, v in enumerate(data['values']):\n    axes[0, 0].text(i, v + 0.5, str(v), ha='center', fontweight='bold')\n\nprint(\"   ✓ Vertical bar plot with value labels\")\n\n# 2. Horizontal bar plot\nprint(\"\\n2. Horizontal Bar Plot:\")\naxes[0, 1].barh(data['categories'], data['values'], color=['lightblue', 'lightgreen', 'salmon', 'gold', 'orchid'])\naxes[0, 1].set_title('Horizontal Bar Plot', fontsize=14)\naxes[0, 1].set_xlabel('Values')\naxes[0, 1].set_ylabel('Categories')\naxes[0, 1].grid(True, alpha=0.3)\n\nprint(\"   ✓ Horizontal bar plot created\")\n\n# 3. Scatter plot\nprint(\"\\n3. Scatter Plot:\")\n# Create color-coded scatter plot\ncolors = data['x_scatter'] + data['y_scatter']  # Color based on sum\nscatter = axes[0, 2].scatter(data['x_scatter'], data['y_scatter'], c=colors, \n                            alpha=0.6, cmap='viridis', s=50)\naxes[0, 2].set_title('Scatter Plot', fontsize=14)\naxes[0, 2].set_xlabel('X values')\naxes[0, 2].set_ylabel('Y values')\naxes[0, 2].grid(True, alpha=0.3)\nplt.colorbar(scatter, ax=axes[0, 2])\n\nprint(\"   ✓ Scatter plot with color mapping\")\n\n# 4. Histogram\nprint(\"\\n4. Histogram:\")\naxes[1, 0].hist(data['histogram_data'], bins=30, color='skyblue', alpha=0.7, edgecolor='black')\naxes[1, 0].set_title('Histogram', fontsize=14)\naxes[1, 0].set_xlabel('Values')\naxes[1, 0].set_ylabel('Frequency')\naxes[1, 0].grid(True, alpha=0.3)\n\n# Add statistics text\nmean_val = np.mean(data['histogram_data'])\nstd_val = np.std(data['histogram_data'])\naxes[1, 0].axvline(mean_val, color='red', linestyle='--', linewidth=2, label=f'Mean: {mean_val:.1f}')\naxes[1, 0].legend()\n\nprint(f\"   ✓ Histogram with mean line (μ={mean_val:.1f}, σ={std_val:.1f})\")\n\n# 5. Pie chart\nprint(\"\\n5. Pie Chart:\")\nwedges, texts, autotexts = axes[1, 1].pie(data['values'], labels=data['categories'], \n                                         autopct='%1.1f%%', startangle=90,\n                                         colors=['lightblue', 'lightgreen', 'lightcoral', 'khaki', 'plum'])\naxes[1, 1].set_title('Pie Chart', fontsize=14)\n\n# Enhance text appearance\nfor autotext in autotexts:\n    autotext.set_color('white')\n    autotext.set_fontweight('bold')\n\nprint(\"   ✓ Pie chart with percentages\")\n\n# 6. Line plot with multiple series\nprint(\"\\n6. Multi-series Line Plot:\")\nx_line = np.linspace(0, 10, 50)\ny1_line = np.sin(x_line)\ny2_line = np.cos(x_line)\ny3_line = np.sin(x_line) * np.exp(-x_line/10)\n\naxes[1, 2].plot(x_line, y1_line, label='sin(x)', linewidth=2, color='blue')\naxes[1, 2].plot(x_line, y2_line, label='cos(x)', linewidth=2, color='red', linestyle='--')\naxes[1, 2].plot(x_line, y3_line, label='damped sin(x)', linewidth=2, color='green', linestyle=':')\n\naxes[1, 2].set_title('Multi-series Line Plot', fontsize=14)\naxes[1, 2].set_xlabel('X values')\naxes[1, 2].set_ylabel('Y values')\naxes[1, 2].legend()\naxes[1, 2].grid(True, alpha=0.3)\n\nprint(\"   ✓ Multiple line series with different styles\")\n\nplt.tight_layout()\nplt.show()\n\n# Advanced plot types\nprint(\"\\n7. Advanced Plot Types:\")\n\n# Create figure for advanced plots\nfig, axes = plt.subplots(2, 2, figsize=(15, 12))\nfig.suptitle('Advanced Plot Types', fontsize=16, fontweight='bold')\n\n# Box plot\nprint(\"   a. Box Plot:\")\nbox_data = [np.random.normal(100, 10, 100),\n           np.random.normal(90, 20, 100),\n           np.random.normal(110, 15, 100),\n           np.random.normal(95, 25, 100)]\n\nbox_plot = axes[0, 0].boxplot(box_data, labels=['Group A', 'Group B', 'Group C', 'Group D'],\n                             patch_artist=True)\naxes[0, 0].set_title('Box Plot', fontsize=14)\naxes[0, 0].set_ylabel('Values')\naxes[0, 0].grid(True, alpha=0.3)\n\n# Color the boxes\ncolors = ['lightblue', 'lightgreen', 'lightcoral', 'khaki']\nfor patch, color in zip(box_plot['boxes'], colors):\n    patch.set_facecolor(color)\n\nprint(\"      ✓ Box plot showing distribution quartiles\")\n\n# Violin plot (using seaborn style)\nprint(\"   b. Area Plot:\")\nx_area = np.linspace(0, 10, 100)\ny1_area = np.sin(x_area) + 1\ny2_area = np.cos(x_area) + 1\n\naxes[0, 1].fill_between(x_area, 0, y1_area, alpha=0.5, label='sin(x)+1', color='blue')\naxes[0, 1].fill_between(x_area, 0, y2_area, alpha=0.5, label='cos(x)+1', color='red')\naxes[0, 1].set_title('Area Plot', fontsize=14)\naxes[0, 1].set_xlabel('X values')\naxes[0, 1].set_ylabel('Y values')\naxes[0, 1].legend()\naxes[0, 1].grid(True, alpha=0.3)\n\nprint(\"      ✓ Filled area plots\")\n\n# Stacked bar plot\nprint(\"   c. Stacked Bar Plot:\")\ncategories = ['Q1', 'Q2', 'Q3', 'Q4']\nproduct_a = [20, 35, 30, 25]\nproduct_b = [15, 20, 25, 30]\nproduct_c = [10, 15, 20, 25]\n\nwidth = 0.6\naxes[1, 0].bar(categories, product_a, width, label='Product A', color='lightblue')\naxes[1, 0].bar(categories, product_b, width, bottom=product_a, label='Product B', color='lightgreen')\nbottom_c = [a + b for a, b in zip(product_a, product_b)]\naxes[1, 0].bar(categories, product_c, width, bottom=bottom_c, label='Product C', color='lightcoral')\n\naxes[1, 0].set_title('Stacked Bar Plot', fontsize=14)\naxes[1, 0].set_xlabel('Quarters')\naxes[1, 0].set_ylabel('Sales')\naxes[1, 0].legend()\naxes[1, 0].grid(True, alpha=0.3)\n\nprint(\"      ✓ Stacked bar chart showing cumulative values\")\n\n# Error bars\nprint(\"   d. Error Bars:\")\nx_error = np.arange(5)\ny_error = [20, 35, 30, 35, 27]\nerrors = [2, 3, 4, 1, 2]\n\naxes[1, 1].errorbar(x_error, y_error, yerr=errors, fmt='o-', \n                   capsize=5, capthick=2, linewidth=2, markersize=8)\naxes[1, 1].set_title('Error Bars', fontsize=14)\naxes[1, 1].set_xlabel('Data Points')\naxes[1, 1].set_ylabel('Values')\naxes[1, 1].grid(True, alpha=0.3)\n\nprint(\"      ✓ Error bars showing uncertainty\")\n\nplt.tight_layout()\nplt.show()\n\n# Plot type selection guide\nprint(\"\\n8. Plot Type Selection Guide:\")\nplot_guide = {\n    'Line Plot': 'Time series, continuous data, trends',\n    'Bar Plot': 'Categorical comparisons, discrete values',\n    'Scatter Plot': 'Relationships between variables, correlations',\n    'Histogram': 'Data distribution, frequency analysis',\n    'Pie Chart': 'Parts of a whole, proportions',\n    'Box Plot': 'Distribution quartiles, outliers',\n    'Heatmap': 'Correlation matrices, 2D data',\n    'Area Plot': 'Cumulative data, filled regions',\n    'Error Bars': 'Uncertainty, confidence intervals'\n}\n\nfor plot_type, use_case in plot_guide.items():\n    print(f\"   {plot_type:12}: {use_case}\")\n\nprint(\"\\n9. Best practices for plot selection:\")\nprint(\"   ✓ Choose plot type based on data type and story\")\nprint(\"   ✓ Line plots for trends over time\")\nprint(\"   ✓ Bar plots for categorical comparisons\")\nprint(\"   ✓ Scatter plots for relationships\")\nprint(\"   ✓ Histograms for distributions\")\nprint(\"   ✓ Keep it simple and avoid chart junk\")\nprint(\"   ✓ Always label axes and add titles\")"
]
},
{
"cell_type": "markdown",
"metadata": {},
"source": [
"## 3. Integration with Pandas\n",
"\n",
"Using Matplotlib with Pandas DataFrames:"
]
},
{
"cell_type": "code",
"execution_count": null,
"metadata": {},
"outputs": [],
"source": [
"# Integration with Pandas\nimport matplotlib.pyplot as plt\nimport pandas as pd\nimport numpy as np\nfrom datetime import datetime, timedelta\n\nprint(\"Matplotlib Integration with Pandas:\")\nprint(\"=\" * 35)\n\n# Create sample dataset\nnp.random.seed(42)\ndates = pd.date_range('2020-01-01', periods=365, freq='D')\n\n# Generate sample business data\ndata = {\n    'Date': dates,\n    'Revenue': np.cumsum(np.random.randn(365) * 100 + 1000),\n    'Expenses': np.cumsum(np.random.randn(365) * 80 + 800),\n    'Customers': np.cumsum(np.random.randn(365) * 10 + 50),\n    'Product_A': np.random.randint(50, 200, 365),\n    'Product_B': np.random.randint(30, 150, 365),\n    'Product_C': np.random.randint(20, 100, 365),\n    'Region': np.random.choice(['North', 'South', 'East', 'West'], 365),\n    'Category': np.random.choice(['Electronics', 'Clothing', 'Books'], 365)\n}\n\ndf = pd.DataFrame(data)\ndf['Profit'] = df['Revenue'] - df['Expenses']\ndf['Month'] = df['Date'].dt.month\ndf['Quarter'] = df['Date'].dt.quarter\n\nprint(\"1. Sample dataset created:\")\nprint(f\"   Shape: {df.shape}\")\nprint(f\"   Columns: {df.columns.tolist()}\")\nprint(f\"{df.head()}\")\n\n# Direct pandas plotting\nprint(\"\\n2. Direct pandas plotting:\")\n\n# Line plot using pandas\nfig, axes = plt.subplots(2, 2, figsize=(15, 12))\nfig.suptitle('Pandas Direct Plotting', fontsize=16, fontweight='bold')\n\n# Revenue and Expenses over time\ndf[['Revenue', 'Expenses', 'Profit']].plot(x=df.index, ax=axes[0, 0], \n                                          title='Financial Metrics Over Time',\n                                          linewidth=2)\naxes[0, 0].set_xlabel('Days')\naxes[0, 0].set_ylabel('Amount ($)')\naxes[0, 0].grid(True, alpha=0.3)\naxes[0, 0].legend()\n\nprint(\"   ✓ Time series line plot\")\n\n# Bar plot of average revenue by quarter\nquarterly_revenue = df.groupby('Quarter')['Revenue'].mean()\nquarterly_revenue.plot(kind='bar', ax=axes[0, 1], \n                      title='Average Revenue by Quarter',\n                      color=['lightblue', 'lightgreen', 'lightcoral', 'khaki'])\naxes[0, 1].set_xlabel('Quarter')\naxes[0, 1].set_ylabel('Average Revenue ($)')\naxes[0, 1].tick_params(axis='x', rotation=0)\naxes[0, 1].grid(True, alpha=0.3)\n\nprint(\"   ✓ Grouped bar plot\")\n\n# Histogram of profit distribution\ndf['Profit'].plot(kind='hist', ax=axes[1, 0], bins=30, \n                 title='Profit Distribution', \n                 color='lightgreen', alpha=0.7, edgecolor='black')\naxes[1, 0].set_xlabel('Profit ($)')\naxes[1, 0].set_ylabel('Frequency')\naxes[1, 0].grid(True, alpha=0.3)\n\nprint(\"   ✓ Histogram from pandas\")\n\n# Box plot by region\ndf.boxplot(column='Revenue', by='Region', ax=axes[1, 1])\naxes[1, 1].set_title('Revenue by Region')\naxes[1, 1].set_xlabel('Region')\naxes[1, 1].set_ylabel('Revenue ($)')\n\nprint(\"   ✓ Box plot with grouping\")\n\nplt.tight_layout()\nplt.show()\n\n# Advanced pandas plotting\nprint(\"\\n3. Advanced pandas plotting features:\")\n\nfig, axes = plt.subplots(2, 2, figsize=(15, 12))\nfig.suptitle('Advanced Pandas Plotting', fontsize=16, fontweight='bold')\n\n# Stacked area plot\nproduct_data = df[['Product_A', 'Product_B', 'Product_C']]\nproduct_monthly = product_data.groupby(df['Month']).sum()\nproduct_monthly.plot(kind='area', ax=axes[0, 0], \n                    title='Monthly Product Sales (Stacked)',\n                    alpha=0.7)\naxes[0, 0].set_xlabel('Month')\naxes[0, 0].set_ylabel('Sales')\naxes[0, 0].legend()\naxes[0, 0].grid(True, alpha=0.3)\n\nprint(\"   ✓ Stacked area plot\")\n\n# Correlation heatmap using matplotlib\ncorr_matrix = df[['Revenue', 'Expenses', 'Customers', 'Product_A', 'Product_B', 'Product_C']].corr()\nim = axes[0, 1].imshow(corr_matrix, cmap='coolwarm', aspect='auto', vmin=-1, vmax=1)\naxes[0, 1].set_title('Correlation Heatmap')\naxes[0, 1].set_xticks(range(len(corr_matrix.columns)))\naxes[0, 1].set_yticks(range(len(corr_matrix.columns)))\naxes[0, 1].set_xticklabels(corr_matrix.columns, rotation=45)\naxes[0, 1].set_yticklabels(corr_matrix.columns)\n\n# Add correlation values to heatmap\nfor i in range(len(corr_matrix.columns)):\n    for j in range(len(corr_matrix.columns)):\n        axes[0, 1].text(j, i, f'{corr_matrix.iloc[i, j]:.2f}', \n                        ha='center', va='center', \n                        color='white' if abs(corr_matrix.iloc[i, j]) > 0.5 else 'black')\n\nplt.colorbar(im, ax=axes[0, 1])\n\nprint(\"   ✓ Correlation heatmap with values\")\n\n# Scatter plot with categorical coloring\ncategory_colors = {'Electronics': 'blue', 'Clothing': 'red', 'Books': 'green'}\nfor category, color in category_colors.items():\n    mask = df['Category'] == category\n    axes[1, 0].scatter(df[mask]['Revenue'], df[mask]['Customers'], \n                      c=color, label=category, alpha=0.6, s=30)\n\naxes[1, 0].set_title('Revenue vs Customers by Category')\naxes[1, 0].set_xlabel('Revenue ($)')\naxes[1, 0].set_ylabel('Customers')\naxes[1, 0].legend()\naxes[1, 0].grid(True, alpha=0.3)\n\nprint(\"   ✓ Categorical scatter plot\")\n\n# Multiple subplots for different metrics\nmetrics = ['Product_A', 'Product_B', 'Product_C']\ncolors = ['lightblue', 'lightgreen', 'lightcoral']\n\nmonthly_products = df.groupby('Month')[metrics].mean()\nfor i, (metric, color) in enumerate(zip(metrics, colors)):\n    if i == 0:\n        ax = axes[1, 1]\n    monthly_products[metric].plot(ax=ax, color=color, linewidth=2, \n                                marker='o', label=metric)\n\naxes[1, 1].set_title('Monthly Average Product Sales')\naxes[1, 1].set_xlabel('Month')\naxes[1, 1].set_ylabel('Average Sales')\naxes[1, 1].legend()\naxes[1, 1].grid(True, alpha=0.3)\n\nprint(\"   ✓ Multi-metric line plot\")\n\nplt.tight_layout()\nplt.show()\n\n# Customizing pandas plots with matplotlib\nprint(\"\\n4. Customizing pandas plots with matplotlib:\")\n\n# Create a more sophisticated plot\nfig, (ax1, ax2) = plt.subplots(2, 1, figsize=(12, 10), \n                               gridspec_kw={'height_ratios': [2, 1]})\n\n# Main plot: Revenue and Expenses\ndf[['Revenue', 'Expenses']].plot(ax=ax1, linewidth=2, \n                               color=['#2E86AB', '#A23B72'])\nax1.fill_between(df.index, df['Revenue'], df['Expenses'], \n                where=(df['Revenue'] >= df['Expenses']), \n                color='green', alpha=0.3, label='Profit')\nax1.fill_between(df.index, df['Revenue'], df['Expenses'], \n                where=(df['Revenue'] < df['Expenses']), \n                color='red', alpha=0.3, label='Loss')\n\nax1.set_title('Business Performance Dashboard', fontsize=16, fontweight='bold')\nax1.set_ylabel('Amount ($)', fontsize=12)\nax1.legend(loc='upper left')\nax1.grid(True, alpha=0.3)\n\n# Remove x-axis labels from top plot\nax1.set_xlabel('')\nax1.tick_params(axis='x', labelbottom=False)\n\n# Subplot: Customer count\ndf['Customers'].plot(ax=ax2, color='orange', linewidth=2)\nax2.set_title('Customer Count', fontsize=12)\nax2.set_xlabel('Days', fontsize=12)\nax2.set_ylabel('Customers', fontsize=12)\nax2.grid(True, alpha=0.3)\n\n# Add annotations\nmax_revenue_idx = df['Revenue'].idxmax()\nmax_revenue = df['Revenue'].max()\nax1.annotate(f'Peak Revenue\\n${max_revenue:,.0f}', \n            xy=(max_revenue_idx, max_revenue), \n            xytext=(max_revenue_idx-50, max_revenue+5000),\n            arrowprops=dict(arrowstyle='->', color='red'),\n            fontsize=10, ha='center',\n            bbox=dict(boxstyle='round,pad=0.3', facecolor='yellow', alpha=0.7))\n\nplt.tight_layout()\nplt.show()\n\nprint(\"   ✓ Custom dashboard with annotations and styling\")\n\n# Pandas plotting methods summary\nprint(\"\\n5. Pandas plotting methods:\")\npandas_methods = {\n    'df.plot()': 'General plotting method',\n    'df.plot.line()': 'Line plot',\n    'df.plot.bar()': 'Vertical bar plot', \n    'df.plot.barh()': 'Horizontal bar plot',\n    'df.plot.hist()': 'Histogram',\n    'df.plot.box()': 'Box plot',\n    'df.plot.scatter()': 'Scatter plot',\n    'df.plot.area()': 'Area plot',\n    'df.plot.pie()': 'Pie chart',\n    'df.plot.hexbin()': 'Hexagonal binning'\n}\n\nfor method, description in pandas_methods.items():\n    print(f\"   {method:18}: {description}\")\n\nprint(\"\\n6. Integration benefits:\")\nprint(\"   ✓ Direct plotting from DataFrame columns\")\nprint(\"   ✓ Automatic handling of dates and categories\")\nprint(\"   ✓ Built-in statistical plotting methods\")\nprint(\"   ✓ Easy grouping and aggregation visualization\")\nprint(\"   ✓ Seamless integration with matplotlib customization\")\nprint(\"   ✓ Automatic legend generation from column names\")"
]
},
{
"cell_type": "markdown",
"metadata": {},
"source": [
"## Summary\n",
"\n",
"In this notebook, you learned about:\n",
"\n",
"✅ **Basic Plotting**: Using pyplot for fundamental visualizations[7][9]  \n",
"✅ **Plot Types**: Line, bar, scatter, histogram, pie charts and more[6]  \n",
"✅ **Customization**: Colors, styles, annotations, and formatting options  \n",
"✅ **Object-Oriented Approach**: Using figure and axes objects for control  \n",
"✅ **Pandas Integration**: Direct plotting from DataFrames[7][13]  \n",
"✅ **Advanced Features**: Subplots, multiple series, and complex layouts  \n",
"\n",
"### Key Takeaways:\n",
"1. Matplotlib is the foundation for Python data visualization[6][7]\n",
"2. Choose plot types based on data type and story you want to tell\n",
"3. Object-oriented approach provides more control than pyplot\n",
"4. Pandas integration makes plotting DataFrames extremely convenient[7]\n",
"5. Always label axes, add titles, and include legends for clarity\n",
"6. Use customization to make plots publication-ready\n",
"\n",
"## 🎉 **Python Data Science Basics Complete!**\n",
"\n",
"You've now covered the essential data science libraries:\n",
"- **NumPy**: Numerical computing foundation[3][6] \n",
"- **Pandas**: Data manipulation and analysis[3][6]\n",
"- **Matplotlib**: Data visualization and plotting[6][7]\n",
"\n",
"These three libraries form the core data science stack in Python[7][9], providing robust tools for data manipulation, analysis, and visualization. You're now ready to tackle real-world data science projects!"
]
}
],
"metadata": {
"kernelspec": {
"display_name": "Python 3",
"language": "python",
"name": "python3"
},
"language_info": {
"codemirror_mode": {
"name": "ipython",
"version": 3
},
"file_extension": ".py",
"mimetype": "text/x-python",
"name": "python",
"nbconvert_exporter": "python",
"pygments_lexer": "ipython3",
"version": "3.8.5"
}
},
"nbformat": 4,
"nbformat_minor": 4
}
