{
"cells": [
{
"cell_type": "markdown",
"metadata": {},
"source": [
"# Topic 25: NumPy Basics - Numerical Computing\n",
"\n",
"## Overview\n",
"NumPy (Numerical Python) is the fundamental library for scientific computing in Python. It provides powerful n-dimensional array objects and tools for working with arrays[1][3].\n",
"\n",
"### What You'll Learn:\n",
"- NumPy arrays and their advantages\n",
"- Array creation and manipulation\n",
"- Mathematical operations and broadcasting\n",
"- Array indexing and slicing\n",
"- Statistical operations\n",
"- Integration with other libraries\n",
"\n",
"---"
]
},
{
"cell_type": "markdown",
"metadata": {},
"source": [
"## 1. Introduction to NumPy Arrays\n",
"\n",
"Understanding the foundation of numerical computing in Python:"
]
},
{
"cell_type": "code",
"execution_count": null,
"metadata": {},
"outputs": [],
"source": [
"# Introduction to NumPy arrays\nimport numpy as np\nimport sys\n\nprint(\"NumPy Arrays Introduction:\")\nprint(\"=\" * 26)\n\n# Why NumPy? Performance comparison\nprint(\"1. Why use NumPy arrays over Python lists?\")\n\n# Python list\npython_list = [1, 2, 3, 4, 5, 6, 7, 8, 9, 10]\nprint(f\"   Python list: {python_list}\")\nprint(f\"   Memory usage: {sys.getsizeof(python_list)} bytes\")\nprint(f\"   Type: {type(python_list)}\")\n\n# NumPy array\nnumpy_array = np.array([1, 2, 3, 4, 5, 6, 7, 8, 9, 10])\nprint(f\"   NumPy array: {numpy_array}\")\nprint(f\"   Memory usage: {numpy_array.nbytes} bytes\")\nprint(f\"   Type: {type(numpy_array)}\")\nprint(f\"   Data type: {numpy_array.dtype}\")\n\n# Performance comparison\nimport time\n\nsize = 100000\nlist_a = list(range(size))\nlist_b = list(range(size))\n\narray_a = np.array(list_a)\narray_b = np.array(list_b)\n\n# Python list addition\nstart_time = time.time()\nlist_result = [a + b for a, b in zip(list_a, list_b)]\nlist_time = time.time() - start_time\n\n# NumPy array addition\nstart_time = time.time()\narray_result = array_a + array_b\nnumpy_time = time.time() - start_time\n\nprint(f\"\\n   Performance comparison ({size:,} elements):\")\nprint(f\"   Python list addition: {list_time:.6f} seconds\")\nprint(f\"   NumPy array addition: {numpy_time:.6f} seconds\")\nprint(f\"   NumPy is {list_time/numpy_time:.1f}x faster\")\n\n# Creating NumPy arrays\nprint(f\"\\n2. Creating NumPy arrays:\")\n\n# From Python list\narray_from_list = np.array([1, 2, 3, 4, 5])\nprint(f\"   From list: {array_from_list}\")\n\n# 2D array from nested lists\narray_2d = np.array([[1, 2, 3], [4, 5, 6], [7, 8, 9]])\nprint(f\"   2D array from nested lists:\")\nprint(f\"{array_2d}\")\n\n# Array with specific data type\nfloat_array = np.array([1, 2, 3, 4, 5], dtype=np.float32)\nprint(f\"   Float32 array: {float_array}\")\nprint(f\"   Data type: {float_array.dtype}\")\n\n# Array attributes\nprint(f\"\\n3. Array attributes:\")\ntest_array = np.array([[1, 2, 3, 4], [5, 6, 7, 8], [9, 10, 11, 12]])\nprint(f\"   Array: \")\nprint(f\"{test_array}\")\nprint(f\"   Shape: {test_array.shape}\")\nprint(f\"   Size (total elements): {test_array.size}\")\nprint(f\"   Dimensions: {test_array.ndim}\")\nprint(f\"   Data type: {test_array.dtype}\")\nprint(f\"   Item size (bytes): {test_array.itemsize}\")\nprint(f\"   Total bytes: {test_array.nbytes}\")\n\n# Array creation functions\nprint(f\"\\n4. Array creation functions:\")\n\n# Zeros\nzeros_array = np.zeros((3, 4))\nprint(f\"   Zeros (3x4):\")\nprint(f\"{zeros_array}\")\n\n# Ones\nones_array = np.ones((2, 3, 2))\nprint(f\"   Ones (2x3x2) shape: {ones_array.shape}\")\n\n# Full (filled with specific value)\nfull_array = np.full((2, 3), 7)\nprint(f\"   Full with 7s:\")\nprint(f\"{full_array}\")\n\n# Identity matrix\nidentity_matrix = np.eye(3)\nprint(f\"   Identity matrix (3x3):\")\nprint(f\"{identity_matrix}\")\n\n# Range arrays\nrange_array = np.arange(0, 10, 2)\nprint(f\"   Range (0 to 10, step 2): {range_array}\")\n\n# Linspace (evenly spaced)\nlinspace_array = np.linspace(0, 1, 5)\nprint(f\"   Linspace (0 to 1, 5 points): {linspace_array}\")\n\n# Random arrays\nprint(f\"\\n5. Random arrays:\")\n\n# Set seed for reproducibility\nnp.random.seed(42)\n\n# Random floats between 0 and 1\nrandom_array = np.random.random((2, 3))\nprint(f\"   Random (0-1):\")\nprint(f\"{random_array}\")\n\n# Random integers\nrandom_ints = np.random.randint(1, 11, size=(3, 3))\nprint(f\"   Random integers (1-10):\")\nprint(f\"{random_ints}\")\n\n# Normal distribution\nnormal_array = np.random.normal(0, 1, 10)\nprint(f\"   Normal distribution (mean=0, std=1): {normal_array.round(2)}\")\n\n# Array data types\nprint(f\"\\n6. Data types:\")\n\ndata_types = {\n    'int8': np.array([1, 2, 3], dtype=np.int8),\n    'int32': np.array([1, 2, 3], dtype=np.int32),\n    'int64': np.array([1, 2, 3], dtype=np.int64),\n    'float32': np.array([1.1, 2.2, 3.3], dtype=np.float32),\n    'float64': np.array([1.1, 2.2, 3.3], dtype=np.float64),\n    'bool': np.array([True, False, True], dtype=bool)\n}\n\nfor name, arr in data_types.items():\n    print(f\"   {name:8}: {arr} (item size: {arr.itemsize} bytes)\")\n\n# Type conversion\nprint(f\"\\n7. Type conversion:\")\nint_array = np.array([1, 2, 3, 4, 5])\nprint(f\"   Original (int): {int_array} - dtype: {int_array.dtype}\")\n\nfloat_converted = int_array.astype(np.float32)\nprint(f\"   To float32: {float_converted} - dtype: {float_converted.dtype}\")\n\nstring_converted = int_array.astype(str)\nprint(f\"   To string: {string_converted} - dtype: {string_converted.dtype}\")"
]
},
{
"cell_type": "markdown",
"metadata": {},
"source": [
"## 2. Array Indexing and Slicing\n",
"\n",
"Accessing and modifying array elements:"
]
},
{
"cell_type": "code",
"execution_count": null,
"metadata": {},
"outputs": [],
"source": [
"# Array indexing and slicing\nimport numpy as np\n\nprint(\"Array Indexing and Slicing:\")\nprint(\"=\" * 28)\n\n# 1D array indexing\nprint(\"1. 1D Array indexing:\")\n\narray_1d = np.array([10, 20, 30, 40, 50, 60, 70, 80, 90, 100])\nprint(f\"   Array: {array_1d}\")\nprint(f\"   First element [0]: {array_1d[0]}\")\nprint(f\"   Last element [-1]: {array_1d[-1]}\")\nprint(f\"   Second last [-2]: {array_1d[-2]}\")\n\n# 1D array slicing\nprint(f\"\\n2. 1D Array slicing:\")\nprint(f\"   Array[1:4]: {array_1d[1:4]}\")\nprint(f\"   Array[:5]: {array_1d[:5]}\")\nprint(f\"   Array[5:]: {array_1d[5:]}\")\nprint(f\"   Array[::2]: {array_1d[::2]}\")\nprint(f\"   Array[::-1]: {array_1d[::-1]}\")\n\n# 2D array indexing\nprint(f\"\\n3. 2D Array indexing:\")\n\narray_2d = np.array([[1, 2, 3, 4], \n                     [5, 6, 7, 8], \n                     [9, 10, 11, 12]])\nprint(f\"   2D Array:\")\nprint(f\"{array_2d}\")\nprint(f\"   Element [0, 0]: {array_2d[0, 0]}\")\nprint(f\"   Element [1, 2]: {array_2d[1, 2]}\")\nprint(f\"   Element [-1, -1]: {array_2d[-1, -1]}\")\n\n# 2D array slicing\nprint(f\"\\n4. 2D Array slicing:\")\nprint(f\"   First row [0, :]:\")\nprint(f\"   {array_2d[0, :]}\")\nprint(f\"   Last column [:, -1]:\")\nprint(f\"   {array_2d[:, -1]}\")\nprint(f\"   Subarray [0:2, 1:3]:\")\nprint(f\"{array_2d[0:2, 1:3]}\")\n\n# Boolean indexing\nprint(f\"\\n5. Boolean indexing:\")\n\ndata = np.array([1, 5, 3, 8, 2, 7, 4, 6, 9])\nprint(f\"   Data: {data}\")\n\n# Create boolean mask\nmask = data > 5\nprint(f\"   Mask (data > 5): {mask}\")\nprint(f\"   Values > 5: {data[mask]}\")\n\n# Multiple conditions\nmask_multiple = (data > 3) & (data < 8)\nprint(f\"   Mask (3 < data < 8): {mask_multiple}\")\nprint(f\"   Values between 3 and 8: {data[mask_multiple]}\")\n\n# Boolean indexing with 2D arrays\nprint(f\"\\n6. Boolean indexing with 2D arrays:\")\ndata_2d = np.array([[1, 2, 3], [4, 5, 6], [7, 8, 9]])\nprint(f\"   2D Data:\")\nprint(f\"{data_2d}\")\n\n# Find elements > 5\nmask_2d = data_2d > 5\nprint(f\"   Mask (> 5):\")\nprint(f\"{mask_2d}\")\nprint(f\"   Values > 5: {data_2d[mask_2d]}\")\n\n# Fancy indexing\nprint(f\"\\n7. Fancy indexing (with arrays):\")\n\narray_fancy = np.array([10, 20, 30, 40, 50, 60])\nindices = np.array([0, 2, 4])\nprint(f\"   Array: {array_fancy}\")\nprint(f\"   Indices: {indices}\")\nprint(f\"   Selected elements: {array_fancy[indices]}\")\n\n# 2D fancy indexing\nprint(f\"\\n8. 2D Fancy indexing:\")\narray_2d_fancy = np.array([[1, 2, 3], [4, 5, 6], [7, 8, 9], [10, 11, 12]])\nprint(f\"   2D Array:\")\nprint(f\"{array_2d_fancy}\")\n\n# Select rows 0 and 2\nselected_rows = array_2d_fancy[[0, 2]]\nprint(f\"   Rows 0 and 2:\")\nprint(f\"{selected_rows}\")\n\n# Select specific elements\nrow_indices = np.array([0, 1, 2])\ncol_indices = np.array([0, 1, 2])\ndiagonal_elements = array_2d_fancy[row_indices, col_indices]\nprint(f\"   Diagonal elements: {diagonal_elements}\")\n\n# Modifying arrays through indexing\nprint(f\"\\n9. Modifying arrays:\")\n\nmodify_array = np.array([1, 2, 3, 4, 5, 6, 7, 8, 9, 10])\nprint(f\"   Original: {modify_array}\")\n\n# Modify single element\nmodify_array[0] = 99\nprint(f\"   After modify_array[0] = 99: {modify_array}\")\n\n# Modify slice\nmodify_array[1:4] = [88, 77, 66]\nprint(f\"   After modify_array[1:4] = [88, 77, 66]: {modify_array}\")\n\n# Modify using boolean indexing\nmodify_array[modify_array > 50] = 0\nprint(f\"   After setting values > 50 to 0: {modify_array}\")\n\n# Advanced indexing examples\nprint(f\"\\n10. Advanced indexing examples:\")\n\n# Create a 4x4 array\nadvanced_array = np.arange(16).reshape(4, 4)\nprint(f\"   4x4 Array:\")\nprint(f\"{advanced_array}\")\n\n# Select corners\ncorners = advanced_array[[0, 0, -1, -1], [0, -1, 0, -1]]\nprint(f\"   Corner elements: {corners}\")\n\n# Select anti-diagonal\nanti_diag = advanced_array[range(4), range(3, -1, -1)]\nprint(f\"   Anti-diagonal: {anti_diag}\")\n\n# Conditional replacement\nprint(f\"\\n11. Conditional replacement:\")\nconditional_array = np.array([1, -2, 3, -4, 5, -6, 7, -8])\nprint(f\"   Original: {conditional_array}\")\n\n# Replace negative values with their absolute value\nconditional_array[conditional_array < 0] = np.abs(conditional_array[conditional_array < 0])\nprint(f\"   After abs(negative): {conditional_array}\")\n\n# Using np.where for conditional operations\nprint(f\"\\n12. Using np.where:\")\nwhere_array = np.array([1, 5, 3, 8, 2, 7, 4, 6, 9])\nprint(f\"   Original: {where_array}\")\n\n# Replace values: >5 becomes 1, <=5 becomes 0\nresult_where = np.where(where_array > 5, 1, 0)\nprint(f\"   np.where(arr > 5, 1, 0): {result_where}\")\n\n# Multiple conditions with np.where\nresult_complex = np.where(where_array < 3, -1, \n                         np.where(where_array > 7, 1, 0))\nprint(f\"   Complex condition (<3: -1, >7: 1, else: 0): {result_complex}\")\n\nprint(f\"\\n13. Indexing best practices:\")\nprint(f\"   ✓ Use boolean indexing for conditional selection\")\nprint(f\"   ✓ Fancy indexing for non-contiguous element selection\")\nprint(f\"   ✓ Slicing creates views (shares memory), fancy indexing creates copies\")\nprint(f\"   ✓ Use np.where for conditional replacements\")\nprint(f\"   ✓ Remember that negative indices count from the end\")\nprint(f\"   ✓ Multi-dimensional indexing: arr[row_idx, col_idx]\")"
]
},
{
"cell_type": "markdown",
"metadata": {},
"source": [
"## 3. Mathematical Operations and Broadcasting\n",
"\n",
"Performing calculations and understanding NumPy's broadcasting rules:"
]
},
{
"cell_type": "code",
"execution_count": null,
"metadata": {},
"outputs": [],
"source": [
"# Mathematical operations and broadcasting\nimport numpy as np\n\nprint(\"Mathematical Operations and Broadcasting:\")\nprint(\"=\" * 40)\n\n# Basic arithmetic operations\nprint(\"1. Basic arithmetic operations:\")\n\narray_a = np.array([1, 2, 3, 4, 5])\narray_b = np.array([10, 20, 30, 40, 50])\n\nprint(f\"   Array A: {array_a}\")\nprint(f\"   Array B: {array_b}\")\nprint(f\"   A + B: {array_a + array_b}\")\nprint(f\"   A - B: {array_a - array_b}\")\nprint(f\"   A * B: {array_a * array_b}\")\nprint(f\"   A / B: {array_a / array_b}\")\nprint(f\"   A ** 2: {array_a ** 2}\")\nprint(f\"   A % 3: {array_a % 3}\")\n\n# Scalar operations\nprint(f\"\\n2. Scalar operations:\")\narray_scalar = np.array([1, 2, 3, 4, 5])\nprint(f\"   Array: {array_scalar}\")\nprint(f\"   Array + 10: {array_scalar + 10}\")\nprint(f\"   Array * 3: {array_scalar * 3}\")\nprint(f\"   Array / 2: {array_scalar / 2}\")\nprint(f\"   Array ** 0.5: {array_scalar ** 0.5}\")\n\n# Mathematical functions\nprint(f\"\\n3. Mathematical functions:\")\nmath_array = np.array([1, 4, 9, 16, 25])\nprint(f\"   Array: {math_array}\")\nprint(f\"   sqrt: {np.sqrt(math_array)}\")\nprint(f\"   log: {np.log(math_array).round(2)}\")\nprint(f\"   exp: {np.exp([1, 2, 3]).round(2)}\")\nprint(f\"   sin: {np.sin([0, np.pi/2, np.pi]).round(2)}\")\nprint(f\"   cos: {np.cos([0, np.pi/2, np.pi]).round(2)}\")\n\n# Trigonometric functions\nangles = np.array([0, 30, 45, 60, 90]) * np.pi / 180  # Convert to radians\nprint(f\"\\n4. Trigonometric functions:\")\nprint(f\"   Angles (degrees): [0, 30, 45, 60, 90]\")\nprint(f\"   sin: {np.sin(angles).round(2)}\")\nprint(f\"   cos: {np.cos(angles).round(2)}\")\nprint(f\"   tan: {np.tan(angles).round(2)}\")\n\n# Matrix operations\nprint(f\"\\n5. Matrix operations:\")\nmatrix_a = np.array([[1, 2], [3, 4]])\nmatrix_b = np.array([[5, 6], [7, 8]])\n\nprint(f\"   Matrix A:\")\nprint(f\"{matrix_a}\")\nprint(f\"   Matrix B:\")\nprint(f\"{matrix_b}\")\n\n# Element-wise operations\nprint(f\"   Element-wise multiplication (A * B):\")\nprint(f\"{matrix_a * matrix_b}\")\n\n# Matrix multiplication\nprint(f\"   Matrix multiplication (A @ B):\")\nprint(f\"{matrix_a @ matrix_b}\")\n\n# Alternative matrix multiplication\nprint(f\"   Matrix multiplication (np.dot):\")\nprint(f\"{np.dot(matrix_a, matrix_b)}\")\n\n# Broadcasting examples\nprint(f\"\\n6. Broadcasting examples:\")\n\n# 1D array with scalar\nbroadcast_1d = np.array([1, 2, 3, 4])\nprint(f\"   1D array: {broadcast_1d}\")\nprint(f\"   + scalar 10: {broadcast_1d + 10}\")\n\n# 2D array with 1D array\nbroadcast_2d = np.array([[1, 2, 3], [4, 5, 6], [7, 8, 9]])\nbroadcast_1d_row = np.array([10, 20, 30])\nprint(f\"   2D array:\")\nprint(f\"{broadcast_2d}\")\nprint(f\"   1D array (row): {broadcast_1d_row}\")\nprint(f\"   2D + 1D (broadcasting):\")\nprint(f\"{broadcast_2d + broadcast_1d_row}\")\n\n# Column-wise broadcasting\nbroadcast_1d_col = np.array([[10], [20], [30]])\nprint(f\"   1D array (column): {broadcast_1d_col.flatten()}\")\nprint(f\"   2D + 1D column (broadcasting):\")\nprint(f\"{broadcast_2d + broadcast_1d_col}\")\n\n# Broadcasting rules demonstration\nprint(f\"\\n7. Broadcasting rules:\")\nprint(f\"   Rule 1: Arrays are aligned from the trailing dimension\")\nprint(f\"   Rule 2: Dimensions of size 1 can be stretched\")\nprint(f\"   Rule 3: Missing dimensions are assumed to be 1\")\n\n# Examples of valid broadcasting\narray_3x1 = np.array([[1], [2], [3]])\narray_1x4 = np.array([[10, 20, 30, 40]])\nprint(f\"   Array (3,1): shape {array_3x1.shape}\")\nprint(f\"{array_3x1}\")\nprint(f\"   Array (1,4): shape {array_1x4.shape}\")\nprint(f\"{array_1x4}\")\nprint(f\"   Broadcasted result (3,4):\")\nprint(f\"{array_3x1 + array_1x4}\")\n\n# Aggregation functions\nprint(f\"\\n8. Aggregation functions:\")\nagg_array = np.array([[1, 2, 3, 4], [5, 6, 7, 8], [9, 10, 11, 12]])\nprint(f\"   Array:\")\nprint(f\"{agg_array}\")\nprint(f\"   Sum (all): {np.sum(agg_array)}\")\nprint(f\"   Sum (axis=0): {np.sum(agg_array, axis=0)}\")\nprint(f\"   Sum (axis=1): {np.sum(agg_array, axis=1)}\")\nprint(f\"   Mean: {np.mean(agg_array):.2f}\")\nprint(f\"   Max: {np.max(agg_array)}\")\nprint(f\"   Min: {np.min(agg_array)}\")\nprint(f\"   Standard deviation: {np.std(agg_array):.2f}\")\n\n# Cumulative functions\nprint(f\"\\n9. Cumulative functions:\")\ncum_array = np.array([1, 2, 3, 4, 5])\nprint(f\"   Array: {cum_array}\")\nprint(f\"   Cumulative sum: {np.cumsum(cum_array)}\")\nprint(f\"   Cumulative product: {np.cumprod(cum_array)}\")\n\n# Comparison operations\nprint(f\"\\n10. Comparison operations:\")\ncomp_a = np.array([1, 2, 3, 4, 5])\ncomp_b = np.array([1, 3, 2, 4, 6])\nprint(f\"   Array A: {comp_a}\")\nprint(f\"   Array B: {comp_b}\")\nprint(f\"   A == B: {comp_a == comp_b}\")\nprint(f\"   A > B: {comp_a > comp_b}\")\nprint(f\"   A >= B: {comp_a >= comp_b}\")\n\n# Logical operations\nprint(f\"\\n11. Logical operations:\")\nlogical_a = np.array([True, False, True, False])\nlogical_b = np.array([True, True, False, False])\nprint(f\"   Array A: {logical_a}\")\nprint(f\"   Array B: {logical_b}\")\nprint(f\"   A & B (and): {logical_a & logical_b}\")\nprint(f\"   A | B (or): {logical_a | logical_b}\")\nprint(f\"   ~A (not): {~logical_a}\")\n\n# Universal functions (ufuncs)\nprint(f\"\\n12. Universal functions efficiency:\")\nimport time\n\n# Compare Python loop vs NumPy ufunc\nlarge_array = np.random.random(100000)\n\n# Python way\nstart = time.time()\npython_result = [x**2 + 2*x + 1 for x in large_array]\npython_time = time.time() - start\n\n# NumPy way\nstart = time.time()\nnumpy_result = large_array**2 + 2*large_array + 1\nnumpy_time = time.time() - start\n\nprint(f\"   Array size: {len(large_array):,}\")\nprint(f\"   Python loop: {python_time:.6f} seconds\")\nprint(f\"   NumPy ufunc: {numpy_time:.6f} seconds\")\nprint(f\"   NumPy is {python_time/numpy_time:.1f}x faster\")\n\nprint(f\"\\n13. Key mathematical operations summary:\")\nprint(f\"   ✓ Element-wise operations: +, -, *, /, **, %\")\nprint(f\"   ✓ Mathematical functions: sqrt, log, exp, sin, cos, tan\")\nprint(f\"   ✓ Matrix operations: @, np.dot() for matrix multiplication\")\nprint(f\"   ✓ Broadcasting allows operations between different shaped arrays\")\nprint(f\"   ✓ Aggregations: sum, mean, max, min, std\")\nprint(f\"   ✓ Comparisons return boolean arrays\")\nprint(f\"   ✓ Universal functions (ufuncs) are highly optimized\")"
]
},
{
"cell_type": "markdown",
"metadata": {},
"source": [
"## Summary\n",
"\n",
"In this notebook, you learned about:\n",
"\n",
"✅ **NumPy Arrays**: Efficient n-dimensional arrays for numerical computing[3][6]  \n",
"✅ **Array Creation**: Various methods to create arrays with different data types  \n",
"✅ **Indexing & Slicing**: Accessing and modifying array elements efficiently  \n",
"✅ **Mathematical Operations**: Element-wise operations and universal functions  \n",
"✅ **Broadcasting**: Performing operations on arrays of different shapes[7]  \n",
"✅ **Performance**: Significant speed advantages over Python lists  \n",
"\n",
"### Key Takeaways:\n",
"1. NumPy arrays are faster and more memory-efficient than Python lists[1][6]\n",
"2. Broadcasting allows operations between arrays of different shapes\n",
"3. Universal functions (ufuncs) provide vectorized operations\n",
"4. Boolean indexing enables powerful filtering capabilities\n",
"5. NumPy is the foundation for most Python data science libraries[3][7]\n",
"6. Always specify data types when precision matters\n",
"\n",
"### Next Topic: 26_pandas_basics.ipynb\n",
"Learn about Pandas for data manipulation and analysis with DataFrames."
]
}
],
"metadata": {
"kernelspec": {
"display_name": "Python 3",
"language": "python",
"name": "python3"
},
"language_info": {
"codemirror_mode": {
"name": "ipython",
"version": 3
},
"file_extension": ".py",
"mimetype": "text/x-python",
"name": "python",
"nbconvert_exporter": "python",
"pygments_lexer": "ipython3",
"version": "3.8.5"
}
},
"nbformat": 4,
"nbformat_minor": 4
}
