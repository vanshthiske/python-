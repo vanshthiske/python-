{
 "cells": [
  {
   "cell_type": "markdown",
   "metadata": {},
   "source": [
    "# Topic 05: Lists - Comprehensive Guide\n",
    "\n",
    "## Overview\n",
    "Lists are Python's most versatile and commonly used data structure. This notebook covers everything from basic operations to advanced techniques.\n",
    "\n",
    "### What You'll Learn:\n",
    "- List creation and initialization\n",
    "- Indexing, slicing, and accessing elements\n",
    "- List methods and operations\n",
    "- List comprehensions\n",
    "- Nested lists and multidimensional data\n",
    "- Performance considerations\n",
    "\n",
    "---"
   ]
  },
  {
   "cell_type": "markdown",
   "metadata": {},
   "source": [
    "## 1. Creating Lists\n",
    "\n",
    "Multiple ways to create and initialize lists:"
   ]
  },
  {
   "cell_type": "code",
   "execution_count": 1,
   "metadata": {},
   "outputs": [
    {
     "name": "stdout",
     "output_type": "stream",
     "text": [
      "List Creation Methods:\n",
      "=========================\n",
      "Empty lists: [], []\n",
      "Numbers: [1, 2, 3, 4, 5]\n",
      "Mixed types: [1, 'hello', 3.14, True, None]\n",
      "Fruits: ['apple', 'banana', 'cherry', 'date']\n",
      "From range(1, 11): [1, 2, 3, 4, 5, 6, 7, 8, 9, 10]\n",
      "Even numbers: [0, 2, 4, 6, 8, 10, 12, 14, 16, 18, 20]\n",
      "From string 'Python': ['P', 'y', 't', 'h', 'o', 'n']\n",
      "Five zeros: [0, 0, 0, 0, 0]\n",
      "Repeated 'hello': ['hello', 'hello', 'hello']\n"
     ]
    }
   ],
   "source": [
    "# Different ways to create lists\n",
    "print(\"List Creation Methods:\")\n",
    "print(\"=\" * 25)\n",
    "\n",
    "# Empty list\n",
    "empty_list = []\n",
    "empty_list2 = list()\n",
    "print(f\"Empty lists: {empty_list}, {empty_list2}\")\n",
    "\n",
    "# List with initial values\n",
    "numbers = [1, 2, 3, 4, 5]\n",
    "mixed_list = [1, 'hello', 3.14, True, None]\n",
    "fruits = ['apple', 'banana', 'cherry', 'date']\n",
    "\n",
    "print(f\"Numbers: {numbers}\")\n",
    "print(f\"Mixed types: {mixed_list}\")\n",
    "print(f\"Fruits: {fruits}\")\n",
    "\n",
    "# List from range\n",
    "range_list = list(range(1, 11))  # 1 to 10\n",
    "even_numbers = list(range(0, 21, 2))  # 0 to 20, step 2\n",
    "print(f\"From range(1, 11): {range_list}\")\n",
    "print(f\"Even numbers: {even_numbers}\")\n",
    "\n",
    "# List from string\n",
    "char_list = list('Python')\n",
    "print(f\"From string 'Python': {char_list}\")\n",
    "\n",
    "# List with repeated elements\n",
    "zeros = [0] * 5\n",
    "repeated_list = ['hello'] * 3\n",
    "print(f\"Five zeros: {zeros}\")\n",
    "print(f\"Repeated 'hello': {repeated_list}\")"
   ]
  },
  {
   "cell_type": "code",
   "execution_count": 2,
   "metadata": {},
   "outputs": [
    {
     "name": "stdout",
     "output_type": "stream",
     "text": [
      "Languages: ['Python', 'Java', 'JavaScript', 'C++', 'Go', 'Rust']\n",
      "\n",
      "Indexing:\n",
      "First: Python\n",
      "Last: Rust\n",
      "Second: Java\n",
      "\n",
      "Slicing:\n",
      "First 3: ['Python', 'Java', 'JavaScript']\n",
      "Last 2: ['Go', 'Rust']\n",
      "Every 2nd: ['Python', 'JavaScript', 'Go']\n",
      "Reversed: ['Rust', 'Go', 'C++', 'JavaScript', 'Java', 'Python']\n"
     ]
    }
   ],
   "source": [
    "# List indexing and slicing\n",
    "programming_languages = ['Python', 'Java', 'JavaScript', 'C++', 'Go', 'Rust']\n",
    "print(f\"Languages: {programming_languages}\")\n",
    "\n",
    "# Basic indexing\n",
    "print(f\"\\nIndexing:\")\n",
    "print(f\"First: {programming_languages[0]}\")\n",
    "print(f\"Last: {programming_languages[-1]}\")\n",
    "print(f\"Second: {programming_languages[1]}\")\n",
    "\n",
    "# Slicing examples\n",
    "print(f\"\\nSlicing:\")\n",
    "print(f\"First 3: {programming_languages[:3]}\")\n",
    "print(f\"Last 2: {programming_languages[-2:]}\")\n",
    "print(f\"Every 2nd: {programming_languages[::2]}\")\n",
    "print(f\"Reversed: {programming_languages[::-1]}\")"
   ]
  },
  {
   "cell_type": "code",
   "execution_count": 3,
   "metadata": {},
   "outputs": [
    {
     "name": "stdout",
     "output_type": "stream",
     "text": [
      "Initial: ['milk', 'bread']\n",
      "After append: ['milk', 'bread', 'eggs']\n",
      "After extend: ['milk', 'bread', 'eggs', 'cheese', 'butter']\n",
      "After insert at 0: ['coffee', 'milk', 'bread', 'eggs', 'cheese', 'butter']\n",
      "Combined lists: ['coffee', 'milk', 'bread', 'eggs', 'cheese', 'butter', 'apples', 'bananas']\n"
     ]
    }
   ],
   "source": [
    "# List methods - adding elements\n",
    "shopping_list = ['milk', 'bread']\n",
    "print(f\"Initial: {shopping_list}\")\n",
    "\n",
    "# Add single item\n",
    "shopping_list.append('eggs')\n",
    "print(f\"After append: {shopping_list}\")\n",
    "\n",
    "# Add multiple items\n",
    "shopping_list.extend(['cheese', 'butter'])\n",
    "print(f\"After extend: {shopping_list}\")\n",
    "\n",
    "# Insert at specific position\n",
    "shopping_list.insert(0, 'coffee')\n",
    "print(f\"After insert at 0: {shopping_list}\")\n",
    "\n",
    "# List concatenation\n",
    "more_items = ['apples', 'bananas']\n",
    "combined = shopping_list + more_items\n",
    "print(f\"Combined lists: {combined}\")"
   ]
  },
  {
   "cell_type": "code",
   "execution_count": 4,
   "metadata": {},
   "outputs": [
    {
     "name": "stdout",
     "output_type": "stream",
     "text": [
      "Original: ['apple', 'banana', 'cherry', 'banana', 'date']\n",
      "After remove('banana'): ['apple', 'cherry', 'banana', 'date']\n",
      "Popped: date, Remaining: ['apple', 'cherry', 'banana']\n",
      "Popped at index 1: cherry, Remaining: ['apple', 'banana']\n",
      "After del items[0]: ['banana']\n",
      "After clear(): []\n"
     ]
    }
   ],
   "source": [
    "# List methods - removing elements\n",
    "items = ['apple', 'banana', 'cherry', 'banana', 'date']\n",
    "print(f\"Original: {items}\")\n",
    "\n",
    "# Remove by value (first occurrence)\n",
    "items.remove('banana')\n",
    "print(f\"After remove('banana'): {items}\")\n",
    "\n",
    "# Pop last item\n",
    "last = items.pop()\n",
    "print(f\"Popped: {last}, Remaining: {items}\")\n",
    "\n",
    "# Pop at specific index\n",
    "second = items.pop(1)\n",
    "print(f\"Popped at index 1: {second}, Remaining: {items}\")\n",
    "\n",
    "# Delete by index\n",
    "del items[0]\n",
    "print(f\"After del items[0]: {items}\")\n",
    "\n",
    "# Clear all elements\n",
    "items.clear()\n",
    "print(f\"After clear(): {items}\")"
   ]
  },
  {
   "cell_type": "code",
   "execution_count": 5,
   "metadata": {},
   "outputs": [
    {
     "name": "stdout",
     "output_type": "stream",
     "text": [
      "Numbers: [3, 1, 4, 1, 5, 9, 2, 6, 5]\n",
      "\n",
      "Searching:\n",
      "Index of 4: 2\n",
      "Count of 1: 2\n",
      "5 in numbers: True\n",
      "10 in numbers: False\n",
      "\n",
      "Sorting:\n",
      "Sorted (new list): [1, 1, 2, 3, 4, 5, 5, 6, 9]\n",
      "Original unchanged: [3, 1, 4, 1, 5, 9, 2, 6, 5]\n",
      "After sort(): [1, 1, 2, 3, 4, 5, 5, 6, 9]\n",
      "After reverse(): [9, 6, 5, 5, 4, 3, 2, 1, 1]\n",
      "\n",
      "Statistics:\n",
      "Min: 1\n",
      "Max: 9\n",
      "Sum: 36\n",
      "Length: 9\n"
     ]
    }
   ],
   "source": [
    "# List methods - searching and sorting\n",
    "numbers = [3, 1, 4, 1, 5, 9, 2, 6, 5]\n",
    "print(f\"Numbers: {numbers}\")\n",
    "\n",
    "# Searching\n",
    "print(f\"\\nSearching:\")\n",
    "print(f\"Index of 4: {numbers.index(4)}\")\n",
    "print(f\"Count of 1: {numbers.count(1)}\")\n",
    "print(f\"5 in numbers: {5 in numbers}\")\n",
    "print(f\"10 in numbers: {10 in numbers}\")\n",
    "\n",
    "# Sorting\n",
    "print(f\"\\nSorting:\")\n",
    "sorted_nums = sorted(numbers)  # Returns new list\n",
    "print(f\"Sorted (new list): {sorted_nums}\")\n",
    "print(f\"Original unchanged: {numbers}\")\n",
    "\n",
    "numbers.sort()  # Sorts in place\n",
    "print(f\"After sort(): {numbers}\")\n",
    "\n",
    "numbers.reverse()  # Reverses in place\n",
    "print(f\"After reverse(): {numbers}\")\n",
    "\n",
    "# Min, max, sum\n",
    "print(f\"\\nStatistics:\")\n",
    "print(f\"Min: {min(numbers)}\")\n",
    "print(f\"Max: {max(numbers)}\")\n",
    "print(f\"Sum: {sum(numbers)}\")\n",
    "print(f\"Length: {len(numbers)}\")"
   ]
  },
  {
   "cell_type": "code",
   "execution_count": 6,
   "metadata": {},
   "outputs": [
    {
     "name": "stdout",
     "output_type": "stream",
     "text": [
      "List Comprehensions:\n",
      "====================\n",
      "Squares: [1, 4, 9, 16, 25]\n",
      "Even squares: [4, 16, 36, 64, 100]\n",
      "Capitalized: ['Hello', 'World', 'Python']\n",
      "Multiplication table: [[1, 2, 3], [2, 4, 6], [3, 6, 9]]\n",
      "Positive doubled: [2, 4, 6, 8, 10]\n"
     ]
    }
   ],
   "source": [
    "# List comprehensions\n",
    "print(\"List Comprehensions:\")\n",
    "print(\"=\" * 20)\n",
    "\n",
    "# Basic comprehension\n",
    "squares = [x**2 for x in range(1, 6)]\n",
    "print(f\"Squares: {squares}\")\n",
    "\n",
    "# With condition\n",
    "even_squares = [x**2 for x in range(1, 11) if x % 2 == 0]\n",
    "print(f\"Even squares: {even_squares}\")\n",
    "\n",
    "# String operations\n",
    "words = ['hello', 'world', 'python']\n",
    "capitalized = [word.capitalize() for word in words]\n",
    "print(f\"Capitalized: {capitalized}\")\n",
    "\n",
    "# Nested comprehension\n",
    "matrix = [[i*j for j in range(1, 4)] for i in range(1, 4)]\n",
    "print(f\"Multiplication table: {matrix}\")\n",
    "\n",
    "# Filter and transform\n",
    "numbers = [-2, -1, 0, 1, 2, 3, 4, 5]\n",
    "positive_doubled = [x * 2 for x in numbers if x > 0]\n",
    "print(f\"Positive doubled: {positive_doubled}\")"
   ]
  },
  {
   "cell_type": "code",
   "execution_count": 7,
   "metadata": {},
   "outputs": [
    {
     "name": "stdout",
     "output_type": "stream",
     "text": [
      "Nested Lists:\n",
      "===============\n",
      "Matrix: [[1, 2, 3], [4, 5, 6], [7, 8, 9]]\n",
      "Element [1][2]: 6\n",
      "First row: [1, 2, 3]\n",
      "First column: [1, 4, 7]\n",
      "\n",
      "Matrix operations:\n",
      "Transpose: [[1, 4, 7], [2, 5, 8], [3, 6, 9]]\n",
      "Flattened: [1, 2, 3, 4, 5, 6, 7, 8, 9]\n",
      "Zeros matrix: [[0, 0, 0], [0, 0, 0], [0, 0, 0]]\n"
     ]
    }
   ],
   "source": [
    "# Nested lists and 2D operations\n",
    "print(\"Nested Lists:\")\n",
    "print(\"=\" * 15)\n",
    "\n",
    "# Creating 2D list\n",
    "matrix = [\n",
    "    [1, 2, 3],\n",
    "    [4, 5, 6],\n",
    "    [7, 8, 9]\n",
    "]\n",
    "print(f\"Matrix: {matrix}\")\n",
    "\n",
    "# Accessing elements\n",
    "print(f\"Element [1][2]: {matrix[1][2]}\")\n",
    "print(f\"First row: {matrix[0]}\")\n",
    "print(f\"First column: {[row[0] for row in matrix]}\")\n",
    "\n",
    "# Matrix operations\n",
    "print(f\"\\nMatrix operations:\")\n",
    "# Transpose\n",
    "transpose = [[matrix[j][i] for j in range(len(matrix))] for i in range(len(matrix[0]))]\n",
    "print(f\"Transpose: {transpose}\")\n",
    "\n",
    "# Flatten matrix\n",
    "flattened = [item for row in matrix for item in row]\n",
    "print(f\"Flattened: {flattened}\")\n",
    "\n",
    "# Create matrix with zeros\n",
    "zeros_matrix = [[0 for _ in range(3)] for _ in range(3)]\n",
    "print(f\"Zeros matrix: {zeros_matrix}\")"
   ]
  },
  {
   "cell_type": "code",
   "execution_count": 8,
   "metadata": {},
   "outputs": [
    {
     "name": "stdout",
     "output_type": "stream",
     "text": [
      "Performance Comparison:\n",
      "=========================\n",
      "Append in loop: 0.0301 seconds\n",
      "List comprehension: 0.0089 seconds\n",
      "List from range: 0.0017 seconds\n",
      "\n",
      "Memory usage:\n",
      "Small list size: 88 bytes\n",
      "Large list size: 8056 bytes\n"
     ]
    }
   ],
   "source": [
    "# List performance and best practices\n",
    "import time\n",
    "\n",
    "print(\"Performance Comparison:\")\n",
    "print(\"=\" * 25)\n",
    "\n",
    "# Creating large lists\n",
    "n = 100000\n",
    "\n",
    "# Method 1: append in loop\n",
    "start = time.time()\n",
    "list1 = []\n",
    "for i in range(n):\n",
    "    list1.append(i)\n",
    "time1 = time.time() - start\n",
    "\n",
    "# Method 2: list comprehension\n",
    "start = time.time()\n",
    "list2 = [i for i in range(n)]\n",
    "time2 = time.time() - start\n",
    "\n",
    "# Method 3: list() with range\n",
    "start = time.time()\n",
    "list3 = list(range(n))\n",
    "time3 = time.time() - start\n",
    "\n",
    "print(f\"Append in loop: {time1:.4f} seconds\")\n",
    "print(f\"List comprehension: {time2:.4f} seconds\")\n",
    "print(f\"List from range: {time3:.4f} seconds\")\n",
    "\n",
    "# Memory usage (simplified)\n",
    "import sys\n",
    "small_list = [1, 2, 3]\n",
    "large_list = list(range(1000))\n",
    "print(f\"\\nMemory usage:\")\n",
    "print(f\"Small list size: {sys.getsizeof(small_list)} bytes\")\n",
    "print(f\"Large list size: {sys.getsizeof(large_list)} bytes\")"
   ]
  },
  {
   "cell_type": "code",
   "execution_count": 9,
   "metadata": {},
   "outputs": [
    {
     "name": "stdout",
     "output_type": "stream",
     "text": [
      "List Practice Exercises:\n",
      "=========================\n",
      "Original: [1, 2, 3, 2, 4, 1, 5, 3]\n",
      "Unique: [1, 2, 3, 4, 5]\n",
      "\n",
      "Common elements: [4, 5]\n",
      "\n",
      "Original: [1, 2, 3, 4, 5]\n",
      "Rotated by 2: [3, 4, 5, 1, 2]\n",
      "\n",
      "Numbers: [1, 2, 3, 5, 6, 8, 9, 10, 11]\n",
      "Grouped: [[1, 2, 3], [5, 6], [8, 9, 10, 11]]\n"
     ]
    }
   ],
   "source": [
    "# Practical exercises\n",
    "print(\"List Practice Exercises:\")\n",
    "print(\"=\" * 25)\n",
    "\n",
    "# Exercise 1: Remove duplicates while preserving order\n",
    "def remove_duplicates(lst):\n",
    "    seen = set()\n",
    "    result = []\n",
    "    for item in lst:\n",
    "        if item not in seen:\n",
    "            seen.add(item)\n",
    "            result.append(item)\n",
    "    return result\n",
    "\n",
    "test_list = [1, 2, 3, 2, 4, 1, 5, 3]\n",
    "unique_list = remove_duplicates(test_list)\n",
    "print(f\"Original: {test_list}\")\n",
    "print(f\"Unique: {unique_list}\")\n",
    "\n",
    "# Exercise 2: Find common elements\n",
    "list_a = [1, 2, 3, 4, 5]\n",
    "list_b = [4, 5, 6, 7, 8]\n",
    "common = [x for x in list_a if x in list_b]\n",
    "print(f\"\\nCommon elements: {common}\")\n",
    "\n",
    "# Exercise 3: Rotate list\n",
    "def rotate_list(lst, n):\n",
    "    if not lst:\n",
    "        return lst\n",
    "    n = n % len(lst)\n",
    "    return lst[n:] + lst[:n]\n",
    "\n",
    "original = [1, 2, 3, 4, 5]\n",
    "rotated = rotate_list(original, 2)\n",
    "print(f\"\\nOriginal: {original}\")\n",
    "print(f\"Rotated by 2: {rotated}\")\n",
    "\n",
    "# Exercise 4: Group consecutive numbers\n",
    "def group_consecutive(lst):\n",
    "    if not lst:\n",
    "        return []\n",
    "    \n",
    "    groups = []\n",
    "    current_group = [lst[0]]\n",
    "    \n",
    "    for i in range(1, len(lst)):\n",
    "        if lst[i] == lst[i-1] + 1:\n",
    "            current_group.append(lst[i])\n",
    "        else:\n",
    "            groups.append(current_group)\n",
    "            current_group = [lst[i]]\n",
    "    \n",
    "    groups.append(current_group)\n",
    "    return groups\n",
    "\n",
    "numbers = [1, 2, 3, 5, 6, 8, 9, 10, 11]\n",
    "grouped = group_consecutive(numbers)\n",
    "print(f\"\\nNumbers: {numbers}\")\n",
    "print(f\"Grouped: {grouped}\")"
   ]
  },
  {
   "cell_type": "markdown",
   "metadata": {},
   "source": [
    "## Summary\n",
    "\n",
    "In this notebook, you learned about:\n",
    "\n",
    "✅ **List Creation**: Multiple ways to create and initialize lists  \n",
    "✅ **Indexing & Slicing**: Accessing elements and sublists  \n",
    "✅ **List Methods**: Adding, removing, searching, and sorting  \n",
    "✅ **List Comprehensions**: Concise way to create lists  \n",
    "✅ **Nested Lists**: Working with 2D data structures  \n",
    "✅ **Performance**: Best practices for efficient list operations  \n",
    "\n",
    "### Key Takeaways:\n",
    "1. Lists are mutable and ordered\n",
    "2. Use list comprehensions for readable code\n",
    "3. Be careful with nested list creation\n",
    "4. Consider performance for large datasets\n",
    "5. Lists can contain mixed data types\n",
    "\n",
    "### Next Topic: 06_tuples.ipynb\n",
    "Learn about immutable sequences and their use cases."
   ]
  }
 ],
 "metadata": {
  "kernelspec": {
   "display_name": "Python 3 (ipykernel)",
   "language": "python",
   "name": "python3"
  },
  "language_info": {
   "codemirror_mode": {
    "name": "ipython",
    "version": 3
   },
   "file_extension": ".py",
   "mimetype": "text/x-python",
   "name": "python",
   "nbconvert_exporter": "python",
   "pygments_lexer": "ipython3",
   "version": "3.12.7"
  }
 },
 "nbformat": 4,
 "nbformat_minor": 4
}
