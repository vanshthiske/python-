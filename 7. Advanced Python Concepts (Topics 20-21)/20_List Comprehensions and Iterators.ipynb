{
"cells": [
{
"cell_type": "markdown",
"metadata": {},
"source": [
"# Topic 20: List Comprehensions and Advanced Data Handling\n",
"\n",
"## Overview\n",
"List comprehensions and advanced data handling techniques provide elegant, efficient ways to process and transform data in Python.\n",
"\n",
"### What You'll Learn:\n",
"- List comprehensions with conditions and nested loops\n",
"- Dictionary and set comprehensions\n",
"- Iterator protocol and custom iterators\n",
"- Generator expressions\n",
"- Enumerate and zip functions\n",
"- Performance comparisons\n",
"\n",
"---"
]
},
{
"cell_type": "markdown",
"metadata": {},
"source": [
"## 1. List Comprehensions\n",
"\n",
"Concise way to create lists with optional filtering and transformation:"
]
},
{
"cell_type": "code",
"execution_count": null,
"metadata": {},
"outputs": [],
"source": [
"# List comprehensions basics\nprint(\"List Comprehensions Basics:\")\nprint(\"=\" * 27)\n\n# Basic syntax: [expression for item in iterable]\nprint(\"1. Basic list comprehensions:\")\n\n# Traditional way\nsquares_traditional = []\nfor x in range(10):\n    squares_traditional.append(x**2)\nprint(f\"   Traditional loop: {squares_traditional}\")\n\n# List comprehension way\nsquares_comprehension = [x**2 for x in range(10)]\nprint(f\"   List comprehension: {squares_comprehension}\")\nprint(f\"   Results equal: {squares_traditional == squares_comprehension}\")\n\n# More examples\nprint(f\"\\n2. Various transformations:\")\nwords = ['python', 'java', 'javascript', 'go', 'rust']\n\n# Convert to uppercase\nupper_words = [word.upper() for word in words]\nprint(f\"   Uppercase: {upper_words}\")\n\n# Get word lengths\nword_lengths = [len(word) for word in words]\nprint(f\"   Lengths: {word_lengths}\")\n\n# First letter of each word\nfirst_letters = [word[0] for word in words]\nprint(f\"   First letters: {first_letters}\")\n\n# Mathematical operations\nnumbers = [1, 2, 3, 4, 5, 6, 7, 8, 9, 10]\ndoubled = [x * 2 for x in numbers]\nprint(f\"   Doubled: {doubled}\")\n\n# String operations\nnames = ['alice', 'bob', 'charlie']\ncapitalized = [name.capitalize() for name in names]\nprint(f\"   Capitalized: {capitalized}\")\n\n# Complex expressions\ntemperatures_f = [32, 68, 86, 104, 32]\ntemperatures_c = [(f - 32) * 5/9 for f in temperatures_f]\nprint(f\"   Fahrenheit: {temperatures_f}\")\nprint(f\"   Celsius: {[round(c, 1) for c in temperatures_c]}\")"
]
},
{
"cell_type": "markdown",
"metadata": {},
"source": [
"## 2. List Comprehensions with Conditions\n",
"\n",
"Adding filtering logic to list comprehensions:"
]
},
{
"cell_type": "code",
"execution_count": null,
"metadata": {},
"outputs": [],
"source": [
"# List comprehensions with conditions\nprint(\"List Comprehensions with Conditions:\")\nprint(\"=\" * 36)\n\n# Syntax: [expression for item in iterable if condition]\nprint(\"1. Filtering with conditions:\")\n\nnumbers = range(1, 21)\n\n# Even numbers only\nevens = [x for x in numbers if x % 2 == 0]\nprint(f\"   Even numbers: {evens}\")\n\n# Odd numbers squared\nodd_squares = [x**2 for x in numbers if x % 2 == 1]\nprint(f\"   Odd squares: {odd_squares}\")\n\n# Numbers divisible by 3\ndivisible_by_3 = [x for x in numbers if x % 3 == 0]\nprint(f\"   Divisible by 3: {divisible_by_3}\")\n\n# String filtering\nprint(f\"\\n2. String filtering:\")\nwords = ['python', 'java', 'javascript', 'go', 'rust', 'c', 'ruby']\n\n# Words longer than 4 characters\nlong_words = [word for word in words if len(word) > 4]\nprint(f\"   Long words (>4 chars): {long_words}\")\n\n# Words starting with specific letter\nj_words = [word for word in words if word.startswith('j')]\nprint(f\"   Words starting with 'j': {j_words}\")\n\n# Words containing 'a'\nwords_with_a = [word for word in words if 'a' in word]\nprint(f\"   Words containing 'a': {words_with_a}\")\n\n# Multiple conditions\nprint(f\"\\n3. Multiple conditions:\")\n\n# Numbers between 5 and 15 that are even\nfiltered_numbers = [x for x in range(1, 21) if 5 <= x <= 15 and x % 2 == 0]\nprint(f\"   Numbers 5-15 that are even: {filtered_numbers}\")\n\n# Words that are long AND start with specific letters\nspecial_words = [word for word in words if len(word) > 3 and word[0] in 'pjr']\nprint(f\"   Long words starting with p/j/r: {special_words}\")\n\n# Conditional expressions (ternary operator in comprehensions)\nprint(f\"\\n4. Conditional expressions:\")\n\n# Positive/negative labeling\nnums = [-5, -2, 0, 3, 7, -1, 4]\nlabeled = [f\"{n} (positive)\" if n > 0 else f\"{n} (negative)\" if n < 0 else f\"{n} (zero)\" for n in nums]\nprint(f\"   Labeled numbers: {labeled}\")\n\n# Grade categories\nscores = [85, 92, 78, 96, 67, 88, 94]\ngrades = ['A' if score >= 90 else 'B' if score >= 80 else 'C' if score >= 70 else 'F' for score in scores]\nprint(f\"   Scores: {scores}\")\nprint(f\"   Grades: {grades}\")\n\n# Complex filtering with functions\nprint(f\"\\n5. Using functions in comprehensions:\")\n\ndef is_prime(n):\n    \"\"\"Check if number is prime\"\"\"\n    if n < 2:\n        return False\n    for i in range(2, int(n**0.5) + 1):\n        if n % i == 0:\n            return False\n    return True\n\n# Prime numbers up to 30\nprimes = [n for n in range(2, 31) if is_prime(n)]\nprint(f\"   Prime numbers up to 30: {primes}\")\n\n# Vowel count in words\nword_vowel_counts = [(word, sum(1 for char in word.lower() if char in 'aeiou')) \n                     for word in words if len(word) > 3]\nprint(f\"   Word-vowel counts: {word_vowel_counts}\")\n\n# Performance comparison\nprint(f\"\\n6. Performance comparison:\")\nimport time\n\nlarge_range = range(100000)\n\n# Traditional loop\nstart = time.time()\ntraditional_result = []\nfor x in large_range:\n    if x % 2 == 0:\n        traditional_result.append(x * 2)\ntraditional_time = time.time() - start\n\n# List comprehension\nstart = time.time()\ncomprehension_result = [x * 2 for x in large_range if x % 2 == 0]\ncomprehension_time = time.time() - start\n\nprint(f\"   Traditional loop: {traditional_time:.4f} seconds\")\nprint(f\"   List comprehension: {comprehension_time:.4f} seconds\")\nprint(f\"   Comprehension is {traditional_time/comprehension_time:.1f}x faster\")\nprint(f\"   Results equal: {traditional_result == comprehension_result}\")"
]
},
{
"cell_type": "markdown",
"metadata": {},
"source": [
"## 3. Nested List Comprehensions\n",
"\n",
"Handling nested loops and complex data structures:"
]
},
{
"cell_type": "code",
"execution_count": null,
"metadata": {},
"outputs": [],
"source": [
"# Nested list comprehensions\nprint(\"Nested List Comprehensions:\")\nprint(\"=\" * 27)\n\n# Working with 2D data\nprint(\"1. Flattening nested lists:\")\n\n# 2D matrix\nmatrix = [\n    [1, 2, 3],\n    [4, 5, 6],\n    [7, 8, 9]\n]\n\nprint(f\"   Matrix: {matrix}\")\n\n# Flatten using nested comprehension\nflattened = [element for row in matrix for element in row]\nprint(f\"   Flattened: {flattened}\")\n\n# Traditional nested loop equivalent\ntraditional_flatten = []\nfor row in matrix:\n    for element in row:\n        traditional_flatten.append(element)\nprint(f\"   Traditional result: {traditional_flatten}\")\nprint(f\"   Results equal: {flattened == traditional_flatten}\")\n\n# More complex nested structures\nprint(f\"\\n2. Complex nested data:\")\n\n# List of lists with different lengths\njagged_list = [[1, 2], [3, 4, 5], [6], [7, 8, 9, 10]]\nall_numbers = [num for sublist in jagged_list for num in sublist]\nprint(f\"   Jagged list: {jagged_list}\")\nprint(f\"   Flattened: {all_numbers}\")\n\n# With filtering\neven_from_nested = [num for sublist in jagged_list for num in sublist if num % 2 == 0]\nprint(f\"   Even numbers only: {even_from_nested}\")\n\n# Creating nested structures\nprint(f\"\\n3. Creating nested structures:\")\n\n# Multiplication table\nmult_table = [[i * j for j in range(1, 6)] for i in range(1, 6)]\nprint(f\"   5x5 multiplication table:\")\nfor row in mult_table:\n    print(f\"     {row}\")\n\n# Matrix operations\nprint(f\"\\n4. Matrix operations:\")\n\n# Transpose matrix\noriginal = [[1, 2, 3], [4, 5, 6]]\nprint(f\"   Original: {original}\")\n\n# Method 1: Using zip\ntransposed1 = [list(row) for row in zip(*original)]\nprint(f\"   Transposed (zip): {transposed1}\")\n\n# Method 2: Using nested comprehension\ntransposed2 = [[row[i] for row in original] for i in range(len(original[0]))]\nprint(f\"   Transposed (comprehension): {transposed2}\")\n\n# Working with dictionaries in lists\nprint(f\"\\n5. Extracting from nested dictionaries:\")\n\nstudents = [\n    {'name': 'Alice', 'grades': [85, 92, 78], 'age': 20},\n    {'name': 'Bob', 'grades': [90, 87, 94], 'age': 19},\n    {'name': 'Charlie', 'grades': [88, 91, 85], 'age': 21}\n]\n\n# Extract all names\nnames = [student['name'] for student in students]\nprint(f\"   Names: {names}\")\n\n# Extract all grades (flattened)\nall_grades = [grade for student in students for grade in student['grades']]\nprint(f\"   All grades: {all_grades}\")\n\n# Students with high average (>85)\nhigh_performers = [student['name'] for student in students \n                  if sum(student['grades']) / len(student['grades']) > 85]\nprint(f\"   High performers: {high_performers}\")\n\n# Complex nested comprehension with conditions\nprint(f\"\\n6. Complex example:\")\n\n# Words from sentences, filtered and transformed\nsentences = [\n    \"Python is awesome\",\n    \"I love programming\",\n    \"Data science rocks\"\n]\n\n# Get all words longer than 4 characters, uppercased\nlong_words = [word.upper() for sentence in sentences \n              for word in sentence.split() if len(word) > 4]\nprint(f\"   Sentences: {sentences}\")\nprint(f\"   Long words (>4 chars, uppercased): {long_words}\")\n\n# Nested comprehension with multiple conditions\nfiltered_words = [word for sentence in sentences \n                  for word in sentence.split() \n                  if len(word) > 3 and 'a' in word.lower()]\nprint(f\"   Words >3 chars containing 'a': {filtered_words}\")\n\n# Performance note\nprint(f\"\\n7. Performance considerations:\")\nprint(f\"   ✓ List comprehensions are generally faster than loops\")\nprint(f\"   ✓ More readable for simple operations\")\nprint(f\"   ⚠️  Can become hard to read when too complex\")\nprint(f\"   ⚠️  Use regular loops for complex logic\")\nprint(f\"   ⚠️  Memory usage: creates entire list at once\")\n\n# When NOT to use list comprehensions\nprint(f\"\\n8. When to avoid list comprehensions:\")\nprint(f\"   ❌ Complex logic (use regular functions)\")\nprint(f\"   ❌ Side effects (printing, file writing)\")\nprint(f\"   ❌ Very large datasets (consider generators)\")\nprint(f\"   ❌ Deeply nested (>2 levels gets confusing)\")"
]
},
{
"cell_type": "markdown",
"metadata": {},
"source": [
"## 4. Dictionary and Set Comprehensions\n",
"\n",
"Creating dictionaries and sets with comprehension syntax:"
]
},
{
"cell_type": "code",
"execution_count": null,
"metadata": {},
"outputs": [],
"source": [
"# Dictionary and set comprehensions\nprint(\"Dictionary and Set Comprehensions:\")\nprint(\"=\" * 35)\n\n# Dictionary comprehensions\nprint(\"1. Dictionary comprehensions:\")\n\n# Basic syntax: {key: value for item in iterable}\nwords = ['python', 'java', 'go', 'rust']\n\n# Word lengths dictionary\nword_lengths = {word: len(word) for word in words}\nprint(f\"   Word lengths: {word_lengths}\")\n\n# Square numbers dictionary\nsquares_dict = {x: x**2 for x in range(1, 6)}\nprint(f\"   Squares: {squares_dict}\")\n\n# Using enumerate for index-value pairs\nindexed_words = {i: word for i, word in enumerate(words)}\nprint(f\"   Indexed words: {indexed_words}\")\n\n# Dictionary from two lists\nkeys = ['a', 'b', 'c', 'd']\nvalues = [1, 2, 3, 4]\nzipped_dict = {k: v for k, v in zip(keys, values)}\nprint(f\"   From zip: {zipped_dict}\")\n\n# Dictionary comprehensions with conditions\nprint(f\"\\n2. Dictionary comprehensions with filtering:\")\n\nnumbers = range(1, 11)\n\n# Only even numbers\neven_squares = {x: x**2 for x in numbers if x % 2 == 0}\nprint(f\"   Even squares: {even_squares}\")\n\n# Word filtering\nlong_word_lengths = {word: len(word) for word in words if len(word) > 3}\nprint(f\"   Long word lengths: {long_word_lengths}\")\n\n# Conditional values\ntemperatures = {'morning': 18, 'noon': 32, 'evening': 25, 'night': 12}\ntemp_categories = {time: ('warm' if temp > 20 else 'cool') \n                  for time, temp in temperatures.items()}\nprint(f\"   Temperature categories: {temp_categories}\")\n\n# Dictionary transformations\nprint(f\"\\n3. Dictionary transformations:\")\n\n# Original data\nstudent_scores = {\n    'Alice': [85, 92, 78],\n    'Bob': [90, 87, 94],\n    'Charlie': [88, 91, 85]\n}\n\n# Calculate averages\naverage_scores = {name: sum(scores)/len(scores) \n                 for name, scores in student_scores.items()}\nprint(f\"   Average scores: {average_scores}\")\n\n# Grade assignments\ngrade_assignments = {name: 'A' if avg >= 90 else 'B' if avg >= 80 else 'C'\n                    for name, avg in average_scores.items()}\nprint(f\"   Grade assignments: {grade_assignments}\")\n\n# Invert dictionary (swap keys and values)\ninverted_grades = {grade: name for name, grade in grade_assignments.items()}\nprint(f\"   Inverted grades: {inverted_grades}\")\n\n# Filtering dictionary\nhigh_performers = {name: avg for name, avg in average_scores.items() if avg >= 85}\nprint(f\"   High performers: {high_performers}\")\n\n# Set comprehensions\nprint(f\"\\n4. Set comprehensions:\")\n\n# Basic syntax: {expression for item in iterable}\ntext = \"hello world hello python world\"\n\n# Unique characters\nunique_chars = {char for char in text if char != ' '}\nprint(f\"   Text: '{text}'\")\nprint(f\"   Unique characters: {unique_chars}\")\n\n# Unique word lengths\nword_list = text.split()\nunique_lengths = {len(word) for word in word_list}\nprint(f\"   Words: {word_list}\")\nprint(f\"   Unique lengths: {unique_lengths}\")\n\n# Set operations with comprehensions\nprint(f\"\\n5. Advanced set operations:\")\n\n# Numbers and their properties\nnumbers = range(1, 21)\n\n# Set of even numbers\nevens = {x for x in numbers if x % 2 == 0}\nprint(f\"   Even numbers: {evens}\")\n\n# Set of numbers divisible by 3\ndivisible_by_3 = {x for x in numbers if x % 3 == 0}\nprint(f\"   Divisible by 3: {divisible_by_3}\")\n\n# Intersection using set operations\neven_and_div3 = {x for x in numbers if x % 2 == 0 and x % 3 == 0}\nprint(f\"   Even AND divisible by 3: {even_and_div3}\")\nprint(f\"   Same as intersection: {evens & divisible_by_3}\")\n\n# Complex set comprehensions\nprint(f\"\\n6. Complex examples:\")\n\n# Extract unique extensions from filenames\nfilenames = ['doc1.txt', 'image.png', 'data.csv', 'script.py', 'notes.txt', 'photo.png']\nunique_extensions = {filename.split('.')[-1] for filename in filenames}\nprint(f\"   Filenames: {filenames}\")\nprint(f\"   Unique extensions: {unique_extensions}\")\n\n# Dictionary of sets\ncategories = {\n    'fruits': ['apple', 'banana', 'orange', 'apple'],\n    'colors': ['red', 'blue', 'green', 'red'],\n    'numbers': [1, 2, 3, 1, 2]\n}\n\n# Remove duplicates using set comprehensions\nunique_categories = {category: {item for item in items} \n                    for category, items in categories.items()}\nprint(f\"   Original categories: {categories}\")\nprint(f\"   With duplicates removed: {unique_categories}\")\n\n# Nested comprehensions for complex data\nprint(f\"\\n7. Nested comprehensions:\")\n\n# Matrix to dictionary mapping\nmatrix = [[1, 2, 3], [4, 5, 6], [7, 8, 9]]\nmatrix_dict = {f'row_{i}': {f'col_{j}': value \n                           for j, value in enumerate(row)}\n              for i, row in enumerate(matrix)}\nprint(f\"   Matrix as nested dict:\")\nfor key, value in matrix_dict.items():\n    print(f\"     {key}: {value}\")\n\n# Performance comparison\nprint(f\"\\n8. Performance comparison:\")\nimport time\n\ndata = range(10000)\n\n# Traditional dict creation\nstart = time.time()\ntraditional_dict = {}\nfor x in data:\n    if x % 2 == 0:\n        traditional_dict[x] = x**2\ntraditional_time = time.time() - start\n\n# Dictionary comprehension\nstart = time.time()\ncomprehension_dict = {x: x**2 for x in data if x % 2 == 0}\ncomprehension_time = time.time() - start\n\nprint(f\"   Traditional creation: {traditional_time:.4f} seconds\")\nprint(f\"   Dict comprehension: {comprehension_time:.4f} seconds\")\nprint(f\"   Comprehension is {traditional_time/comprehension_time:.1f}x faster\")\nprint(f\"   Results equal: {traditional_dict == comprehension_dict}\")\n\nprint(f\"\\n9. Best practices:\")\nprint(f\"   ✓ Use comprehensions for simple transformations\")\nprint(f\"   ✓ Keep expressions readable\")\nprint(f\"   ✓ Consider memory usage for large datasets\")\nprint(f\"   ✓ Use descriptive variable names even in comprehensions\")\nprint(f\"   ⚠️  Avoid side effects (printing, file operations)\")\nprint(f\"   ⚠️  Don't make them too complex (max 2 levels of nesting)\")"
]
},
{
"cell_type": "markdown",
"metadata": {},
"source": [
"## 5. Iterators and Iterables\n",
"\n",
"Understanding Python's iteration protocol:"
]
},
{
"cell_type": "code",
"execution_count": null,
"metadata": {},
"outputs": [],
"source": [
"# Iterators and iterables\nprint(\"Iterators and Iterables:\")\nprint(\"=\" * 24)\n\n# Understanding the concepts\nprint(\"1. Iterable vs Iterator concepts:\")\nprint(\"   Iterable: Object that can be looped over (has __iter__ method)\")\nprint(\"   Iterator: Object that produces values one at a time (has __next__ method)\")\nprint(\"   Examples of iterables: list, tuple, string, dict, set, range\")\n\n# Checking if objects are iterable\nfrom collections.abc import Iterable, Iterator\n\nobjects_to_check = [\n    [1, 2, 3],           # list\n    (1, 2, 3),           # tuple\n    \"hello\",             # string\n    {1, 2, 3},           # set\n    {'a': 1, 'b': 2},    # dict\n    range(5),            # range\n    42,                  # int (not iterable)\n]\n\nprint(f\"\\n2. Checking iterability:\")\nfor obj in objects_to_check:\n    is_iterable = isinstance(obj, Iterable)\n    print(f\"   {str(obj):15} -> Iterable: {is_iterable}\")\n\n# Getting iterators from iterables\nprint(f\"\\n3. Getting iterators from iterables:\")\n\nmy_list = [1, 2, 3, 4, 5]\nprint(f\"   Original list: {my_list}\")\n\n# Get iterator using iter()\nlist_iterator = iter(my_list)\nprint(f\"   Iterator object: {list_iterator}\")\nprint(f\"   Is iterator: {isinstance(list_iterator, Iterator)}\")\n\n# Using next() to get values\nprint(f\"   Using next():\")\nprint(f\"     next(): {next(list_iterator)}\")\nprint(f\"     next(): {next(list_iterator)}\")\nprint(f\"     next(): {next(list_iterator)}\")\n\n# Iterator state is maintained\nprint(f\"   Remaining items: {list(list_iterator)}\")\n\n# Iterator exhaustion\nprint(f\"\\n4. Iterator exhaustion:\")\nsmall_list = [1, 2]\nsmall_iter = iter(small_list)\n\nprint(f\"   List: {small_list}\")\nprint(f\"   First: {next(small_iter)}\")\nprint(f\"   Second: {next(small_iter)}\")\n\n# This will raise StopIteration\ntry:\n    print(f\"   Third: {next(small_iter)}\")\nexcept StopIteration:\n    print(f\"   Third: StopIteration raised (iterator exhausted)\")\n\n# Using default value with next()\nprint(f\"   With default: {next(small_iter, 'No more items')}\")\n\n# Manual iteration\nprint(f\"\\n5. Manual iteration with while loop:\")\n\ndef manual_iteration(iterable):\n    \"\"\"Demonstrate manual iteration\"\"\"\n    iterator = iter(iterable)\n    result = []\n    \n    while True:\n        try:\n            item = next(iterator)\n            result.append(item * 2)  # Transform each item\n        except StopIteration:\n            break\n    \n    return result\n\noriginal = [1, 2, 3, 4]\ndoubled = manual_iteration(original)\nprint(f\"   Original: {original}\")\nprint(f\"   Doubled: {doubled}\")\n\n# How for loops work internally\nprint(f\"\\n6. How for loops work internally:\")\nprint(f\"   for item in iterable: is equivalent to:\")\nprint(f\"   iterator = iter(iterable)\")\nprint(f\"   while True:\")\nprint(f\"       try:\")\nprint(f\"           item = next(iterator)\")\nprint(f\"           # loop body\")\nprint(f\"       except StopIteration:\")\nprint(f\"           break\")\n\n# Multiple iterators from same iterable\nprint(f\"\\n7. Multiple iterators:\")\ndata = [10, 20, 30]\niter1 = iter(data)\niter2 = iter(data)\n\nprint(f\"   Data: {data}\")\nprint(f\"   Iterator 1 first item: {next(iter1)}\")\nprint(f\"   Iterator 2 first item: {next(iter2)}\")\nprint(f\"   Iterator 1 second item: {next(iter1)}\")\nprint(f\"   Iterators are independent!\")\n\n# Built-in iterators\nprint(f\"\\n8. Built-in iterator functions:\")\n\n# enumerate\nfruits = ['apple', 'banana', 'cherry']\nprint(f\"   enumerate():\")\nfor i, fruit in enumerate(fruits):\n    print(f\"     {i}: {fruit}\")\n\n# zip\nnames = ['Alice', 'Bob', 'Charlie']\nages = [25, 30, 35]\nprint(f\"   zip():\")\nfor name, age in zip(names, ages):\n    print(f\"     {name}: {age}\")\n\n# reversed\nprint(f\"   reversed():\")\nfor item in reversed(fruits):\n    print(f\"     {item}\")\n\n# range\nprint(f\"   range():\")\nfor num in range(3, 8, 2):\n    print(f\"     {num}\")\n\n# Iterator protocol demonstration\nprint(f\"\\n9. Iterator protocol methods:\")\n\nstring_example = \"ABC\"\nstring_iter = iter(string_example)\n\nprint(f\"   String: '{string_example}'\")\nprint(f\"   Has __iter__: {hasattr(string_example, '__iter__')}\")\nprint(f\"   Has __next__: {hasattr(string_example, '__next__')}\")\nprint(f\"   Iterator has __iter__: {hasattr(string_iter, '__iter__')}\")\nprint(f\"   Iterator has __next__: {hasattr(string_iter, '__next__')}\")\n\n# String itself is iterable but not an iterator\nprint(f\"   String is Iterable: {isinstance(string_example, Iterable)}\")\nprint(f\"   String is Iterator: {isinstance(string_example, Iterator)}\")\nprint(f\"   String iterator is Iterator: {isinstance(string_iter, Iterator)}\")"
]
},
{
"cell_type": "markdown",
"metadata": {},
"source": [
"## 6. Custom Iterators\n",
"\n",
"Creating your own iterable classes:"
]
},
{
"cell_type": "code",
"execution_count": null,
"metadata": {},
"outputs": [],
"source": [
"# Custom iterators\nprint(\"Custom Iterators:\")\nprint(\"=\" * 17)\n\n# Creating a custom iterator class\nprint(\"1. Basic custom iterator:\")\n\nclass Countdown:\n    \"\"\"Iterator that counts down from a given number\"\"\"\n    \n    def __init__(self, start):\n        self.start = start\n        self.current = start\n    \n    def __iter__(self):\n        \"\"\"Return the iterator object (self)\"\"\"\n        return self\n    \n    def __next__(self):\n        \"\"\"Return the next item in the sequence\"\"\"\n        if self.current <= 0:\n            raise StopIteration\n        \n        self.current -= 1\n        return self.current + 1  # Return current before decrementing\n\n# Using the custom iterator\nprint(f\"   Countdown from 5:\")\ncountdown = Countdown(5)\nfor num in countdown:\n    print(f\"     {num}\")\n\n# Iterator can only be used once\nprint(f\"   Trying to iterate again:\")\nfor num in countdown:\n    print(f\"     {num}\")\nprint(f\"   (Nothing printed - iterator exhausted)\")\n\n# Creating a new instance\nprint(f\"   New countdown from 3:\")\nfor num in Countdown(3):\n    print(f\"     {num}\")\n\n# More complex iterator\nprint(f\"\\n2. Fibonacci iterator:\")\n\nclass Fibonacci:\n    \"\"\"Iterator that generates Fibonacci numbers up to a limit\"\"\"\n    \n    def __init__(self, max_value):\n        self.max_value = max_value\n        self.a, self.b = 0, 1\n    \n    def __iter__(self):\n        return self\n    \n    def __next__(self):\n        if self.a > self.max_value:\n            raise StopIteration\n        \n        current = self.a\n        self.a, self.b = self.b, self.a + self.b\n        return current\n\n# Generate Fibonacci numbers up to 100\nprint(f\"   Fibonacci numbers up to 100:\")\nfib_numbers = list(Fibonacci(100))\nprint(f\"   {fib_numbers}\")\n\n# Iterator with state reset\nprint(f\"\\n3. Iterable class (reusable iterator):\")\n\nclass NumberRange:\n    \"\"\"Iterable class that creates new iterators each time\"\"\"\n    \n    def __init__(self, start, end, step=1):\n        self.start = start\n        self.end = end\n        self.step = step\n    \n    def __iter__(self):\n        \"\"\"Return a new iterator each time\"\"\"\n        return NumberRangeIterator(self.start, self.end, self.step)\n\nclass NumberRangeIterator:\n    \"\"\"Iterator for NumberRange\"\"\"\n    \n    def __init__(self, start, end, step):\n        self.current = start\n        self.end = end\n        self.step = step\n    \n    def __iter__(self):\n        return self\n    \n    def __next__(self):\n        if (self.step > 0 and self.current >= self.end) or \\\n           (self.step < 0 and self.current <= self.end):\n            raise StopIteration\n        \n        value = self.current\n        self.current += self.step\n        return value\n\n# Using the iterable class\nmy_range = NumberRange(1, 10, 2)\nprint(f\"   First iteration:\")\nfor num in my_range:\n    print(f\"     {num}\")\n\nprint(f\"   Second iteration (works again!):\")\nfor num in my_range:\n    print(f\"     {num}\")\n\n# Alternative: Single class approach\nprint(f\"\\n4. Single class iterator (simpler but less flexible):\")\n\nclass SquareNumbers:\n    \"\"\"Generate square numbers up to a limit\"\"\"\n    \n    def __init__(self, max_squares):\n        self.max_squares = max_squares\n        self.reset()\n    \n    def reset(self):\n        \"\"\"Reset the iterator\"\"\"\n        self.current = 1\n    \n    def __iter__(self):\n        self.reset()  # Reset on each iteration\n        return self\n    \n    def __next__(self):\n        if self.current > self.max_squares:\n            raise StopIteration\n        \n        square = self.current ** 2\n        self.current += 1\n        return square\n\n# Using the square numbers iterator\nsquares = SquareNumbers(5)\nprint(f\"   Square numbers (1-5):\")\nfor square in squares:\n    print(f\"     {square}\")\n\nprint(f\"   Can iterate again:\")\nfor square in squares:\n    print(f\"     {square}\")\n\n# Iterator with complex logic\nprint(f\"\\n5. Prime numbers iterator:\")\n\nclass PrimeNumbers:\n    \"\"\"Generate prime numbers up to a limit\"\"\"\n    \n    def __init__(self, max_value):\n        self.max_value = max_value\n        self.current = 2  # First prime number\n    \n    def __iter__(self):\n        return self\n    \n    def __next__(self):\n        while self.current <= self.max_value:\n            if self._is_prime(self.current):\n                prime = self.current\n                self.current += 1\n                return prime\n            self.current += 1\n        \n        raise StopIteration\n    \n    def _is_prime(self, n):\n        \"\"\"Check if number is prime\"\"\"\n        if n < 2:\n            return False\n        for i in range(2, int(n ** 0.5) + 1):\n            if n % i == 0:\n                return False\n        return True\n\n# Generate primes up to 30\nprint(f\"   Prime numbers up to 30:\")\nprimes = list(PrimeNumbers(30))\nprint(f\"   {primes}\")\n\n# Iterator with external state\nprint(f\"\\n6. File-like iterator:\")\n\nclass LineProcessor:\n    \"\"\"Simulate processing lines from a file\"\"\"\n    \n    def __init__(self, lines):\n        self.lines = lines\n        self.index = 0\n        self.line_number = 0\n    \n    def __iter__(self):\n        return self\n    \n    def __next__(self):\n        if self.index >= len(self.lines):\n            raise StopIteration\n        \n        self.line_number += 1\n        line = self.lines[self.index]\n        self.index += 1\n        \n        # Return line with line number\n        return f\"{self.line_number}: {line.strip()}\"\n\n# Simulate file content\nfile_content = [\n    \"First line\\n\",\n    \"Second line\\n\",\n    \"Third line\\n\",\n    \"Fourth line\\n\"\n]\n\nprocessor = LineProcessor(file_content)\nprint(f\"   Processing lines:\")\nfor processed_line in processor:\n    print(f\"     {processed_line}\")\n\nprint(f\"\\n7. Iterator best practices:\")\nprint(f\"   ✓ Implement both __iter__ and __next__ methods\")\nprint(f\"   ✓ __iter__ should return self (for iterators) or new iterator (for iterables)\")\nprint(f\"   ✓ __next__ should raise StopIteration when exhausted\")\nprint(f\"   ✓ Consider making classes reusable by resetting state in __iter__\")\nprint(f\"   ✓ Use descriptive class names and docstrings\")\nprint(f\"   ⚠️  Be careful with infinite iterators\")\nprint(f\"   ⚠️  Consider memory usage for large datasets\")"
]
},
{
"cell_type": "markdown",
"metadata": {},
"source": [
"## Summary\n",
"\n",
"In this notebook, you learned about:\n",
"\n",
"✅ **List Comprehensions**: Concise syntax for creating and filtering lists  \n",
"✅ **Nested Comprehensions**: Handling complex data structures and multiple loops  \n",
"✅ **Dictionary/Set Comprehensions**: Creating dictionaries and sets efficiently  \n",
"✅ **Iterator Protocol**: Understanding iterables vs iterators  \n",
"✅ **Custom Iterators**: Creating your own iterable classes  \n",
"✅ **Performance Benefits**: Speed and memory advantages of comprehensions  \n",
"\n",
"### Key Takeaways:\n",
"1. List comprehensions are faster and more readable for simple transformations\n",
"2. Use conditions in comprehensions for filtering\n",
"3. Dictionary and set comprehensions follow similar patterns\n",
"4. Understanding iterators helps with memory-efficient programming\n",
"5. Custom iterators enable elegant solutions for sequence generation\n",
"6. Keep comprehensions simple - use regular loops for complex logic\n",
"\n",
"### Next Topic: 21_decorators.ipynb\n",
"Learn about function decorators and metaprogramming concepts."
]
}
],
"metadata": {
"kernelspec": {
"display_name": "Python 3",
"language": "python",
"name": "python3"
},
"language_info": {
"codemirror_mode": {
"name": "ipython",
"version": 3
},
"file_extension": ".py",
"mimetype": "text/x-python",
"name": "python",
"nbconvert_exporter": "python",
"pygments_lexer": "ipython3",
"version": "3.8.5"
}
},
"nbformat": 4,
"nbformat_minor": 4
}
