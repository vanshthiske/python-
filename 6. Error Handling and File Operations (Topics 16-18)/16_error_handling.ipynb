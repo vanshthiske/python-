{
"cells": [
{
"cell_type": "markdown",
"metadata": {},
"source": [
"# Topic 16: Error Handling and Exceptions\n",
"\n",
"## Overview\n",
"Robust error handling is essential for writing reliable Python applications. Learn to anticipate, catch, and handle errors gracefully.\n",
"\n",
"### What You'll Learn:\n",
"- Exception types and hierarchy\n",
"- try, except, else, finally blocks\n",
"- Raising custom exceptions\n",
"- Exception best practices\n",
"- Logging and debugging exceptions\n",
"- Context managers for resource handling\n",
"\n",
"---"
]
},
{
"cell_type": "markdown",
"metadata": {},
"source": [
"## 1. Basic Exception Handling\n",
"\n",
"Understanding try-except blocks:"
]
},
{
"cell_type": "code",
"execution_count": null,
"metadata": {},
"outputs": [],
"source": [
"# Basic exception handling\nprint(\"Basic Exception Handling:\")\nprint(\"=\" * 25)\n\n# Simple try-except\ndef safe_division(a, b):\n    \"\"\"Safely divide two numbers\"\"\"\n    try:\n        result = a / b\n        return result\n    except ZeroDivisionError:\n        print(f\"  Error: Cannot divide {a} by zero!\")\n        return None\n\nprint(\"Safe division examples:\")\nprint(f\"  10 / 2 = {safe_division(10, 2)}\")\nprint(f\"  10 / 0 = {safe_division(10, 0)}\")\n\n# Multiple exception types\ndef safe_conversion(value):\n    \"\"\"Safely convert string to integer\"\"\"\n    try:\n        number = int(value)\n        reciprocal = 1 / number\n        return number, reciprocal\n    except ValueError:\n        print(f\"  Error: '{value}' is not a valid number\")\n        return None, None\n    except ZeroDivisionError:\n        print(f\"  Error: Cannot calculate reciprocal of zero\")\n        return int(value), None\n    except TypeError:\n        print(f\"  Error: Expected string or number, got {type(value)}\")\n        return None, None\n\ntest_values = [\"5\", \"0\", \"abc\", None, \"10\"]\nprint(f\"\\nSafe conversion examples:\")\nfor value in test_values:\n    number, reciprocal = safe_conversion(value)\n    print(f\"  '{value}' -> number: {number}, reciprocal: {reciprocal}\")\n\n# Catching multiple exceptions\ndef process_data(data):\n    \"\"\"Process data with multiple potential errors\"\"\"\n    try:\n        # Attempt various operations\n        length = len(data)\n        first_item = data[0]\n        as_number = int(first_item)\n        result = 100 / as_number\n        return result\n    except (TypeError, AttributeError):\n        print(f\"  Error: Data type issue with {type(data)}\")\n        return None\n    except (IndexError, KeyError):\n        print(f\"  Error: Data is empty or key missing\")\n        return None\n    except ValueError:\n        print(f\"  Error: Cannot convert '{first_item}' to number\")\n        return None\n    except ZeroDivisionError:\n        print(f\"  Error: First item is zero\")\n        return None\n\ntest_data = [\n    [\"5\", \"other\"],  # Success\n    [],               # IndexError\n    [\"abc\"],          # ValueError\n    [\"0\"],            # ZeroDivisionError\n    None,             # TypeError\n    \"string\"          # Different behavior\n]\n\nprint(f\"\\nData processing examples:\")\nfor data in test_data:\n    result = process_data(data)\n    print(f\"  {data} -> {result}\")"
]
},
{
"cell_type": "markdown",
"metadata": {},
"source": [
"## 2. Exception Hierarchy and Specific Handling\n",
"\n",
"Understanding Python's exception hierarchy:"
]
},
{
"cell_type": "code",
"execution_count": null,
"metadata": {},
"outputs": [],
"source": [
"# Exception hierarchy and specific handling\nprint(\"Exception Hierarchy:\")\nprint(\"=\" * 19)\n\n# Common built-in exceptions\nexceptions_demo = [\n    (lambda: 1/0, \"ZeroDivisionError\"),\n    (lambda: int(\"abc\"), \"ValueError\"),\n    (lambda: [1,2,3][10], \"IndexError\"),\n    (lambda: {\"a\": 1}[\"b\"], \"KeyError\"),\n    (lambda: len(None), \"TypeError\"),\n    (lambda: open(\"nonexistent_file.txt\"), \"FileNotFoundError\"),\n    (lambda: import_nonexistent_module, \"NameError\"),\n]\n\nprint(\"Common exceptions:\")\nfor func, expected_error in exceptions_demo:\n    try:\n        func()\n    except Exception as e:\n        print(f\"  {expected_error}: {e}\")\n\n# Exception hierarchy matters for catching\ndef demonstrate_hierarchy():\n    \"\"\"Show how exception hierarchy affects catching\"\"\"\n    \n    # Specific to general (good practice)\n    def good_handling(value):\n        try:\n            return int(value) / 0\n        except ZeroDivisionError:\n            return \"Caught ZeroDivisionError\"\n        except ValueError:\n            return \"Caught ValueError\"\n        except Exception:\n            return \"Caught general exception\"\n    \n    # General to specific (problematic)\n    def bad_handling(value):\n        try:\n            return int(value) / 0\n        except Exception:  # This catches everything first!\n            return \"Caught general exception\"\n        except ZeroDivisionError:  # This will never be reached\n            return \"Caught ZeroDivisionError\"\n        except ValueError:  # This will never be reached\n            return \"Caught ValueError\"\n    \n    test_cases = [\"0\", \"abc\"]\n    \n    print(f\"\\nException handling order:\")\n    for value in test_cases:\n        good_result = good_handling(value)\n        bad_result = bad_handling(value)\n        print(f\"  '{value}' - Good: {good_result}\")\n        print(f\"  '{value}' - Bad:  {bad_result}\")\n\ndemonstrate_hierarchy()\n\n# Accessing exception information\ndef detailed_error_info():\n    \"\"\"Demonstrate accessing exception details\"\"\"\n    try:\n        result = int(\"not_a_number\")\n    except ValueError as e:\n        print(f\"\\nDetailed error information:\")\n        print(f\"  Exception type: {type(e).__name__}\")\n        print(f\"  Exception message: {e}\")\n        print(f\"  Exception args: {e.args}\")\n        \n        # Get traceback information\n        import traceback\n        print(f\"  Traceback:\")\n        traceback.print_exc()\n\ndetailed_error_info()\n\n# Exception inheritance\nprint(f\"\\nException inheritance example:\")\ntry:\n    # This will raise FileNotFoundError\n    with open(\"nonexistent.txt\", \"r\") as f:\n        content = f.read()\nexcept OSError as e:  # FileNotFoundError inherits from OSError\n    print(f\"  Caught as OSError: {e}\")\nexcept Exception as e:\n    print(f\"  Caught as general Exception: {e}\")\n\n# Check inheritance\nprint(f\"\\nInheritance relationships:\")\nprint(f\"  FileNotFoundError is subclass of OSError: {issubclass(FileNotFoundError, OSError)}\")\nprint(f\"  OSError is subclass of Exception: {issubclass(OSError, Exception)}\")\nprint(f\"  ValueError is subclass of Exception: {issubclass(ValueError, Exception)}\")\n\n# Exception MRO (Method Resolution Order)\nprint(f\"\\nFileNotFoundError MRO:\")\nfor i, cls in enumerate(FileNotFoundError.__mro__):\n    print(f\"  {i}: {cls.__name__}\")"
]
},
{
"cell_type": "markdown",
"metadata": {},
"source": [
"## 3. Try-Except-Else-Finally Blocks\n",
"\n",
"Complete exception handling structure:"
]
},
{
"cell_type": "code",
"execution_count": null,
"metadata": {},
"outputs": [],
"source": [
"# Try-except-else-finally blocks\nprint(\"Complete Exception Handling Structure:\")\nprint(\"=\" * 38)\n\n# Demonstrating all blocks\ndef complete_exception_demo(filename, content=None):\n    \"\"\"Demonstrate try-except-else-finally structure\"\"\"\n    file_handle = None\n    \n    try:\n        print(f\"  Trying to open file: {filename}\")\n        file_handle = open(filename, 'w' if content else 'r')\n        \n        if content:\n            file_handle.write(content)\n            print(f\"  Successfully wrote to {filename}\")\n        else:\n            data = file_handle.read()\n            print(f\"  Successfully read from {filename}: {data[:50]}...\")\n            \n    except FileNotFoundError:\n        print(f\"  Error: File {filename} not found\")\n        return False\n        \n    except PermissionError:\n        print(f\"  Error: Permission denied for {filename}\")\n        return False\n        \n    except Exception as e:\n        print(f\"  Unexpected error: {e}\")\n        return False\n        \n    else:\n        # Executes only if no exception occurred\n        print(f\"  Success: File operation completed successfully\")\n        return True\n        \n    finally:\n        # Always executes, even if return statements above\n        if file_handle and not file_handle.closed:\n            file_handle.close()\n            print(f\"  Cleanup: File handle closed\")\n        print(f\"  Finally block executed\")\n\nprint(\"Example 1 - Creating and reading a file:\")\n# Create a test file\nsuccess1 = complete_exception_demo(\"test_file.txt\", \"Hello, World!\\nThis is a test file.\")\nprint(f\"Result: {success1}\")\n\nprint(\"\\nExample 2 - Reading the created file:\")\nsuccess2 = complete_exception_demo(\"test_file.txt\")\nprint(f\"Result: {success2}\")\n\nprint(\"\\nExample 3 - Trying to read non-existent file:\")\nsuccess3 = complete_exception_demo(\"nonexistent.txt\")\nprint(f\"Result: {success3}\")\n\n# Else block behavior\nprint(f\"\\nElse block demonstration:\")\n\ndef division_with_else(a, b):\n    \"\"\"Demonstrate else block in exception handling\"\"\"\n    try:\n        result = a / b\n    except ZeroDivisionError:\n        print(f\"    Cannot divide by zero\")\n        return None\n    else:\n        # This runs only if no exception occurred\n        print(f\"    Division successful: {a} / {b} = {result}\")\n        return result\n    finally:\n        print(f\"    Division attempt completed\")\n\ntest_cases = [(10, 2), (10, 0), (15, 3)]\nfor a, b in test_cases:\n    print(f\"  Dividing {a} by {b}:\")\n    result = division_with_else(a, b)\n    print(f\"  Final result: {result}\\n\")\n\n# Exception in finally block (be careful!)\nprint(f\"Exception in finally block (problematic):\")\n\ndef problematic_finally():\n    \"\"\"Show what happens when finally block has exception\"\"\"\n    try:\n        print(\"  In try block\")\n        raise ValueError(\"Original exception\")\n    except ValueError:\n        print(\"  In except block\")\n        raise RuntimeError(\"Exception in except\")\n    finally:\n        print(\"  In finally block\")\n        # raise TypeError(\"Exception in finally\")  # This would mask the RuntimeError!\n        print(\"  Finally completed safely\")\n\ntry:\n    problematic_finally()\nexcept Exception as e:\n    print(f\"  Caught final exception: {type(e).__name__}: {e}\")\n\n# Nested try-except blocks\nprint(f\"\\nNested try-except blocks:\")\n\ndef nested_exception_handling():\n    \"\"\"Demonstrate nested exception handling\"\"\"\n    try:\n        print(\"  Outer try block\")\n        try:\n            print(\"    Inner try block\")\n            value = int(\"not_a_number\")\n        except ValueError:\n            print(\"    Inner except: Caught ValueError\")\n            # Re-raise or create new exception\n            raise RuntimeError(\"Converted from ValueError\")\n        except Exception as e:\n            print(f\"    Inner except: Caught {type(e).__name__}\")\n            raise\n    except RuntimeError as e:\n        print(f\"  Outer except: Caught RuntimeError: {e}\")\n    except Exception as e:\n        print(f\"  Outer except: Caught {type(e).__name__}: {e}\")\n    finally:\n        print(\"  Outer finally block\")\n\nnested_exception_handling()"
]
},
{
"cell_type": "markdown",
"metadata": {},
"source": [
"## 4. Raising and Creating Custom Exceptions\n",
"\n",
"Creating your own exception types:"
]
},
{
"cell_type": "code",
"execution_count": null,
"metadata": {},
"outputs": [],
"source": [
"# Raising and creating custom exceptions\nprint(\"Custom Exceptions:\")\nprint(\"=\" * 17)\n\n# Raising built-in exceptions\ndef validate_age(age):\n    \"\"\"Validate age with custom error messages\"\"\"\n    if not isinstance(age, (int, float)):\n        raise TypeError(f\"Age must be a number, got {type(age).__name__}\")\n    \n    if age < 0:\n        raise ValueError(\"Age cannot be negative\")\n    \n    if age > 150:\n        raise ValueError(\"Age cannot be greater than 150\")\n    \n    return True\n\ntest_ages = [25, -5, 200, \"twenty-five\", 150.5]\nprint(\"Age validation:\")\nfor age in test_ages:\n    try:\n        validate_age(age)\n        print(f\"  {age}: Valid\")\n    except (TypeError, ValueError) as e:\n        print(f\"  {age}: Invalid - {e}\")\n\n# Custom exception classes\nclass CustomError(Exception):\n    \"\"\"Base class for custom exceptions\"\"\"\n    pass\n\nclass ValidationError(CustomError):\n    \"\"\"Raised when validation fails\"\"\"\n    def __init__(self, message, field=None, value=None):\n        super().__init__(message)\n        self.field = field\n        self.value = value\n        self.message = message\n    \n    def __str__(self):\n        if self.field:\n            return f\"Validation error in '{self.field}': {self.message} (got: {self.value})\"\n        return self.message\n\nclass BusinessLogicError(CustomError):\n    \"\"\"Raised when business logic is violated\"\"\"\n    def __init__(self, message, error_code=None):\n        super().__init__(message)\n        self.error_code = error_code\n        self.message = message\n    \n    def __str__(self):\n        if self.error_code:\n            return f\"[{self.error_code}] {self.message}\"\n        return self.message\n\n# Using custom exceptions\nclass User:\n    \"\"\"User class with validation\"\"\"\n    \n    def __init__(self, username, email, age):\n        self.username = self._validate_username(username)\n        self.email = self._validate_email(email)\n        self.age = self._validate_age(age)\n    \n    def _validate_username(self, username):\n        if not isinstance(username, str):\n            raise ValidationError(\"Username must be a string\", \"username\", username)\n        \n        if len(username) < 3:\n            raise ValidationError(\"Username too short (min 3 chars)\", \"username\", username)\n        \n        if not username.isalnum():\n            raise ValidationError(\"Username must be alphanumeric\", \"username\", username)\n        \n        return username\n    \n    def _validate_email(self, email):\n        if not isinstance(email, str):\n            raise ValidationError(\"Email must be a string\", \"email\", email)\n        \n        if '@' not in email:\n            raise ValidationError(\"Email must contain @\", \"email\", email)\n        \n        return email\n    \n    def _validate_age(self, age):\n        if not isinstance(age, (int, float)):\n            raise ValidationError(\"Age must be a number\", \"age\", age)\n        \n        if age < 0:\n            raise ValidationError(\"Age cannot be negative\", \"age\", age)\n        \n        if age > 120:\n            raise ValidationError(\"Age seems unrealistic\", \"age\", age)\n        \n        return age\n    \n    def change_username(self, new_username):\n        if new_username == self.username:\n            raise BusinessLogicError(\"New username same as current\", \"SAME_USERNAME\")\n        \n        self.username = self._validate_username(new_username)\n    \n    def __str__(self):\n        return f\"User({self.username}, {self.email}, {self.age})\"\n\n# Test custom exceptions\ntest_users = [\n    (\"alice123\", \"alice@example.com\", 25),     # Valid\n    (\"ab\", \"valid@email.com\", 30),             # Username too short\n    (\"validuser\", \"invalid_email\", 25),        # Invalid email\n    (\"gooduser\", \"good@email.com\", -5),        # Negative age\n    (123, \"email@test.com\", 25),               # Non-string username\n]\n\nprint(f\"\\nUser creation tests:\")\nvalid_users = []\nfor username, email, age in test_users:\n    try:\n        user = User(username, email, age)\n        valid_users.append(user)\n        print(f\"  ✓ Created: {user}\")\n    except ValidationError as e:\n        print(f\"  ✗ Validation failed: {e}\")\n    except Exception as e:\n        print(f\"  ✗ Unexpected error: {e}\")\n\n# Test business logic exceptions\nif valid_users:\n    print(f\"\\nBusiness logic tests:\")\n    user = valid_users[0]\n    try:\n        user.change_username(user.username)  # Same username\n    except BusinessLogicError as e:\n        print(f\"  ✗ Business logic error: {e}\")\n    \n    try:\n        user.change_username(\"newname123\")\n        print(f\"  ✓ Username changed successfully\")\n    except ValidationError as e:\n        print(f\"  ✗ Validation error: {e}\")\n\n# Exception chaining (Python 3+)\nprint(f\"\\nException chaining:\")\n\ndef process_file(filename):\n    \"\"\"Demonstrate exception chaining\"\"\"\n    try:\n        with open(filename, 'r') as f:\n            data = f.read()\n            result = int(data)\n            return result\n    except FileNotFoundError as e:\n        raise BusinessLogicError(\"Configuration file missing\") from e\n    except ValueError as e:\n        raise BusinessLogicError(\"Invalid configuration format\") from e\n\ntry:\n    result = process_file(\"nonexistent_config.txt\")\nexcept BusinessLogicError as e:\n    print(f\"  Business error: {e}\")\n    print(f\"  Caused by: {e.__cause__}\")\n    print(f\"  Exception chain: {type(e.__cause__).__name__} -> {type(e).__name__}\")"
]
},
{
"cell_type": "markdown",
"metadata": {},
"source": [
"## 5. Exception Best Practices\n",
"\n",
"Writing robust exception handling code:"
]
},
{
"cell_type": "code",
"execution_count": null,
"metadata": {},
"outputs": [],
"source": [
"# Exception handling best practices\nprint(\"Exception Handling Best Practices:\")\nprint(\"=\" * 35)\n\n# Practice 1: Be specific with exception types\nprint(\"1. Be specific with exceptions:\")\n\n# Bad: Catching all exceptions\ndef bad_file_reader(filename):\n    \"\"\"Bad example - too broad exception handling\"\"\"\n    try:\n        with open(filename, 'r') as f:\n            return f.read()\n    except Exception:  # Too broad!\n        print(\"Something went wrong\")\n        return None\n\n# Good: Catching specific exceptions\ndef good_file_reader(filename):\n    \"\"\"Good example - specific exception handling\"\"\"\n    try:\n        with open(filename, 'r') as f:\n            return f.read()\n    except FileNotFoundError:\n        print(f\"File {filename} not found\")\n        return None\n    except PermissionError:\n        print(f\"Permission denied reading {filename}\")\n        return None\n    except UnicodeDecodeError:\n        print(f\"File {filename} has encoding issues\")\n        return None\n    except Exception as e:\n        print(f\"Unexpected error reading {filename}: {e}\")\n        raise  # Re-raise unexpected exceptions\n\nprint(\"  Good approach handles specific cases and re-raises unexpected errors\")\n\n# Practice 2: Don't ignore exceptions\nprint(\"\\n2. Don't ignore exceptions:\")\n\n# Bad: Silent failure\ndef bad_convert_to_int(value):\n    \"\"\"Bad example - silent failure\"\"\"\n    try:\n        return int(value)\n    except:\n        pass  # Silent failure - BAD!\n\n# Good: Handle or propagate\ndef good_convert_to_int(value, default=None):\n    \"\"\"Good example - explicit handling\"\"\"\n    try:\n        return int(value)\n    except ValueError:\n        if default is not None:\n            return default\n        raise  # Re-raise if no default provided\n    except TypeError:\n        raise TypeError(f\"Cannot convert {type(value).__name__} to int\")\n\ntest_values = [\"123\", \"abc\", None]\nfor value in test_values:\n    try:\n        result = good_convert_to_int(value, default=0)\n        print(f\"  '{value}' -> {result}\")\n    except Exception as e:\n        print(f\"  '{value}' -> Error: {e}\")\n\n# Practice 3: Use finally for cleanup\nprint(\"\\n3. Use finally for cleanup:\")\n\nclass Resource:\n    \"\"\"Simulated resource that needs cleanup\"\"\"\n    def __init__(self, name):\n        self.name = name\n        self.is_open = False\n    \n    def open(self):\n        self.is_open = True\n        print(f\"    Resource {self.name} opened\")\n    \n    def close(self):\n        if self.is_open:\n            self.is_open = False\n            print(f\"    Resource {self.name} closed\")\n    \n    def process(self):\n        if not self.is_open:\n            raise RuntimeError(f\"Resource {self.name} not open\")\n        print(f\"    Processing {self.name}\")\n        # Simulate potential error\n        if self.name == \"problematic\":\n            raise ValueError(\"Processing failed\")\n\n# Good resource management\ndef process_resource(resource_name):\n    \"\"\"Process resource with proper cleanup\"\"\"\n    resource = Resource(resource_name)\n    try:\n        resource.open()\n        resource.process()\n        return True\n    except Exception as e:\n        print(f\"    Error processing {resource_name}: {e}\")\n        return False\n    finally:\n        resource.close()  # Always cleanup\n\nresource_names = [\"normal\", \"problematic\"]\nfor name in resource_names:\n    print(f\"  Processing {name}:\")\n    success = process_resource(name)\n    print(f\"  Success: {success}\\n\")\n\n# Practice 4: Log exceptions properly\nprint(\"4. Log exceptions properly:\")\n\nimport logging\n\n# Setup logging\nlogging.basicConfig(level=logging.INFO, format='%(levelname)s: %(message)s')\nlogger = logging.getLogger(__name__)\n\ndef divide_with_logging(a, b):\n    \"\"\"Division with proper logging\"\"\"\n    try:\n        result = a / b\n        logger.info(f\"Division successful: {a} / {b} = {result}\")\n        return result\n    except ZeroDivisionError:\n        logger.error(f\"Division by zero: {a} / {b}\")\n        raise\n    except Exception as e:\n        logger.exception(f\"Unexpected error in division: {a} / {b}\")\n        raise\n\nprint(\"  Check logs for division operations:\")\nfor a, b in [(10, 2), (10, 0)]:\n    try:\n        result = divide_with_logging(a, b)\n    except:\n        pass  # Error already logged\n\n# Practice 5: Use context managers for resource management\nprint(\"\\n5. Use context managers:\")\n\nclass ManagedResource:\n    \"\"\"Resource with context manager support\"\"\"\n    def __init__(self, name):\n        self.name = name\n    \n    def __enter__(self):\n        print(f\"    Acquiring resource: {self.name}\")\n        return self\n    \n    def __exit__(self, exc_type, exc_val, exc_tb):\n        print(f\"    Releasing resource: {self.name}\")\n        if exc_type:\n            print(f\"    Exception occurred: {exc_type.__name__}\")\n        return False  # Don't suppress exceptions\n    \n    def work(self):\n        print(f\"    Working with {self.name}\")\n        if self.name == \"failing\":\n            raise RuntimeError(\"Work failed\")\n\n# Using context managers\nfor resource_name in [\"working\", \"failing\"]:\n    print(f\"  Using resource '{resource_name}':\")\n    try:\n        with ManagedResource(resource_name) as resource:\n            resource.work()\n        print(\"    Success\\n\")\n    except Exception as e:\n        print(f\"    Error: {e}\\n\")\n\nprint(\"Best practices summary:\")\nprint(\"  ✓ Catch specific exceptions, not all exceptions\")\nprint(\"  ✓ Don't ignore exceptions silently\")\nprint(\"  ✓ Use finally for cleanup or context managers\")\nprint(\"  ✓ Log exceptions with context\")\nprint(\"  ✓ Re-raise unexpected exceptions\")\nprint(\"  ✓ Provide meaningful error messages\")"
]
},
{
"cell_type": "markdown",
"metadata": {},
"source": [
"## Summary\n",
"\n",
"In this notebook, you learned about:\n",
"\n",
"✅ **Basic Exception Handling**: try-except blocks and multiple exception types  \n",
"✅ **Exception Hierarchy**: Understanding inheritance and specific vs general catching  \n",
"✅ **Complete Structure**: try-except-else-finally blocks and their execution order  \n",
"✅ **Custom Exceptions**: Creating meaningful application-specific error types  \n",
"✅ **Best Practices**: Writing robust, maintainable error handling code  \n",
"✅ **Resource Management**: Using finally blocks and context managers  \n",
"\n",
"### Key Takeaways:\n",
"1. Catch specific exceptions, not general ones\n",
"2. Never ignore exceptions silently\n",
"3. Use finally for cleanup operations\n",
"4. Create custom exceptions for better error communication\n",
"5. Log exceptions with proper context\n",
"6. Use context managers for resource management\n",
"\n",
"### Next Topic: 17_modules_packages.ipynb\n",
"Learn about organizing code into modules and packages."
]
}
],
"metadata": {
"kernelspec": {
"display_name": "Python 3",
"language": "python",
"name": "python3"
},
"language_info": {
"codemirror_mode": {
"name": "ipython",
"version": 3
},
"file_extension": ".py",
"mimetype": "text/x-python",
"name": "python",
"nbconvert_exporter": "python",
"pygments_lexer": "ipython3",
"version": "3.8.5"
}
},
"nbformat": 4,
"nbformat_minor": 4
}
