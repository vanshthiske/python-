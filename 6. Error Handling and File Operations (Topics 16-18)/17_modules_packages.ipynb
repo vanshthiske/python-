{
"cells": [
{
"cell_type": "markdown",
"metadata": {},
"source": [
"# Topic 17: Modules and Packages\n",
"\n",
"## Overview\n",
"Modules and packages are Python's way of organizing code into reusable components. Learn to create, import, and manage Python modules effectively.\n",
"\n",
"### What You'll Learn:\n",
"- Creating and importing modules\n",
"- Different import statements and their effects\n",
"- Module search path and sys.path\n",
"- Creating packages with __init__.py\n",
"- Standard library overview\n",
"- Best practices for module organization\n",
"\n",
"---"
]
},
{
"cell_type": "markdown",
"metadata": {},
"source": [
"## 1. Basic Module Creation and Import\n",
"\n",
"Understanding how modules work:"
]
},
{
"cell_type": "code",
"execution_count": null,
"metadata": {},
"outputs": [],
"source": [
"# Creating a simple module (simulated)\nprint(\"Module Creation and Import:\")\nprint(\"=\" * 27)\n\n# Simulate creating a module file (math_utils.py)\nmath_utils_code = '''\n\"\"\"A simple math utilities module\"\"\"\n\n# Module-level variables\nPI = 3.14159\nE = 2.71828\n\n# Module-level functions\ndef add(a, b):\n    \"\"\"Add two numbers\"\"\"\n    return a + b\n\ndef multiply(a, b):\n    \"\"\"Multiply two numbers\"\"\"\n    return a * b\n\ndef circle_area(radius):\n    \"\"\"Calculate circle area\"\"\"\n    return PI * radius ** 2\n\ndef factorial(n):\n    \"\"\"Calculate factorial\"\"\"\n    if n <= 1:\n        return 1\n    return n * factorial(n - 1)\n\n# Code that runs when module is imported\nprint(f\"Math utils module loaded! PI = {PI}\")\n\n# This runs only when script is executed directly\nif __name__ == \"__main__\":\n    print(\"Running math_utils as main program\")\n    print(f\"Testing: 5! = {factorial(5)}\")\n'''\n\nprint(\"Contents of math_utils.py:\")\nprint(math_utils_code[:200] + \"...\")\n\n# Write the module to a file for demonstration\nwith open('math_utils.py', 'w') as f:\n    f.write(math_utils_code)\n\nprint(\"\\nModule file created: math_utils.py\")\n\n# Import the module\nprint(\"\\nImporting the module:\")\nimport math_utils\n\nprint(f\"Module imported: {math_utils}\")\nprint(f\"Module name: {math_utils.__name__}\")\nprint(f\"Module file: {math_utils.__file__}\")\n\n# Use module functions and variables\nprint(f\"\\nUsing module contents:\")\nprint(f\"math_utils.PI = {math_utils.PI}\")\nprint(f\"math_utils.add(5, 3) = {math_utils.add(5, 3)}\")\nprint(f\"math_utils.circle_area(2) = {math_utils.circle_area(2)}\")\nprint(f\"math_utils.factorial(5) = {math_utils.factorial(5)}\")\n\n# Check what's in the module\nprint(f\"\\nModule attributes:\")\nmodule_attributes = [attr for attr in dir(math_utils) if not attr.startswith('_')]\nprint(f\"Public attributes: {module_attributes}\")\n\n# Module documentation\nprint(f\"\\nModule docstring: {math_utils.__doc__}\")"
]
},
{
"cell_type": "markdown",
"metadata": {},
"source": [
"## 2. Different Import Styles\n",
"\n",
"Various ways to import modules and their implications:"
]
},
{
"cell_type": "code",
"execution_count": null,
"metadata": {},
"outputs": [],
"source": [
"# Different import styles\nprint(\"Import Styles:\")\nprint(\"=\" * 13)\n\n# 1. Basic import\nprint(\"1. Basic import (import module):\")\nimport math\nprint(f\"   math.sqrt(16) = {math.sqrt(16)}\")\nprint(f\"   math.pi = {math.pi}\")\n\n# 2. Import with alias\nprint(\"\\n2. Import with alias (import module as alias):\")\nimport datetime as dt\nnow = dt.datetime.now()\nprint(f\"   Current time: {now}\")\nprint(f\"   Using alias 'dt': dt.datetime\")\n\n# 3. From import specific items\nprint(\"\\n3. From import (from module import item):\")\nfrom random import randint, choice\nprint(f\"   randint(1, 10) = {randint(1, 10)}\")\nprint(f\"   choice(['a', 'b', 'c']) = {choice(['a', 'b', 'c'])}\")\nprint(f\"   No need for 'random.' prefix\")\n\n# 4. From import with alias\nprint(\"\\n4. From import with alias:\")\nfrom collections import defaultdict as dd\nmy_dd = dd(list)\nmy_dd['key'].append('value')\nprint(f\"   defaultdict as dd: {dict(my_dd)}\")\n\n# 5. Import all (not recommended)\nprint(\"\\n5. Import all (from module import *):\")\n# from math import *  # Not recommended!\n# This would import all public names from math\nprint(\"   ⚠️  from math import * (not recommended)\")\nprint(\"   - Pollutes namespace\")\nprint(\"   - Makes code harder to understand\")\nprint(\"   - Can cause name conflicts\")\n\n# 6. Multiple imports\nprint(\"\\n6. Multiple imports:\")\nfrom os import path, getcwd\nfrom sys import version, platform\nprint(f\"   Current directory: {getcwd()}\")\nprint(f\"   Python version: {version}\")\nprint(f\"   Platform: {platform}\")\n\n# Demonstrate namespace differences\nprint(\"\\nNamespace demonstration:\")\n\n# Create a variable that might conflict\npi = \"This is not the math pi\"\nprint(f\"Local pi: {pi}\")\nprint(f\"math.pi: {math.pi}\")\n\n# If we had done 'from math import pi', it would override our local pi\nprint(\"With 'import math', no conflict occurs\")\n\n# Show current namespace\nprint(f\"\\nCurrent local variables (sample):\")\nlocal_vars = [name for name in locals().keys() if not name.startswith('_')][:10]\nprint(f\"{local_vars}...\")\n\n# Import statements placement\nprint(\"\\nImport statement best practices:\")\nprint(\"✓ Place imports at the top of the file\")\nprint(\"✓ Group imports: standard library, third-party, local\")\nprint(\"✓ Use absolute imports when possible\")\nprint(\"✓ Avoid wildcard imports (from module import *)\")\nprint(\"✓ Use aliases for long module names\")\n\n# Conditional imports\nprint(\"\\nConditional imports (advanced):\")\ntry:\n    import numpy as np\n    print(\"   NumPy available\")\n    has_numpy = True\nexcept ImportError:\n    print(\"   NumPy not available\")\n    has_numpy = False\n\n# Platform-specific imports\nimport sys\nif sys.platform == \"win32\":\n    print(\"   Windows-specific imports would go here\")\nelse:\n    print(\"   Unix/Linux-specific imports would go here\")\n\n# Lazy imports (import when needed)\ndef get_json_data(filename):\n    \"\"\"Function that imports json only when called\"\"\"\n    import json  # Lazy import\n    with open(filename, 'r') as f:\n        return json.load(f)\n\nprint(\"\\n   Lazy import example: import json inside function\")"
]
},
{
"cell_type": "markdown",
"metadata": {},
"source": [
"## 3. Module Search Path and sys.path\n",
"\n",
"Understanding how Python finds modules:"
]
},
{
"cell_type": "code",
"execution_count": null,
"metadata": {},
"outputs": [],
"source": [
"# Module search path\nimport sys\nimport os\n\nprint(\"Module Search Path:\")\nprint(\"=\" * 19)\n\nprint(\"Python searches for modules in this order:\")\nprint(\"1. Current directory\")\nprint(\"2. PYTHONPATH environment variable directories\")\nprint(\"3. Standard library directories\")\nprint(\"4. Site-packages directory\")\n\nprint(f\"\\nCurrent sys.path (first 5 entries):\")\nfor i, path in enumerate(sys.path[:5]):\n    print(f\"  {i}: {path}\")\n\nif len(sys.path) > 5:\n    print(f\"  ... and {len(sys.path) - 5} more entries\")\n\n# Show some key paths\nprint(f\"\\nKey information:\")\nprint(f\"Python executable: {sys.executable}\")\nprint(f\"Python version: {sys.version}\")\nprint(f\"Current working directory: {os.getcwd()}\")\n\n# Demonstrate adding to sys.path\nprint(f\"\\nAdding custom path to sys.path:\")\ncustom_path = \"/tmp/my_modules\"  # Example path\nif custom_path not in sys.path:\n    sys.path.append(custom_path)\n    print(f\"Added {custom_path} to sys.path\")\n\n# Create a module in current directory for demonstration\ncustom_module_code = '''\n\"\"\"A custom module for demonstration\"\"\"\n\ndef greet(name):\n    return f\"Hello, {name} from custom module!\"\n\nMODULE_VERSION = \"1.0\"\n'''\n\nwith open('custom_demo.py', 'w') as f:\n    f.write(custom_module_code)\n\nprint(f\"\\nCreated custom_demo.py in current directory\")\n\n# Import the custom module\nimport custom_demo\nprint(f\"Imported custom_demo from: {custom_demo.__file__}\")\nprint(f\"Custom greeting: {custom_demo.greet('Python User')}\")\n\n# Show module caching\nprint(f\"\\nModule caching in sys.modules:\")\nprint(f\"math in sys.modules: {'math' in sys.modules}\")\nprint(f\"custom_demo in sys.modules: {'custom_demo' in sys.modules}\")\n\n# Reloading modules (advanced)\nprint(f\"\\nModule reloading:\")\nprint(f\"Modules are cached after first import\")\nprint(f\"To reload a module (rarely needed):\")\nprint(f\"  import importlib\")\nprint(f\"  importlib.reload(module_name)\")\n\n# Finding modules programmatically\nimport importlib.util\n\ndef find_module(module_name):\n    \"\"\"Find where a module would be loaded from\"\"\"\n    spec = importlib.util.find_spec(module_name)\n    if spec:\n        return spec.origin\n    return None\n\nmodules_to_check = ['os', 'sys', 'json', 'custom_demo']\nprint(f\"\\nModule locations:\")\nfor module_name in modules_to_check:\n    location = find_module(module_name)\n    if location:\n        print(f\"  {module_name}: {location}\")\n    else:\n        print(f\"  {module_name}: Not found\")\n\n# PYTHONPATH environment variable\nprint(f\"\\nPYTHONPATH environment variable:\")\npythonpath = os.environ.get('PYTHONPATH')\nif pythonpath:\n    print(f\"  PYTHONPATH = {pythonpath}\")\nelse:\n    print(f\"  PYTHONPATH is not set\")\n\n# Virtual environments\nprint(f\"\\nVirtual environment detection:\")\nif hasattr(sys, 'real_prefix') or (hasattr(sys, 'base_prefix') and sys.base_prefix != sys.prefix):\n    print(f\"  Running in virtual environment\")\n    print(f\"  Virtual env prefix: {sys.prefix}\")\nelse:\n    print(f\"  Running in system Python\")\n\n# Site-packages directories\nprint(f\"\\nSite-packages directories:\")\nimport site\nfor path in site.getsitepackages():\n    print(f\"  {path}\")\n\n# User site directory\nuser_site = site.getusersitepackages()\nprint(f\"\\nUser site-packages: {user_site}\")\nprint(f\"User site enabled: {site.ENABLE_USER_SITE}\")"
]
},
{
"cell_type": "markdown",
"metadata": {},
"source": [
"## 4. Creating Packages\n",
"\n",
"Organizing modules into packages:"
]
},
{
"cell_type": "code",
"execution_count": null,
"metadata": {},
"outputs": [],
"source": [
"# Creating packages\nimport os\n\nprint(\"Creating Packages:\")\nprint(\"=\" * 17)\n\n# Create a package directory structure\npackage_structure = {\n    'mypackage': {\n        '__init__.py': '''\n\"\"\"A sample Python package\"\"\"\n\n# Package-level imports\nfrom .math_ops import add, multiply\nfrom .string_ops import reverse_string, capitalize_words\n\n# Package metadata\n__version__ = \"1.0.0\"\n__author__ = \"Python Developer\"\n\n# What gets imported with \"from mypackage import *\"\n__all__ = ['add', 'multiply', 'reverse_string', 'capitalize_words']\n\nprint(f\"Initializing mypackage v{__version__}\")\n''',\n        'math_ops.py': '''\n\"\"\"Math operations module\"\"\"\n\ndef add(a, b):\n    \"\"\"Add two numbers\"\"\"\n    return a + b\n\ndef subtract(a, b):\n    \"\"\"Subtract two numbers\"\"\"\n    return a - b\n\ndef multiply(a, b):\n    \"\"\"Multiply two numbers\"\"\"\n    return a * b\n\ndef divide(a, b):\n    \"\"\"Divide two numbers\"\"\"\n    if b == 0:\n        raise ValueError(\"Cannot divide by zero\")\n    return a / b\n''',\n        'string_ops.py': '''\n\"\"\"String operations module\"\"\"\n\ndef reverse_string(s):\n    \"\"\"Reverse a string\"\"\"\n    return s[::-1]\n\ndef capitalize_words(s):\n    \"\"\"Capitalize all words in a string\"\"\"\n    return ' '.join(word.capitalize() for word in s.split())\n\ndef count_vowels(s):\n    \"\"\"Count vowels in a string\"\"\"\n    vowels = 'aeiouAEIOU'\n    return sum(1 for char in s if char in vowels)\n''',\n        'subpackage': {\n            '__init__.py': '''\n\"\"\"A subpackage within mypackage\"\"\"\nfrom .advanced_math import power, root\n''',\n            'advanced_math.py': '''\n\"\"\"Advanced math operations\"\"\"\n\ndef power(base, exponent):\n    \"\"\"Calculate base raised to exponent\"\"\"\n    return base ** exponent\n\ndef root(number, n=2):\n    \"\"\"Calculate nth root of a number\"\"\"\n    return number ** (1/n)\n\ndef fibonacci(n):\n    \"\"\"Generate first n Fibonacci numbers\"\"\"\n    if n <= 0:\n        return []\n    elif n == 1:\n        return [0]\n    elif n == 2:\n        return [0, 1]\n    \n    fib = [0, 1]\n    for i in range(2, n):\n        fib.append(fib[i-1] + fib[i-2])\n    return fib\n'''\n        }\n    }\n}\n\n# Function to create directory structure\ndef create_directory_structure(structure, base_path=\"\"):\n    \"\"\"Create directory structure from nested dict\"\"\"\n    for name, content in structure.items():\n        path = os.path.join(base_path, name)\n        \n        if isinstance(content, dict):\n            # Create directory\n            os.makedirs(path, exist_ok=True)\n            print(f\"Created directory: {path}/\")\n            create_directory_structure(content, path)\n        else:\n            # Create file\n            with open(path, 'w') as f:\n                f.write(content)\n            print(f\"Created file: {path}\")\n\nprint(\"Creating package structure:\")\ncreate_directory_structure(package_structure)\n\n# Import the package\nprint(f\"\\nImporting the package:\")\ntry:\n    import mypackage\n    print(f\"Package imported: {mypackage}\")\n    print(f\"Package version: {mypackage.__version__}\")\n    print(f\"Package author: {mypackage.__author__}\")\n    \n    # Use package functions\n    print(f\"\\nUsing package functions:\")\n    print(f\"mypackage.add(5, 3) = {mypackage.add(5, 3)}\")\n    print(f\"mypackage.multiply(4, 6) = {mypackage.multiply(4, 6)}\")\n    print(f\"mypackage.reverse_string('hello') = {mypackage.reverse_string('hello')}\")\n    print(f\"mypackage.capitalize_words('hello world') = {mypackage.capitalize_words('hello world')}\")\n    \nexcept ImportError as e:\n    print(f\"Failed to import package: {e}\")\n\n# Import from submodules directly\nprint(f\"\\nImporting from submodules:\")\ntry:\n    from mypackage.math_ops import subtract, divide\n    print(f\"subtract(10, 3) = {subtract(10, 3)}\")\n    print(f\"divide(15, 3) = {divide(15, 3)}\")\n    \n    from mypackage.string_ops import count_vowels\n    print(f\"count_vowels('hello world') = {count_vowels('hello world')}\")\n    \nexcept ImportError as e:\n    print(f\"Failed to import from submodules: {e}\")\n\n# Import from subpackage\nprint(f\"\\nImporting from subpackage:\")\ntry:\n    from mypackage.subpackage import power, root\n    from mypackage.subpackage.advanced_math import fibonacci\n    \n    print(f\"power(2, 8) = {power(2, 8)}\")\n    print(f\"root(16, 2) = {root(16, 2)}\")\n    print(f\"fibonacci(8) = {fibonacci(8)}\")\n    \nexcept ImportError as e:\n    print(f\"Failed to import from subpackage: {e}\")\n\n# Package introspection\nprint(f\"\\nPackage introspection:\")\ntry:\n    print(f\"Package name: {mypackage.__name__}\")\n    print(f\"Package file: {mypackage.__file__}\")\n    print(f\"Package path: {mypackage.__path__}\")\n    print(f\"Available attributes: {[attr for attr in dir(mypackage) if not attr.startswith('_')]}\")\nexcept:\n    print(\"Package introspection failed\")\n\n# Different import styles with packages\nprint(f\"\\nDifferent import styles:\")\ntry:\n    # Import entire submodule\n    from mypackage import math_ops\n    print(f\"math_ops.add(1, 2) = {math_ops.add(1, 2)}\")\n    \n    # Import with alias\n    from mypackage.string_ops import reverse_string as reverse\n    print(f\"reverse('Python') = {reverse('Python')}\")\n    \n    # Import multiple items\n    from mypackage.subpackage.advanced_math import power, root, fibonacci\n    print(f\"Multiple imports successful\")\n    \nexcept ImportError as e:\n    print(f\"Import error: {e}\")\n\nprint(f\"\\nPackage structure created and tested successfully!\")\nprint(f\"\\nPackage best practices:\")\nprint(f\"✓ Use __init__.py to make directories into packages\")\nprint(f\"✓ Keep __init__.py minimal - mainly imports\")\nprint(f\"✓ Use relative imports within packages\")\nprint(f\"✓ Document packages with docstrings\")\nprint(f\"✓ Use __all__ to control what gets imported with 'from package import *'\")\nprint(f\"✓ Follow naming conventions (lowercase, underscores)\")"
]
},
{
"cell_type": "markdown",
"metadata": {},
"source": [
"## 5. Standard Library Overview\n",
"\n",
"Exploring Python's extensive standard library:"
]
},
{
"cell_type": "code",
"execution_count": null,
"metadata": {},
"outputs": [],
"source": [
"# Standard library overview\nprint(\"Python Standard Library Overview:\")\nprint(\"=\" * 34)\n\n# Text processing modules\nprint(\"1. Text Processing:\")\nimport re\nimport string\nimport textwrap\n\ntext = \"Hello, World! This is a sample text with numbers 123 and symbols @#$.\"\nprint(f\"   Original: {text}\")\n\n# Regular expressions\npattern = r'\\d+'  # Find all numbers\nnumbers = re.findall(pattern, text)\nprint(f\"   Numbers found: {numbers}\")\n\n# String operations\nprint(f\"   Punctuation: {string.punctuation}\")\nprint(f\"   ASCII letters: {string.ascii_letters[:10]}...\")\n\n# Text wrapping\nwrapped = textwrap.fill(text, width=30)\nprint(f\"   Wrapped text (30 chars):\")\nfor line in wrapped.split('\\n'):\n    print(f\"     {line}\")\n\n# Data types and structures\nprint(f\"\\n2. Data Types and Structures:\")\nimport collections\nimport copy\nimport array\n\n# Collections\ncounter = collections.Counter(text.lower())\nmost_common = counter.most_common(5)\nprint(f\"   Most common characters: {most_common}\")\n\ndefault_dict = collections.defaultdict(int)\nfor char in text:\n    default_dict[char] += 1\nprint(f\"   DefaultDict sample: {dict(list(default_dict.items())[:3])}\")\n\n# Copy operations\noriginal_list = [[1, 2], [3, 4]]\nshallow_copy = copy.copy(original_list)\ndeep_copy = copy.deepcopy(original_list)\nprint(f\"   Copy types available: shallow, deep\")\n\n# Arrays (more efficient than lists for numeric data)\nnumber_array = array.array('i', [1, 2, 3, 4, 5])  # 'i' for integers\nprint(f\"   Array: {number_array.tolist()}\")\n\n# File and directory operations\nprint(f\"\\n3. File and Directory Operations:\")\nimport os\nimport pathlib\nimport glob\nimport tempfile\n\n# OS operations\ncurrent_dir = os.getcwd()\nprint(f\"   Current directory: {os.path.basename(current_dir)}\")\nprint(f\"   Home directory: {os.path.expanduser('~')}\")\n\n# Pathlib (modern path handling)\npath = pathlib.Path(current_dir)\nprint(f\"   Path parts: {path.parts[-2:]}\")\nprint(f\"   Path suffix: {path.suffix if path.suffix else 'No suffix'}\")\n\n# Glob patterns\npy_files = glob.glob('*.py')\nprint(f\"   Python files in current dir: {len(py_files)} files\")\n\n# Temporary files\nwith tempfile.NamedTemporaryFile(mode='w', delete=False) as tmp:\n    tmp.write('Temporary content')\n    tmp_name = tmp.name\nprint(f\"   Created temporary file: {os.path.basename(tmp_name)}\")\nos.unlink(tmp_name)  # Clean up\n\n# Date and time\nprint(f\"\\n4. Date and Time:\")\nimport datetime\nimport time\nimport calendar\n\nnow = datetime.datetime.now()\nprint(f\"   Current datetime: {now}\")\nprint(f\"   Formatted: {now.strftime('%Y-%m-%d %H:%M:%S')}\")\n\n# Time operations\nstart_time = time.time()\ntime.sleep(0.01)  # Sleep for 10ms\nelapsed = time.time() - start_time\nprint(f\"   Elapsed time: {elapsed:.4f} seconds\")\n\n# Calendar\nprint(f\"   Days in current month: {calendar.monthrange(now.year, now.month)[1]}\")\nprint(f\"   Is leap year: {calendar.isleap(now.year)}\")\n\n# Math and numbers\nprint(f\"\\n5. Math and Numbers:\")\nimport math\nimport random\nimport statistics\nimport decimal\n\n# Math operations\nprint(f\"   Pi: {math.pi:.4f}\")\nprint(f\"   Square root of 16: {math.sqrt(16)}\")\nprint(f\"   Factorial of 5: {math.factorial(5)}\")\n\n# Random operations\nrandom.seed(42)  # For reproducible results\nprint(f\"   Random integer (1-10): {random.randint(1, 10)}\")\nprint(f\"   Random choice: {random.choice(['apple', 'banana', 'cherry'])}\")\n\n# Statistics\ndata = [1, 2, 3, 4, 5, 6, 7, 8, 9, 10]\nprint(f\"   Mean: {statistics.mean(data)}\")\nprint(f\"   Median: {statistics.median(data)}\")\nprint(f\"   Standard deviation: {statistics.stdev(data):.2f}\")\n\n# Decimal for precise arithmetic\ndecimal.getcontext().prec = 6\nresult = decimal.Decimal('1') / decimal.Decimal('3')\nprint(f\"   Precise decimal: {result}\")\n\n# Internet and networking\nprint(f\"\\n6. Internet and Networking:\")\nimport urllib.parse\nimport json\nimport base64\n\n# URL parsing\nurl = \"https://www.example.com/path?param=value&other=123\"\nparsed = urllib.parse.urlparse(url)\nprint(f\"   URL components: scheme={parsed.scheme}, netloc={parsed.netloc}\")\n\n# JSON handling\ndata_dict = {'name': 'Python', 'version': 3.8, 'awesome': True}\njson_string = json.dumps(data_dict)\nparsed_back = json.loads(json_string)\nprint(f\"   JSON round-trip successful: {parsed_back['name']}\")\n\n# Base64 encoding\nmessage = \"Hello, World!\"\nencoded = base64.b64encode(message.encode()).decode()\ndecoded = base64.b64decode(encoded).decode()\nprint(f\"   Base64: {message} -> {encoded} -> {decoded}\")\n\n# System and runtime\nprint(f\"\\n7. System and Runtime:\")\nimport sys\nimport platform\nimport subprocess\n\nprint(f\"   Python version: {sys.version_info.major}.{sys.version_info.minor}.{sys.version_info.micro}\")\nprint(f\"   Platform: {platform.system()} {platform.release()}\")\nprint(f\"   CPU count: {os.cpu_count()}\")\n\n# Command line arguments (simulated)\nprint(f\"   Command line args: {sys.argv[:2]}...\" if len(sys.argv) > 1 else \"   No command line args\")\n\n# Functional programming\nprint(f\"\\n8. Functional Programming:\")\nimport functools\nimport itertools\nimport operator\n\n# Functools\npartial_multiply = functools.partial(operator.mul, 2)  # Multiply by 2\nprint(f\"   Partial function 2*5: {partial_multiply(5)}\")\n\n# Reduce\nproduct = functools.reduce(operator.mul, [1, 2, 3, 4, 5])\nprint(f\"   Product 1*2*3*4*5: {product}\")\n\n# Itertools\ncombinations = list(itertools.combinations([1, 2, 3], 2))\nprint(f\"   Combinations of [1,2,3] taken 2: {combinations}\")\n\nprint(f\"\\nStandard library modules demonstrated:\")\nmodules_used = [\n    \"re\", \"string\", \"textwrap\", \"collections\", \"copy\", \"array\",\n    \"os\", \"pathlib\", \"glob\", \"tempfile\", \"datetime\", \"time\", \"calendar\",\n    \"math\", \"random\", \"statistics\", \"decimal\", \"urllib.parse\", \"json\", \"base64\",\n    \"sys\", \"platform\", \"subprocess\", \"functools\", \"itertools\", \"operator\"\n]\nprint(f\"Total: {len(modules_used)} modules from Python's standard library!\")\n\nprint(f\"\\n✨ The Python standard library contains 200+ modules!\")\nprint(f\"   These cover almost every common programming task.\")\nprint(f\"   Always check the standard library before installing external packages.\")"
]
},
{
"cell_type": "markdown",
"metadata": {},
"source": [
"## Summary\n",
"\n",
"In this notebook, you learned about:\n",
"\n",
"✅ **Module Creation**: Writing reusable Python modules with functions and variables  \n",
"✅ **Import Styles**: Different ways to import modules and their implications  \n",
"✅ **Module Search**: How Python finds modules using sys.path  \n",
"✅ **Package Creation**: Organizing modules into packages with __init__.py  \n",
"✅ **Standard Library**: Overview of Python's extensive built-in modules  \n",
"✅ **Best Practices**: Writing maintainable, well-organized code  \n",
"\n",
"### Key Takeaways:\n",
"1. Use modules to organize related functionality\n",
"2. Place imports at the top of files\n",
"3. Avoid wildcard imports (from module import *)\n",
"4. Use __init__.py to create packages\n",
"5. Check the standard library before external packages\n",
"6. Follow Python naming conventions for modules\n",
"\n",
"### Next Topic: 18_file_handling.ipynb\n",
"Learn about reading, writing, and manipulating files in Python."
]
}
],
"metadata": {
"kernelspec": {
"display_name": "Python 3",
"language": "python",
"name": "python3"
},
"language_info": {
"codemirror_mode": {
"name": "ipython",
"version": 3
},
"file_extension": ".py",
"mimetype": "text/x-python",
"name": "python",
"nbconvert_exporter": "python",
"pygments_lexer": "ipython3",
"version": "3.8.5"
}
},
"nbformat": 4,
"nbformat_minor": 4
}
