{
"cells": [
{
"cell_type": "markdown",
"metadata": {},
"source": [
"# Topic 13: Functions - Reusable Code Blocks\n",
"\n",
"## Overview\n",
"Functions are the building blocks of Python programs. They allow you to organize code into reusable, modular units.\n",
"\n",
"### What You'll Learn:\n",
"- Function definition and calling\n",
"- Parameters and arguments (positional, keyword, default)\n",
"- Return values and multiple returns\n",
"- Variable scope (local, global, nonlocal)\n",
"- Function documentation and type hints\n",
"- Advanced function concepts\n",
"\n",
"---"
]
},
{
"cell_type": "markdown",
"metadata": {},
"source": [
"## 1. Basic Function Definition and Calling\n",
"\n",
"Creating and using functions:"
]
},
{
"cell_type": "code",
"execution_count": null,
"metadata": {},
"outputs": [],
"source": [
"# Basic function definition\nprint(\"Basic Function Definition:\")\nprint(\"=\" * 25)\n\n# Simple function with no parameters\ndef greet():\n    \"\"\"A simple greeting function\"\"\"\n    print(\"Hello, World!\")\n\n# Call the function\ngreet()\n\n# Function with parameters\ndef greet_person(name):\n    \"\"\"Greet a specific person\"\"\"\n    print(f\"Hello, {name}!\")\n\ngreet_person(\"Alice\")\ngreet_person(\"Bob\")\n\n# Function with multiple parameters\ndef introduce(name, age, city):\n    \"\"\"Introduce someone with their details\"\"\"\n    print(f\"Hi, I'm {name}, {age} years old, from {city}\")\n\nintroduce(\"Charlie\", 25, \"New York\")\n\n# Function with return value\ndef add_numbers(a, b):\n    \"\"\"Add two numbers and return the result\"\"\"\n    result = a + b\n    return result\n\nsum_result = add_numbers(5, 3)\nprint(f\"5 + 3 = {sum_result}\")\n\n# Function with calculation and return\ndef calculate_area(length, width):\n    \"\"\"Calculate the area of a rectangle\"\"\"\n    area = length * width\n    return area\n\nrectangle_area = calculate_area(10, 5)\nprint(f\"Rectangle area: {rectangle_area}\")\n\n# Function returning multiple values\ndef get_name_age():\n    \"\"\"Return name and age as a tuple\"\"\"\n    return \"David\", 30\n\nname, age = get_name_age()\nprint(f\"Name: {name}, Age: {age}\")\n\n# Function with conditional logic\ndef check_grade(score):\n    \"\"\"Convert numeric score to letter grade\"\"\"\n    if score >= 90:\n        return 'A'\n    elif score >= 80:\n        return 'B'\n    elif score >= 70:\n        return 'C'\n    elif score >= 60:\n        return 'D'\n    else:\n        return 'F'\n\ngrade = check_grade(85)\nprint(f\"Score 85 -> Grade: {grade}\")"
]
},
{
"cell_type": "markdown",
"metadata": {},
"source": [
"## 2. Function Parameters and Arguments\n",
"\n",
"Different ways to pass data to functions:"
]
},
{
"cell_type": "code",
"execution_count": null,
"metadata": {},
"outputs": [],
"source": [
"# Function parameters and arguments\nprint(\"Function Parameters and Arguments:\")\nprint(\"=\" * 34)\n\n# Default parameters\ndef greet_with_title(name, title=\"Mr./Ms.\"):\n    \"\"\"Greet with optional title\"\"\"\n    return f\"Hello, {title} {name}!\"\n\nprint(greet_with_title(\"Smith\"))  # Uses default title\nprint(greet_with_title(\"Johnson\", \"Dr.\"))  # Custom title\n\n# Multiple default parameters\ndef create_profile(name, age=0, city=\"Unknown\", country=\"Unknown\"):\n    \"\"\"Create a user profile with defaults\"\"\"\n    return {\n        'name': name,\n        'age': age,\n        'city': city,\n        'country': country\n    }\n\nprofile1 = create_profile(\"Alice\")\nprofile2 = create_profile(\"Bob\", 25)\nprofile3 = create_profile(\"Charlie\", 30, \"London\")\nprofile4 = create_profile(\"Diana\", 28, \"Paris\", \"France\")\n\nprint(f\"Profile 1: {profile1}\")\nprint(f\"Profile 2: {profile2}\")\nprint(f\"Profile 3: {profile3}\")\nprint(f\"Profile 4: {profile4}\")\n\n# Keyword arguments\nprint(f\"\\nKeyword arguments:\")\nprofile5 = create_profile(name=\"Eve\", country=\"Canada\", age=22)\nprint(f\"Profile 5: {profile5}\")\n\n# Mixed positional and keyword arguments\nprofile6 = create_profile(\"Frank\", city=\"Tokyo\", country=\"Japan\")\nprint(f\"Profile 6: {profile6}\")\n\n# *args - variable number of positional arguments\ndef calculate_sum(*numbers):\n    \"\"\"Calculate sum of any number of arguments\"\"\"\n    total = 0\n    for num in numbers:\n        total += num\n    return total\n\nprint(f\"\\nUsing *args:\")\nprint(f\"Sum of 1, 2, 3: {calculate_sum(1, 2, 3)}\")\nprint(f\"Sum of 1, 2, 3, 4, 5: {calculate_sum(1, 2, 3, 4, 5)}\")\nprint(f\"Sum of single number: {calculate_sum(42)}\")\n\n# **kwargs - variable number of keyword arguments\ndef create_person(**details):\n    \"\"\"Create person with any number of details\"\"\"\n    person = {}\n    for key, value in details.items():\n        person[key] = value\n    return person\n\nprint(f\"\\nUsing **kwargs:\")\nperson1 = create_person(name=\"Alice\", age=25, job=\"Engineer\")\nperson2 = create_person(name=\"Bob\", city=\"London\", hobby=\"Reading\", pet=\"Cat\")\nprint(f\"Person 1: {person1}\")\nprint(f\"Person 2: {person2}\")\n\n# Combining all parameter types\ndef complex_function(required, default_param=\"default\", *args, **kwargs):\n    \"\"\"Function with all parameter types\"\"\"\n    print(f\"  Required: {required}\")\n    print(f\"  Default: {default_param}\")\n    print(f\"  Args: {args}\")\n    print(f\"  Kwargs: {kwargs}\")\n\nprint(f\"\\nComplex function calls:\")\ncomplex_function(\"must_have\")\ncomplex_function(\"must_have\", \"custom\", 1, 2, 3, name=\"Alice\", age=25)"
]
},
{
"cell_type": "markdown",
"metadata": {},
"source": [
"## 3. Return Values and Multiple Returns\n",
"\n",
"How functions return data:"
]
},
{
"cell_type": "code",
"execution_count": null,
"metadata": {},
"outputs": [],
"source": [
"# Return values and multiple returns\nprint(\"Return Values and Multiple Returns:\")\nprint(\"=\" * 36)\n\n# Single return value\ndef square(x):\n    \"\"\"Return the square of a number\"\"\"\n    return x ** 2\n\nresult = square(5)\nprint(f\"Square of 5: {result}\")\n\n# Multiple return values (returned as tuple)\ndef divide_with_remainder(dividend, divisor):\n    \"\"\"Return quotient and remainder\"\"\"\n    quotient = dividend // divisor\n    remainder = dividend % divisor\n    return quotient, remainder\n\nq, r = divide_with_remainder(17, 5)\nprint(f\"17 ÷ 5 = {q} remainder {r}\")\n\n# Return tuple explicitly\ntuple_result = divide_with_remainder(20, 3)\nprint(f\"20 ÷ 3 = {tuple_result} (as tuple)\")\n\n# Return different data types\ndef analyze_text(text):\n    \"\"\"Analyze text and return various statistics\"\"\"\n    words = text.split()\n    return {\n        'word_count': len(words),\n        'char_count': len(text),\n        'first_word': words[0] if words else None,\n        'last_word': words[-1] if words else None,\n        'words': words\n    }\n\nanalysis = analyze_text(\"Python is a great programming language\")\nprint(f\"\\nText analysis: {analysis}\")\n\n# Early return with conditions\ndef validate_age(age):\n    \"\"\"Validate age and return status\"\"\"\n    if age < 0:\n        return False, \"Age cannot be negative\"\n    \n    if age > 150:\n        return False, \"Age seems unrealistic\"\n    \n    if age < 18:\n        return True, \"Minor\"\n    \n    if age >= 65:\n        return True, \"Senior\"\n    \n    return True, \"Adult\"\n\ntest_ages = [-5, 16, 25, 70, 200]\nprint(f\"\\nAge validation:\")\nfor age in test_ages:\n    is_valid, message = validate_age(age)\n    status = \"Valid\" if is_valid else \"Invalid\"\n    print(f\"  Age {age}: {status} - {message}\")\n\n# Function with no explicit return (returns None)\ndef print_info(name, age):\n    \"\"\"Print information (no return value)\"\"\"\n    print(f\"Name: {name}, Age: {age}\")\n\nno_return = print_info(\"Alice\", 25)\nprint(f\"Function returned: {no_return}\")\n\n# Return based on conditions\ndef get_discount(amount, customer_type):\n    \"\"\"Calculate discount based on conditions\"\"\"\n    if customer_type == \"premium\":\n        if amount > 1000:\n            return 0.15  # 15% discount\n        else:\n            return 0.10  # 10% discount\n    elif customer_type == \"regular\":\n        if amount > 500:\n            return 0.05  # 5% discount\n        else:\n            return 0.02  # 2% discount\n    else:\n        return 0  # No discount\n\ndiscount_cases = [\n    (1200, \"premium\"),\n    (800, \"premium\"),\n    (600, \"regular\"),\n    (300, \"regular\"),\n    (500, \"new\")\n]\n\nprint(f\"\\nDiscount calculations:\")\nfor amount, customer_type in discount_cases:\n    discount = get_discount(amount, customer_type)\n    savings = amount * discount\n    print(f\"  ${amount} for {customer_type}: {discount:.1%} discount = ${savings:.2f} savings\")"
]
},
{
"cell_type": "markdown",
"metadata": {},
"source": [
"## 4. Variable Scope\n",
"\n",
"Understanding where variables can be accessed:"
]
},
{
"cell_type": "code",
"execution_count": null,
"metadata": {},
"outputs": [],
"source": [
"# Variable scope\nprint(\"Variable Scope:\")\nprint(\"=\" * 14)\n\n# Global variables\nglobal_var = \"I'm global\"\ncounter = 0\n\ndef demonstrate_scope():\n    \"\"\"Demonstrate different variable scopes\"\"\"\n    # Local variable\n    local_var = \"I'm local\"\n    \n    # Accessing global variable\n    print(f\"  Inside function - Global var: {global_var}\")\n    print(f\"  Inside function - Local var: {local_var}\")\n    \n    # This creates a local variable, doesn't modify global\n    counter = 10\n    print(f\"  Inside function - Local counter: {counter}\")\n\nprint(\"Before function call:\")\nprint(f\"  Global var: {global_var}\")\nprint(f\"  Global counter: {counter}\")\n\ndemonstrate_scope()\n\nprint(\"\\nAfter function call:\")\nprint(f\"  Global counter (unchanged): {counter}\")\n\n# Using global keyword\ndef modify_global():\n    \"\"\"Modify global variable using global keyword\"\"\"\n    global counter\n    counter += 5\n    print(f\"  Inside function - Modified global counter: {counter}\")\n\nprint(f\"\\nBefore modify_global(): {counter}\")\nmodify_global()\nprint(f\"After modify_global(): {counter}\")\n\n# Nonlocal keyword (for nested functions)\ndef outer_function():\n    \"\"\"Demonstrate nonlocal scope\"\"\"\n    outer_var = \"I'm in outer function\"\n    \n    def inner_function():\n        \"\"\"Inner function accessing outer scope\"\"\"\n        nonlocal outer_var\n        outer_var = \"Modified by inner function\"\n        print(f\"    Inner function - outer_var: {outer_var}\")\n    \n    print(f\"  Before inner function: {outer_var}\")\n    inner_function()\n    print(f\"  After inner function: {outer_var}\")\n\nprint(f\"\\nNested function example:\")\nouter_function()\n\n# Scope resolution order: Local -> Enclosing -> Global -> Built-in\nprint(f\"\\nScope resolution example:\")\nname = \"Global Alice\"\n\ndef outer():\n    name = \"Enclosing Bob\"\n    \n    def inner():\n        name = \"Local Charlie\"\n        print(f\"  Inner function sees: {name}\")\n    \n    def inner_no_local():\n        print(f\"  Inner (no local) sees: {name}\")\n    \n    print(f\"  Outer function sees: {name}\")\n    inner()\n    inner_no_local()\n\nprint(f\"Global scope: {name}\")\nouter()\n\n# Function parameters are local\ndef parameter_scope(param):\n    \"\"\"Parameters are local to the function\"\"\"\n    param = \"Modified inside function\"\n    print(f\"  Inside function - param: {param}\")\n\noriginal_value = \"Original value\"\nprint(f\"\\nBefore function call: {original_value}\")\nparameter_scope(original_value)\nprint(f\"After function call: {original_value} (unchanged)\")"
]
},
{
"cell_type": "markdown",
"metadata": {},
"source": [
"## 5. Function Documentation and Type Hints\n",
"\n",
"Writing clear, well-documented functions:"
]
},
{
"cell_type": "code",
"execution_count": null,
"metadata": {},
"outputs": [],
"source": [
"# Function documentation and type hints\nprint(\"Function Documentation and Type Hints:\")\nprint(\"=\" * 39)\n\n# Basic docstring\ndef calculate_area(length, width):\n    \"\"\"\n    Calculate the area of a rectangle.\n    \n    Args:\n        length (float): The length of the rectangle\n        width (float): The width of the rectangle\n    \n    Returns:\n        float: The area of the rectangle\n    \n    Example:\n        >>> calculate_area(5, 3)\n        15\n    \"\"\"\n    return length * width\n\n# Access docstring\nprint(f\"Function docstring:\")\nprint(calculate_area.__doc__)\n\n# Type hints (Python 3.5+)\nfrom typing import List, Dict, Optional, Union, Tuple\n\ndef process_scores(scores: List[int]) -> Dict[str, Union[int, float]]:\n    \"\"\"\n    Process a list of scores and return statistics.\n    \n    Args:\n        scores: List of integer scores\n    \n    Returns:\n        Dictionary containing score statistics\n    \"\"\"\n    if not scores:\n        return {'count': 0, 'average': 0, 'min': 0, 'max': 0}\n    \n    return {\n        'count': len(scores),\n        'average': sum(scores) / len(scores),\n        'min': min(scores),\n        'max': max(scores)\n    }\n\ntest_scores = [85, 92, 78, 96, 88]\nstats = process_scores(test_scores)\nprint(f\"\\nScore statistics: {stats}\")\n\n# Optional parameters with type hints\ndef greet_user(name: str, age: Optional[int] = None) -> str:\n    \"\"\"\n    Greet a user with optional age.\n    \n    Args:\n        name: User's name\n        age: User's age (optional)\n    \n    Returns:\n        Greeting string\n    \"\"\"\n    greeting = f\"Hello, {name}!\"\n    if age is not None:\n        greeting += f\" You are {age} years old.\"\n    return greeting\n\nprint(f\"\\nGreetings:\")\nprint(greet_user(\"Alice\"))\nprint(greet_user(\"Bob\", 25))\n\n# Complex type hints\ndef process_student_data(students: List[Dict[str, Union[str, int]]]) -> Tuple[int, float]:\n    \"\"\"\n    Process student data and return count and average age.\n    \n    Args:\n        students: List of student dictionaries with 'name' and 'age' keys\n    \n    Returns:\n        Tuple of (student_count, average_age)\n    \"\"\"\n    if not students:\n        return 0, 0.0\n    \n    total_age = sum(student['age'] for student in students)\n    avg_age = total_age / len(students)\n    \n    return len(students), avg_age\n\nstudent_list = [\n    {'name': 'Alice', 'age': 20},\n    {'name': 'Bob', 'age': 22},\n    {'name': 'Charlie', 'age': 19}\n]\n\ncount, avg_age = process_student_data(student_list)\nprint(f\"\\nStudent data: {count} students, average age {avg_age:.1f}\")\n\n# Function with detailed docstring\ndef fibonacci_sequence(n: int, start_values: Tuple[int, int] = (0, 1)) -> List[int]:\n    \"\"\"\n    Generate Fibonacci sequence of specified length.\n    \n    The Fibonacci sequence is a series of numbers where each number is the sum\n    of the two preceding ones. By default, it starts with 0 and 1.\n    \n    Args:\n        n (int): Number of elements to generate. Must be non-negative.\n        start_values (tuple): Starting values for the sequence. Default is (0, 1).\n    \n    Returns:\n        List[int]: List containing the Fibonacci sequence.\n    \n    Raises:\n        ValueError: If n is negative.\n        TypeError: If start_values is not a tuple of length 2.\n    \n    Examples:\n        >>> fibonacci_sequence(5)\n        [0, 1, 1, 2, 3]\n        >>> fibonacci_sequence(4, (1, 1))\n        [1, 1, 2, 3]\n    \n    Note:\n        For large values of n, consider using a generator for memory efficiency.\n    \"\"\"\n    if n < 0:\n        raise ValueError(\"n must be non-negative\")\n    \n    if not isinstance(start_values, tuple) or len(start_values) != 2:\n        raise TypeError(\"start_values must be a tuple of length 2\")\n    \n    if n == 0:\n        return []\n    elif n == 1:\n        return [start_values[0]]\n    \n    sequence = list(start_values)\n    for i in range(2, n):\n        next_value = sequence[i-1] + sequence[i-2]\n        sequence.append(next_value)\n    \n    return sequence[:n]\n\nprint(f\"\\nFibonacci examples:\")\nprint(f\"First 8 numbers: {fibonacci_sequence(8)}\")\nprint(f\"Starting with (1,1): {fibonacci_sequence(6, (1, 1))}\")\n\n# Display function signature\nimport inspect\nsig = inspect.signature(fibonacci_sequence)\nprint(f\"\\nFunction signature: fibonacci_sequence{sig}\")"
]
},
{
"cell_type": "markdown",
"metadata": {},
"source": [
"## Summary\n",
"\n",
"In this notebook, you learned about:\n",
"\n",
"✅ **Function Basics**: Definition, calling, parameters, return values  \n",
"✅ **Parameter Types**: Positional, keyword, default, *args, **kwargs  \n",
"✅ **Return Values**: Single and multiple returns, conditional returns  \n",
"✅ **Variable Scope**: Local, global, nonlocal, and scope resolution  \n",
"✅ **Documentation**: Docstrings and type hints for clear code  \n",
"✅ **Best Practices**: Writing maintainable, documented functions  \n",
"\n",
"### Key Takeaways:\n",
"1. Functions make code reusable and organized\n",
"2. Use descriptive names and docstrings\n",
"3. Prefer explicit parameters over global variables\n",
"4. Type hints improve code clarity and catch errors\n",
"5. Return meaningful values or None explicitly\n",
"6. Keep functions focused on a single responsibility\n",
"\n",
"### Next Topic: 14_lambda_functions.ipynb\n",
"Learn about anonymous functions and functional programming concepts."
]
}
],
"metadata": {
"kernelspec": {
"display_name": "Python 3",
"language": "python",
"name": "python3"
},
"language_info": {
"codemirror_mode": {
"name": "ipython",
"version": 3
},
"file_extension": ".py",
"mimetype": "text/x-python",
"name": "python",
"nbconvert_exporter": "python",
"pygments_lexer": "ipython3",
"version": "3.8.5"
}
},
"nbformat": 4,
"nbformat_minor": 4
}
