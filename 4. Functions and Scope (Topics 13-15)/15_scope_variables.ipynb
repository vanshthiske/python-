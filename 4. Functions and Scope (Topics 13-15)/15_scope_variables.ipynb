{
"cells": [
{
"cell_type": "markdown",
"metadata": {},
"source": [
"# Topic 15: Variable Scope and Namespaces\n",
"\n",
"## Overview\n",
"Understanding how Python manages variable access and scope is crucial for writing maintainable code and avoiding common pitfalls.\n",
"\n",
"### What You'll Learn:\n",
"- Local, enclosing, global, and built-in scope (LEGB rule)\n",
"- Global and nonlocal keywords\n",
"- Closures and factory functions\n",
"- Namespace management\n",
"- Common scope-related pitfalls\n",
"- Best practices for variable scope\n",
"\n",
"---"
]
},
{
"cell_type": "markdown",
"metadata": {},
"source": [
"## 1. Understanding the LEGB Rule\n",
"\n",
"Python follows the LEGB rule for scope resolution:"
]
},
{
"cell_type": "code",
"execution_count": null,
"metadata": {},
"outputs": [],
"source": [
"# LEGB Rule: Local, Enclosing, Global, Built-in\nprint(\"LEGB Rule Demonstration:\")\nprint(\"=\" * 25)\n\n# Built-in scope (B)\nprint(f\"Built-in function len: {len}\")\nprint(f\"Built-in function max: {max}\")\n\n# Global scope (G)\nglobal_var = \"I'm global\"\nprint(f\"\\nGlobal variable: {global_var}\")\n\n# Enclosing scope (E) and Local scope (L)\ndef outer_function():\n    \"\"\"Demonstrate enclosing and local scope\"\"\"\n    enclosing_var = \"I'm in enclosing scope\"\n    \n    def inner_function():\n        local_var = \"I'm local\"\n        print(f\"  Local: {local_var}\")\n        print(f\"  Enclosing: {enclosing_var}\")\n        print(f\"  Global: {global_var}\")\n        print(f\"  Built-in len: {len('test')}\")\n    \n    inner_function()\n    print(f\"  Can't access local_var from outer: {locals()}\")\n\nprint(\"\\nLEGB resolution in nested function:\")\nouter_function()\n\n# Variable shadowing\ndef demonstrate_shadowing():\n    \"\"\"Show how inner variables can shadow outer ones\"\"\"\n    global_var = \"I'm shadowing global\"\n    len = \"I'm shadowing built-in len\"\n    \n    print(f\"\\nInside function:\")\n    print(f\"  global_var: {global_var}\")\n    print(f\"  len: {len}\")\n    \n    # This would cause an error now:\n    # print(len([1, 2, 3]))  # TypeError: 'str' object is not callable\n\ndemonstrate_shadowing()\nprint(f\"\\nOutside function (global still intact):\")\nprint(f\"  global_var: {global_var}\")\nprint(f\"  len function works: {len([1, 2, 3])}\")\n\n# Scope resolution order\ntest_var = \"global\"\n\ndef outer():\n    test_var = \"enclosing\"\n    \n    def middle():\n        test_var = \"middle\"\n        \n        def inner():\n            test_var = \"local\"\n            print(f\"    Inner sees: {test_var}\")\n        \n        def inner_no_local():\n            print(f\"    Inner (no local) sees: {test_var}\")\n        \n        print(f\"  Middle sees: {test_var}\")\n        inner()\n        inner_no_local()\n    \n    print(f\"Outer sees: {test_var}\")\n    middle()\n\nprint(f\"\\nScope resolution demonstration:\")\nprint(f\"Global: {test_var}\")\nouter()"
]
},
{
"cell_type": "markdown",
"metadata": {},
"source": [
"## 2. Global and Nonlocal Keywords\n",
"\n",
"Modifying variables in outer scopes:"
]
},
{
"cell_type": "code",
"execution_count": null,
"metadata": {},
"outputs": [],
"source": [
"# Global and nonlocal keywords\nprint(\"Global and Nonlocal Keywords:\")\nprint(\"=\" * 30)\n\n# Global keyword\ncounter = 0\nprint(f\"Initial global counter: {counter}\")\n\ndef increment_counter():\n    \"\"\"Increment global counter\"\"\"\n    global counter\n    counter += 1\n    print(f\"  Inside function: {counter}\")\n\ndef try_increment_without_global():\n    \"\"\"This would create a local variable\"\"\"\n    # counter += 1  # UnboundLocalError!\n    counter = 10  # This creates a local variable\n    print(f\"  Local counter: {counter}\")\n\nprint(\"\\nUsing global keyword:\")\nincrement_counter()\nprint(f\"After increment: {counter}\")\n\nprint(\"\\nWithout global keyword:\")\ntry_increment_without_global()\nprint(f\"Global counter unchanged: {counter}\")\n\n# Multiple global variables\nconfig_debug = False\nconfig_timeout = 30\n\ndef update_config(debug=None, timeout=None):\n    \"\"\"Update global configuration\"\"\"\n    global config_debug, config_timeout\n    \n    if debug is not None:\n        config_debug = debug\n    if timeout is not None:\n        config_timeout = timeout\n    \n    print(f\"  Config updated: debug={config_debug}, timeout={config_timeout}\")\n\nprint(f\"\\nInitial config: debug={config_debug}, timeout={config_timeout}\")\nupdate_config(debug=True, timeout=60)\nprint(f\"Final config: debug={config_debug}, timeout={config_timeout}\")\n\n# Nonlocal keyword\ndef create_counter():\n    \"\"\"Factory function creating a counter with closure\"\"\"\n    count = 0\n    \n    def increment():\n        nonlocal count\n        count += 1\n        return count\n    \n    def decrement():\n        nonlocal count\n        count -= 1\n        return count\n    \n    def get_count():\n        return count\n    \n    return increment, decrement, get_count\n\nprint(\"\\nNonlocal keyword demonstration:\")\ninc, dec, get = create_counter()\n\nprint(f\"Initial count: {get()}\")\nprint(f\"After increment: {inc()}\")\nprint(f\"After increment: {inc()}\")\nprint(f\"After decrement: {dec()}\")\nprint(f\"Current count: {get()}\")\n\n# Creating multiple counters\ncounter1_inc, counter1_dec, counter1_get = create_counter()\ncounter2_inc, counter2_dec, counter2_get = create_counter()\n\nprint(\"\\nMultiple independent counters:\")\nprint(f\"Counter 1: {counter1_inc()}\")\nprint(f\"Counter 1: {counter1_inc()}\")\nprint(f\"Counter 2: {counter2_inc()}\")\nprint(f\"Counter 1: {counter1_get()}, Counter 2: {counter2_get()}\")\n\n# Nested nonlocal\ndef outer_func():\n    x = 1\n    \n    def middle_func():\n        nonlocal x\n        x = 2\n        \n        def inner_func():\n            nonlocal x\n            x = 3\n            print(f\"    Inner: x = {x}\")\n        \n        print(f\"  Before inner: x = {x}\")\n        inner_func()\n        print(f\"  After inner: x = {x}\")\n    \n    print(f\"Before middle: x = {x}\")\n    middle_func()\n    print(f\"After middle: x = {x}\")\n\nprint(\"\\nNested nonlocal example:\")\nouter_func()"
]
},
{
"cell_type": "markdown",
"metadata": {},
"source": [
"## 3. Closures and Factory Functions\n",
"\n",
"Creating functions that remember their enclosing scope:"
]
},
{
"cell_type": "code",
"execution_count": null,
"metadata": {},
"outputs": [],
"source": [
"# Closures and factory functions\nprint(\"Closures and Factory Functions:\")\nprint(\"=\" * 33)\n\n# Basic closure\ndef make_multiplier(factor):\n    \"\"\"Create a function that multiplies by a given factor\"\"\"\n    def multiplier(number):\n        return number * factor  # 'factor' is captured from enclosing scope\n    return multiplier\n\n# Create different multipliers\ndouble = make_multiplier(2)\ntriple = make_multiplier(3)\ntimes_ten = make_multiplier(10)\n\nprint(\"Basic closure example:\")\nprint(f\"double(5) = {double(5)}\")\nprint(f\"triple(4) = {triple(4)}\")\nprint(f\"times_ten(3) = {times_ten(3)}\")\n\n# Check closure properties\nprint(f\"\\nClosure properties:\")\nprint(f\"double.__closure__: {double.__closure__}\")\nprint(f\"Captured value: {double.__closure__[0].cell_contents}\")\n\n# Closure with mutable state\ndef make_accumulator(initial=0):\n    \"\"\"Create an accumulator function\"\"\"\n    total = initial\n    \n    def accumulate(value):\n        nonlocal total\n        total += value\n        return total\n    \n    def reset():\n        nonlocal total\n        total = initial\n    \n    def get_total():\n        return total\n    \n    # Return a tuple of functions\n    return accumulate, reset, get_total\n\nacc, reset, get_total = make_accumulator(100)\n\nprint(\"\\nAccumulator closure:\")\nprint(f\"Initial: {get_total()}\")\nprint(f\"Add 10: {acc(10)}\")\nprint(f\"Add 5: {acc(5)}\")\nprint(f\"Add 3: {acc(3)}\")\nprint(f\"Reset and get total: {get_total()}\")\nreset()\nprint(f\"After reset: {get_total()}\")\n\n# Closure with configuration\ndef make_validator(min_length=1, max_length=100, required_chars=None):\n    \"\"\"Create a customized validator function\"\"\"\n    required_chars = required_chars or set()\n    \n    def validate(text):\n        if not isinstance(text, str):\n            return False, \"Must be a string\"\n        \n        if len(text) < min_length:\n            return False, f\"Too short (min {min_length})\"\n        \n        if len(text) > max_length:\n            return False, f\"Too long (max {max_length})\"\n        \n        if required_chars and not required_chars.issubset(set(text)):\n            missing = required_chars - set(text)\n            return False, f\"Missing required characters: {missing}\"\n        \n        return True, \"Valid\"\n    \n    return validate\n\n# Create different validators\npassword_validator = make_validator(8, 50, {'@', '#', '$'})\nusername_validator = make_validator(3, 20)\n\ntest_cases = [\n    (\"abc\", username_validator, \"username\"),\n    (\"alice123\", username_validator, \"username\"),\n    (\"pass\", password_validator, \"password\"),\n    (\"password123@#$\", password_validator, \"password\"),\n]\n\nprint(\"\\nValidator closures:\")\nfor text, validator, type_name in test_cases:\n    is_valid, message = validator(text)\n    status = \"✓\" if is_valid else \"✗\"\n    print(f\"  {status} {type_name} '{text}': {message}\")\n\n# Closure in a loop (common pitfall and solution)\nprint(\"\\nClosure in loop (common pitfall):\")\n\n# Wrong way - all functions capture the same variable\nfunctions_wrong = []\nfor i in range(3):\n    functions_wrong.append(lambda x: x * i)  # All capture same 'i'\n\nprint(\"Wrong approach:\")\nfor j, func in enumerate(functions_wrong):\n    print(f\"  Function {j}: 5 * i = {func(5)} (all use i={i})\")\n\n# Correct way - capture the value, not the variable\nfunctions_correct = []\nfor i in range(3):\n    functions_correct.append((lambda i: lambda x: x * i)(i))  # Capture value\n\nprint(\"\\nCorrect approach:\")\nfor j, func in enumerate(functions_correct):\n    print(f\"  Function {j}: 5 * {j} = {func(5)}\")\n\n# Alternative correct way using default arguments\nfunctions_alt = []\nfor i in range(3):\n    functions_alt.append(lambda x, multiplier=i: x * multiplier)\n\nprint(\"\\nAlternative correct approach:\")\nfor j, func in enumerate(functions_alt):\n    print(f\"  Function {j}: 5 * {j} = {func(5)}\")"
]
},
{
"cell_type": "markdown",
"metadata": {},
"source": [
"## 4. Namespace Management\n",
"\n",
"Understanding Python's namespace system:"
]
},
{
"cell_type": "code",
"execution_count": null,
"metadata": {},
"outputs": [],
"source": [
"# Namespace management\nprint(\"Namespace Management:\")\nprint(\"=\" * 20)\n\n# Exploring namespaces\nprint(\"Built-in namespace (partial):\")\nimport builtins\nbuiltin_names = [name for name in dir(builtins) if not name.startswith('_')][:10]\nprint(f\"  {builtin_names}...\")\n\n# Global namespace\nprint(f\"\\nGlobal namespace keys (partial):\")\nglobal_names = [name for name in globals().keys() if not name.startswith('_')][:10]\nprint(f\"  {global_names}...\")\n\n# Local namespace\ndef explore_local_namespace(param1, param2=\"default\"):\n    \"\"\"Explore local namespace\"\"\"\n    local_var = \"I'm local\"\n    another_local = 42\n    \n    print(f\"  Local namespace: {list(locals().keys())}\")\n    print(f\"  Local values: {locals()}\")\n    \n    return local_var, another_local\n\nprint(f\"\\nLocal namespace exploration:\")\nresult = explore_local_namespace(\"arg1\", param2=\"arg2\")\n\n# vars() function\nclass SimpleClass:\n    def __init__(self, name, value):\n        self.name = name\n        self.value = value\n\nobj = SimpleClass(\"test\", 123)\nprint(f\"\\nObject namespace using vars():\")\nprint(f\"  {vars(obj)}\")\n\n# Modifying namespaces (be careful!)\ndef namespace_manipulation():\n    \"\"\"Demonstrate namespace manipulation\"\"\"\n    x = 1\n    y = 2\n    \n    print(f\"  Before: x={x}, y={y}\")\n    \n    # Add variable dynamically\n    locals()['z'] = 3  # This might not work as expected!\n    \n    # This works reliably\n    exec('w = 4')\n    \n    print(f\"  After: locals() = {locals()}\")\n    \n    # Global namespace modification\n    globals()['dynamic_global'] = \"Created dynamically\"\n\nprint(f\"\\nNamespace manipulation:\")\nnamespace_manipulation()\nprint(f\"Dynamic global variable: {dynamic_global}\")\n\n# Namespace isolation\ndef isolated_execution(code, safe_globals=None):\n    \"\"\"Execute code in isolated namespace\"\"\"\n    if safe_globals is None:\n        safe_globals = {'__builtins__': __builtins__}\n    \n    local_namespace = {}\n    \n    try:\n        exec(code, safe_globals, local_namespace)\n        return local_namespace, None\n    except Exception as e:\n        return None, str(e)\n\ncode_examples = [\n    \"result = 2 + 3\",\n    \"import math; result = math.pi\",\n    \"result = sum([1, 2, 3, 4, 5])\",\n    # \"import os; result = os.listdir('.')\"  # This would fail in restricted environment\n]\n\nprint(f\"\\nIsolated code execution:\")\nfor code in code_examples:\n    namespace, error = isolated_execution(code)\n    if error:\n        print(f\"  Error executing '{code}': {error}\")\n    else:\n        print(f\"  '{code}' -> result = {namespace.get('result', 'No result')}\")\n\n# Module namespaces\nimport math\nimport sys\n\nprint(f\"\\nModule namespaces:\")\nprint(f\"  math module attributes (sample): {dir(math)[:5]}...\")\nprint(f\"  math.pi = {math.pi}\")\nprint(f\"  sys.version_info = {sys.version_info}\")\n\n# Name resolution in classes\nclass NamespaceDemo:\n    class_var = \"I'm a class variable\"\n    \n    def __init__(self, instance_var):\n        self.instance_var = instance_var\n    \n    def method(self):\n        method_var = \"I'm a method variable\"\n        print(f\"    Method can access:\")\n        print(f\"      Class variable: {self.class_var}\")\n        print(f\"      Instance variable: {self.instance_var}\")\n        print(f\"      Method variable: {method_var}\")\n    \n    @classmethod\n    def class_method(cls):\n        print(f\"    Class method can access:\")\n        print(f\"      Class variable: {cls.class_var}\")\n        # print(f\"      Instance variable: {self.instance_var}\")  # Error!\n    \n    @staticmethod\n    def static_method():\n        print(f\"    Static method has limited access:\")\n        # print(f\"      Class variable: {class_var}\")  # Error!\n        print(f\"      Must use NamespaceDemo.class_var: {NamespaceDemo.class_var}\")\n\nprint(f\"\\nClass namespace demonstration:\")\nobj = NamespaceDemo(\"I'm an instance variable\")\nobj.method()\nNamespaceDemo.class_method()\nNamespaceDemo.static_method()"
]
},
{
"cell_type": "markdown",
"metadata": {},
"source": [
"## 5. Common Scope Pitfalls\n",
"\n",
"Avoiding common mistakes with variable scope:"
]
},
{
"cell_type": "code",
"execution_count": null,
"metadata": {},
"outputs": [],
"source": [
"# Common scope pitfalls\nprint(\"Common Scope Pitfalls:\")\nprint(\"=\" * 22)\n\n# Pitfall 1: Late binding in loops\nprint(\"Pitfall 1: Late binding in loops\")\n\n# Problem: All functions refer to the same variable\nfunctions = []\nfor i in range(3):\n    functions.append(lambda: i)  # All functions capture same 'i'\n\nprint(\"  Problem - all functions see final value of i:\")\nfor j, func in enumerate(functions):\n    print(f\"    Function {j} returns: {func()}\")\n\n# Solution 1: Use default argument to capture value\nfunctions_fixed1 = []\nfor i in range(3):\n    functions_fixed1.append(lambda i=i: i)\n\nprint(\"  Solution 1 - default argument:\")\nfor j, func in enumerate(functions_fixed1):\n    print(f\"    Function {j} returns: {func()}\")\n\n# Solution 2: Use closure to capture value\nfunctions_fixed2 = []\nfor i in range(3):\n    functions_fixed2.append((lambda x: lambda: x)(i))\n\nprint(\"  Solution 2 - closure:\")\nfor j, func in enumerate(functions_fixed2):\n    print(f\"    Function {j} returns: {func()}\")\n\n# Pitfall 2: Mutable default arguments\nprint(\"\\nPitfall 2: Mutable default arguments\")\n\ndef bad_append(item, target=[]):  # BAD: mutable default\n    target.append(item)\n    return target\n\ndef good_append(item, target=None):  # GOOD: use None\n    if target is None:\n        target = []\n    target.append(item)\n    return target\n\nprint(\"  Bad function (mutable default):\")\nresult1 = bad_append(1)\nresult2 = bad_append(2)  # Modifies same list!\nprint(f\"    First call: {result1}\")\nprint(f\"    Second call: {result2}\")\n\nprint(\"  Good function (None default):\")\nresult3 = good_append(1)\nresult4 = good_append(2)\nprint(f\"    First call: {result3}\")\nprint(f\"    Second call: {result4}\")\n\n# Pitfall 3: Global variable modification confusion\nprint(\"\\nPitfall 3: Global variable modification\")\n\ncounter = 0\n\ndef confusing_function():\n    print(f\"    Before assignment: {counter}\")  # This line causes UnboundLocalError!\n    # counter = counter + 1  # This would fail!\n\ndef clear_function():\n    global counter\n    print(f\"    Before assignment: {counter}\")\n    counter = counter + 1\n    print(f\"    After assignment: {counter}\")\n\nprint(\"  Clear function (with global):\")\nclear_function()\n\n# Pitfall 4: Closure variable modification\nprint(\"\\nPitfall 4: Closure variable modification\")\n\ndef create_functions():\n    funcs = []\n    for i in range(3):\n        def func():\n            # return i  # Would return 2 for all functions\n            pass\n        func.value = i  # Store as attribute instead\n        funcs.append(func)\n    return funcs\n\nmy_funcs = create_functions()\nprint(\"  Function attributes to avoid closure issues:\")\nfor j, func in enumerate(my_funcs):\n    print(f\"    Function {j} has value: {func.value}\")\n\n# Pitfall 5: Class variable vs instance variable confusion\nprint(\"\\nPitfall 5: Class vs instance variables\")\n\nclass Counter:\n    count = 0  # Class variable\n    \n    def __init__(self):\n        Counter.count += 1  # Modify class variable\n        self.instance_count = 0  # Instance variable\n    \n    def increment_class(self):\n        Counter.count += 1\n    \n    def increment_instance(self):\n        self.instance_count += 1\n\nc1 = Counter()\nc2 = Counter()\n\nprint(f\"  After creating 2 instances:\")\nprint(f\"    Class count: {Counter.count}\")\nprint(f\"    c1 instance count: {c1.instance_count}\")\nprint(f\"    c2 instance count: {c2.instance_count}\")\n\nc1.increment_class()\nc1.increment_instance()\n\nprint(f\"  After c1 increments:\")\nprint(f\"    Class count: {Counter.count}\")\nprint(f\"    c1 instance count: {c1.instance_count}\")\nprint(f\"    c2 instance count: {c2.instance_count}\")\n\n# Debugging scope issues\nprint(\"\\nDebugging tools:\")\n\ndef debug_scopes():\n    local_var = \"local\"\n    \n    def inner():\n        inner_var = \"inner\"\n        print(f\"    Inner locals: {list(locals().keys())}\")\n        print(f\"    Inner globals (sample): {list(globals().keys())[:5]}...\")\n    \n    print(f\"  Outer locals: {list(locals().keys())}\")\n    inner()\n\ndebug_scopes()"
]
},
{
"cell_type": "markdown",
"metadata": {},
"source": [
"## Summary\n",
"\n",
"In this notebook, you learned about:\n",
"\n",
"✅ **LEGB Rule**: Local, Enclosing, Global, Built-in scope resolution  \n",
"✅ **Global/Nonlocal**: Keywords for modifying outer scope variables  \n",
"✅ **Closures**: Functions that capture their enclosing environment  \n",
"✅ **Namespaces**: Python's system for organizing names  \n",
"✅ **Common Pitfalls**: Late binding, mutable defaults, scope confusion  \n",
"✅ **Best Practices**: Writing clean, maintainable scoped code  \n",
"\n",
"### Key Takeaways:\n",
"1. Python follows LEGB rule for variable resolution\n",
"2. Use `global` and `nonlocal` sparingly and explicitly\n",
"3. Closures capture variables by reference, not value\n",
"4. Avoid mutable default arguments\n",
"5. Be explicit about scope intentions in your code\n",
"6. Use debugging tools like `locals()` and `globals()` when needed\n",
"\n",
"### Next Topic: 16_error_handling.ipynb\n",
"Learn about exceptions, try-catch blocks, and robust error handling."
]
}
],
"metadata": {
"kernelspec": {
"display_name": "Python 3",
"language": "python",
"name": "python3"
},
"language_info": {
"codemirror_mode": {
"name": "ipython",
"version": 3
},
"file_extension": ".py",
"mimetype": "text/x-python",
"name": "python",
"nbconvert_exporter": "python",
"pygments_lexer": "ipython3",
"version": "3.8.5"
}
},
"nbformat": 4,
"nbformat_minor": 4
}
