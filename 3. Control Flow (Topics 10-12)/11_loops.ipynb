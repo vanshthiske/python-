{
"cells": [
{
"cell_type": "markdown",
"metadata": {},
"source": [
"# Topic 11: Loops - Repetitive Execution\n",
"\n",
"## Overview\n",
"Loops allow you to execute code repeatedly. Python provides for loops for iterating over sequences and while loops for condition-based repetition.\n",
"\n",
"### What You'll Learn:\n",
"- for loops with sequences and iterables\n",
"- while loops for condition-based repetition\n",
"- Loop control with break, continue, and else\n",
"- Nested loops and loop patterns\n",
"- Loop optimization and best practices\n",
"\n",
"---"
]
},
{
"cell_type": "markdown",
"metadata": {},
"source": [
"## 1. For Loops - Iterating Over Sequences\n",
"\n",
"The most common way to repeat code in Python:"
]
},
{
"cell_type": "code",
"execution_count": null,
"metadata": {},
"outputs": [],
"source": [
"# Basic for loops\n",
"print(\"Basic For Loops:\")\n",
"print(\"=\" * 16)\n",
"\n",
"# Iterate over a list\n",
"fruits = ['apple', 'banana', 'cherry', 'date']\n",
"print(\"Fruits:\")\n",
"for fruit in fruits:\n",
"    print(f\"  I like {fruit}\")\n",
"\n",
"# Iterate over a string\n",
"word = \"Python\"\n",
"print(f\"\\nLetters in '{word}':\")\n",
"for letter in word:\n",
"    print(f\"  {letter}\")\n",
"\n",
"# Iterate with range()\n",
"print(f\"\\nNumbers 1-5:\")\n",
"for i in range(1, 6):\n",
"    print(f\"  Number: {i}\")\n",
"\n",
"# Range with step\n",
"print(f\"\\nEven numbers 0-10:\")\n",
"for i in range(0, 11, 2):\n",
"    print(f\"  {i}\")\n",
"\n",
"# Iterate with enumerate (get index and value)\n",
"print(f\"\\nEnumerated fruits:\")\n",
"for index, fruit in enumerate(fruits):\n",
"    print(f\"  {index}: {fruit}\")\n",
"\n",
"# Starting enumerate from different number\n",
"print(f\"\\nEnumerated fruits (starting from 1):\")\n",
"for index, fruit in enumerate(fruits, 1):\n",
"    print(f\"  {index}. {fruit}\")"
]
},
{
"cell_type": "code",
"execution_count": null,
"metadata": {},
"outputs": [],
"source": [
"# Advanced for loop patterns\n",
"print(\"Advanced For Loop Patterns:\")\n",
"print(\"=\" * 27)\n",
"\n",
"# Iterate over dictionary\n",
"student_grades = {'Alice': 85, 'Bob': 92, 'Charlie': 78, 'Diana': 96}\n",
"\n",
"print(\"Dictionary iteration:\")\nprint(\"Keys only:\")\nfor name in student_grades:\n    print(f\"  {name}\")\n\nprint(\"\\nKeys explicitly:\")\nfor name in student_grades.keys():\n    print(f\"  {name}\")\n\nprint(\"\\nValues only:\")\nfor grade in student_grades.values():\n    print(f\"  {grade}\")\n\nprint(\"\\nKey-value pairs:\")\nfor name, grade in student_grades.items():\n    print(f\"  {name}: {grade}\")\n\n# Iterate over multiple lists with zip\nnames = ['Alice', 'Bob', 'Charlie']\nages = [25, 30, 35]\ncities = ['New York', 'London', 'Tokyo']\n\nprint(f\"\\nZipping multiple lists:\")\nfor name, age, city in zip(names, ages, cities):\n    print(f\"  {name}, {age}, from {city}\")\n\n# Iterate over nested structures\nmatrix = [\n    [1, 2, 3],\n    [4, 5, 6],\n    [7, 8, 9]\n]\n\nprint(f\"\\nMatrix iteration:\")\nfor row in matrix:\n    for element in row:\n        print(element, end=' ')\n    print()  # New line after each row\n\n# List of dictionaries\nstudents = [\n    {'name': 'Alice', 'grade': 85, 'subject': 'Math'},\n    {'name': 'Bob', 'grade': 92, 'subject': 'Science'},\n    {'name': 'Charlie', 'grade': 78, 'subject': 'English'}\n]\n\nprint(f\"\\nList of dictionaries:\")\nfor student in students:\n    print(f\"  {student['name']}: {student['grade']} in {student['subject']}\")"
]
},
{
"cell_type": "markdown",
"metadata": {},
"source": [
"## 2. While Loops - Condition-Based Repetition\n",
"\n",
"Loops that continue while a condition is true:"
]
},
{
"cell_type": "code",
"execution_count": null,
"metadata": {},
"outputs": [],
"source": [
"# Basic while loops\n",
"print(\"While Loops:\")\n",
"print(\"=\" * 12)\n\n# Simple counting\ncount = 1\nprint(\"Counting to 5:\")\nwhile count <= 5:\n    print(f\"  Count: {count}\")\n    count += 1\n\n# User input simulation (normally would use input())\nprint(f\"\\nPassword attempts (simulated):\")\nattempts = 0\nmax_attempts = 3\npasswords = ['wrong1', 'wrong2', 'correct']\n\nwhile attempts < max_attempts:\n    # Simulate user input\n    password = passwords[attempts] if attempts < len(passwords) else 'wrong'\n    print(f\"  Attempt {attempts + 1}: Trying password '{password}'\")\n    \n    if password == 'correct':\n        print(\"  ✓ Login successful!\")\n        break\n    else:\n        print(\"  ✗ Wrong password\")\n        attempts += 1\n\nif attempts == max_attempts:\n    print(\"  Account locked after too many attempts\")\n\n# While with complex conditions\nprint(f\"\\nNumber guessing game (simulated):\")\nimport random\nrandom.seed(42)  # For reproducible results\ntarget = random.randint(1, 10)\nguesses = [5, 8, 7]  # Simulated guesses\nguess_count = 0\n\nprint(f\"Target number is {target} (hidden from player)\")\nwhile guess_count < len(guesses):\n    guess = guesses[guess_count]\n    guess_count += 1\n    \n    print(f\"  Guess {guess_count}: {guess}\")\n    \n    if guess == target:\n        print(f\"  🎉 Correct! You won in {guess_count} guesses!\")\n        break\n    elif guess < target:\n        print(\"  📈 Too low!\")\n    else:\n        print(\"  📉 Too high!\")\nelse:\n    print(f\"  😞 Game over! The number was {target}\")"
]
},
{
"cell_type": "code",
"execution_count": null,
"metadata": {},
"outputs": [],
"source": [
"# Practical while loop examples\n",
"print(\"Practical While Loop Examples:\")\n",
"print(\"=\" * 29)\n\n# Processing data until condition met\ndef process_queue(items):\n    \"\"\"Process items from a queue until empty\"\"\"\n    queue = items.copy()\n    processed = []\n    \n    print(f\"Processing queue: {queue}\")\n    while queue:\n        item = queue.pop(0)  # Remove first item\n        processed.append(f\"processed_{item}\")\n        print(f\"  Processed: {item}, Remaining: {queue}\")\n    \n    return processed\n\nqueue_items = ['task1', 'task2', 'task3', 'task4']\nresult = process_queue(queue_items)\nprint(f\"Final result: {result}\")\n\n# Accumulating values\nprint(f\"\\nAccumulating values:\")\nnumbers = [1, 2, 3, 4, 5, 6, 7, 8, 9, 10]\ntotal = 0\nindex = 0\n\nprint(f\"Adding numbers until total > 20:\")\nwhile index < len(numbers) and total <= 20:\n    total += numbers[index]\n    print(f\"  Added {numbers[index]}, total now: {total}\")\n    index += 1\n\n# Reading data in chunks\nprint(f\"\\nProcessing data in chunks:\")\ndata = list(range(1, 16))  # Data from 1 to 15\nchunk_size = 4\nstart = 0\n\nprint(f\"Data: {data}\")\nwhile start < len(data):\n    chunk = data[start:start + chunk_size]\n    print(f\"  Processing chunk {start//chunk_size + 1}: {chunk}\")\n    start += chunk_size\n\n# Infinite loop with break condition\nprint(f\"\\nInfinite loop with break:\")\ncounter = 0\nwhile True:\n    counter += 1\n    if counter % 3 == 0:\n        print(f\"  Counter: {counter} (divisible by 3)\")\n    \n    if counter >= 10:\n        print(f\"  Breaking at counter: {counter}\")\n        break"
]
},
{
"cell_type": "markdown",
"metadata": {},
"source": [
"## 3. Loop Control - break, continue, else\n",
"\n",
"Controlling loop execution flow:"
]
},
{
"cell_type": "code",
"execution_count": null,
"metadata": {},
"outputs": [],
"source": [
"# Loop control statements\n",
"print(\"Loop Control Statements:\")\n",
"print(\"=\" * 24)\n\n# break - exit loop immediately\nprint(\"Using break:\")\nfor i in range(10):\n    if i == 5:\n        print(f\"  Breaking at i = {i}\")\n        break\n    print(f\"  i = {i}\")\nprint(\"  Loop ended\")\n\n# continue - skip rest of current iteration\nprint(f\"\\nUsing continue:\")\nfor i in range(10):\n    if i % 2 == 0:  # Skip even numbers\n        continue\n    print(f\"  Odd number: {i}\")\n\n# else clause - executes if loop completes normally (not broken)\nprint(f\"\\nLoop with else clause:\")\nfor i in range(5):\n    print(f\"  Processing: {i}\")\nelse:\n    print(\"  ✓ Loop completed normally\")\n\nprint(f\"\\nLoop with else clause and break:\")\nfor i in range(5):\n    if i == 3:\n        print(f\"  Breaking at {i}\")\n        break\n    print(f\"  Processing: {i}\")\nelse:\n    print(\"  ✓ Loop completed normally\")\nprint(\"  Loop was broken, else clause skipped\")\n\n# Practical example: searching with else\nprint(f\"\\nPractical example - searching:\")\ndef find_item(items, target):\n    \"\"\"Find item in list, return index or -1\"\"\"\n    for i, item in enumerate(items):\n        if item == target:\n            print(f\"  Found '{target}' at index {i}\")\n            return i\n    else:\n        print(f\"  '{target}' not found in list\")\n        return -1\n\ntest_list = ['apple', 'banana', 'cherry', 'date']\nfind_item(test_list, 'cherry')\nfind_item(test_list, 'grape')"
]
},
{
"cell_type": "code",
"execution_count": null,
"metadata": {},
"outputs": [],
"source": [
"# Complex loop control examples\n",
"print(\"Complex Loop Control Examples:\")\n",
"print(\"=\" * 30)\n\n# Multiple conditions for break/continue\nprint(\"Processing numbers with multiple conditions:\")\nfor num in range(1, 21):\n    # Skip multiples of 3\n    if num % 3 == 0:\n        print(f\"  Skipping {num} (multiple of 3)\")\n        continue\n    \n    # Break if number > 15\n    if num > 15:\n        print(f\"  Stopping at {num} (> 15)\")\n        break\n    \n    # Process valid numbers\n    print(f\"  Processing: {num}\")\n\n# Nested loop control\nprint(f\"\\nNested loop control:\")\nprint(\"Searching in 2D matrix:\")\nmatrix = [\n    [1, 2, 3, 4],\n    [5, 6, 7, 8],\n    [9, 10, 11, 12]\n]\ntarget = 7\nfound = False\n\nfor row_idx, row in enumerate(matrix):\n    for col_idx, value in enumerate(row):\n        print(f\"  Checking [{row_idx}][{col_idx}] = {value}\")\n        if value == target:\n            print(f\"  ✓ Found {target} at position [{row_idx}][{col_idx}]\")\n            found = True\n            break\n    if found:\n        break\nelse:\n    print(f\"  ✗ {target} not found in matrix\")\n\n# Loop with exception handling\nprint(f\"\\nLoop with exception handling:\")\ndata = ['10', '20', 'invalid', '30', '40']\nvalid_numbers = []\n\nfor item in data:\n    try:\n        number = int(item)\n        valid_numbers.append(number)\n        print(f\"  Converted '{item}' to {number}\")\n    except ValueError:\n        print(f\"  Skipping invalid item: '{item}'\")\n        continue\n\nprint(f\"Valid numbers: {valid_numbers}\")"
]
},
{
"cell_type": "markdown",
"metadata": {},
"source": [
"## 4. Nested Loops and Patterns\n",
"\n",
"Using loops inside loops for complex patterns:"
]
},
{
"cell_type": "code",
"execution_count": null,
"metadata": {},
"outputs": [],
"source": [
"# Nested loops and patterns\n",
"print(\"Nested Loops and Patterns:\")\n",
"print(\"=\" * 26)\n\n# Multiplication table\nprint(\"Multiplication table (5x5):\")\nfor i in range(1, 6):\n    for j in range(1, 6):\n        product = i * j\n        print(f\"{product:3d}\", end=\" \")\n    print()  # New line\n\n# Pattern printing\nprint(f\"\\nStar patterns:\")\nprint(\"Right triangle:\")\nfor i in range(1, 6):\n    print(\"*\" * i)\n\nprint(f\"\\nPyramid:\")\nfor i in range(1, 6):\n    spaces = \" \" * (5 - i)\n    stars = \"*\" * (2 * i - 1)\n    print(spaces + stars)\n\nprint(f\"\\nNumber pyramid:\")\nfor i in range(1, 6):\n    # Leading spaces\n    print(\" \" * (5 - i), end=\"\")\n    # Ascending numbers\n    for j in range(1, i + 1):\n        print(j, end=\"\")\n    # Descending numbers\n    for j in range(i - 1, 0, -1):\n        print(j, end=\"\")\n    print()\n\n# Chess board pattern\nprint(f\"\\nChess board pattern (8x8):\")\nfor row in range(8):\n    for col in range(8):\n        if (row + col) % 2 == 0:\n            print(\"⬜\", end=\"\")\n        else:\n            print(\"⬛\", end=\"\")\n    print()\n\n# Matrix operations\nprint(f\"\\nMatrix operations:\")\nmatrix_a = [[1, 2], [3, 4]]\nmatrix_b = [[5, 6], [7, 8]]\n\n# Matrix addition\nprint(\"Matrix A + Matrix B:\")\nresult = []\nfor i in range(len(matrix_a)):\n    row = []\n    for j in range(len(matrix_a[0])):\n        sum_val = matrix_a[i][j] + matrix_b[i][j]\n        row.append(sum_val)\n        print(f\"{sum_val:3d}\", end=\" \")\n    result.append(row)\n    print()"
]
},
{
"cell_type": "markdown",
"metadata": {},
"source": [
"## Summary\n",
"\n",
"In this notebook, you learned about:\n",
"\n",
"✅ **For Loops**: Iterating over sequences, ranges, and complex data structures  \n",
"✅ **While Loops**: Condition-based repetition and practical applications  \n",
"✅ **Loop Control**: Using break, continue, and else clauses effectively  \n",
"✅ **Nested Loops**: Creating complex patterns and processing 2D data  \n",
"✅ **Best Practices**: Writing efficient and readable loop code  \n",
"\n",
"### Key Takeaways:\n",
"1. Use for loops for known iterations, while loops for conditions\n",
"2. enumerate() provides index and value together\n",
"3. zip() combines multiple iterables\n",
"4. break exits loops, continue skips iterations\n",
"5. else clause runs only if loop completes normally\n",
"6. Avoid infinite loops with proper exit conditions\n",
"\n",
"### Next Topic: 12_loop_control.ipynb\n",
"Learn advanced loop control patterns and optimization techniques."
]
}
],
"metadata": {
"kernelspec": {
"display_name": "Python 3",
"language": "python",
"name": "python3"
},
"language_info": {
"codemirror_mode": {
"name": "ipython",
"version": 3
},
"file_extension": ".py",
"mimetype": "text/x-python",
"name": "python",
"nbconvert_exporter": "python",
"pygments_lexer": "ipython3",
"version": "3.8.5"
}
},
"nbformat": 4,
"nbformat_minor": 4
}
