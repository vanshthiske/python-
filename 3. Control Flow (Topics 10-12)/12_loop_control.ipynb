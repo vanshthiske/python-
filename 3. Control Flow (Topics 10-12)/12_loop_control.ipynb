{
"cells": [
{
"cell_type": "markdown",
"metadata": {},
"source": [
"# Topic 12: Advanced Loop Control\n",
"\n",
"## Overview\n",
"Advanced patterns and techniques for controlling loop execution, optimization strategies, and common pitfalls to avoid.\n",
"\n",
"### What You'll Learn:\n",
"- Advanced break and continue patterns\n",
"- Loop optimization techniques\n",
"- Common loop pitfalls and how to avoid them\n",
"- Loop alternatives and when to use them\n",
"- Performance considerations\n",
"\n",
"---"
]
},
{
"cell_type": "code",
"execution_count": null,
"metadata": {},
"outputs": [],
"source": [
"# Advanced loop control patterns\n",
"print(\"Advanced Loop Control Patterns:\")\n",
"print(\"=\" * 31)\n\n# Multi-level break using flags\nprint(\"Multi-level break with flags:\")\nmatrix = [[1, 2, 3], [4, 5, 6], [7, 8, 9]]\ntarget = 5\nfound = False\n\nfor i, row in enumerate(matrix):\n    for j, value in enumerate(row):\n        if value == target:\n            print(f\"  Found {target} at [{i}][{j}]\")\n            found = True\n            break\n    if found:\n        break\n\n# Alternative: Using exception for multi-level break\nclass BreakAllLoops(Exception):\n    pass\n\nprint(f\"\\nMulti-level break with exception:\")\ntry:\n    for i, row in enumerate(matrix):\n        for j, value in enumerate(row):\n            if value == 8:\n                print(f\"  Found 8 at [{i}][{j}]\")\n                raise BreakAllLoops\nexcept BreakAllLoops:\n    pass\n\n# Using functions to avoid complex loop control\ndef find_in_matrix(matrix, target):\n    \"\"\"Find target in matrix, return early\"\"\"\n    for i, row in enumerate(matrix):\n        for j, value in enumerate(row):\n            if value == target:\n                return (i, j)\n    return None\n\nposition = find_in_matrix(matrix, 6)\nprint(f\"\\nUsing function return: Found 6 at {position}\")\n\n# Loop with multiple exit conditions\nprint(f\"\\nLoop with multiple exit conditions:\")\ndata = [1, 2, 3, 4, 5, 6, 7, 8, 9, 10]\ntotal = 0\nmax_items = 5\nmax_sum = 20\n\nfor i, num in enumerate(data):\n    total += num\n    print(f\"  Item {i+1}: {num}, Total: {total}\")\n    \n    if i + 1 >= max_items:\n        print(f\"  Stopping: Reached max items ({max_items})\")\n        break\n    \n    if total >= max_sum:\n        print(f\"  Stopping: Reached max sum ({max_sum})\")\n        break"
]
},
{
"cell_type": "markdown",
"metadata": {},
"source": [
"## Loop Optimization Techniques\n",
"\n",
"Making loops more efficient:"
]
},
{
"cell_type": "code",
"execution_count": null,
"metadata": {},
"outputs": [],
"source": [
"# Loop optimization techniques\nimport time\n\nprint(\"Loop Optimization Techniques:\")\nprint(\"=\" * 29)\n\n# Avoid repeated calculations in loops\nprint(\"Optimization 1: Avoid repeated calculations\")\n\n# Bad: Recalculating len() every iteration\ndef bad_loop():\n    data = list(range(10000))\n    result = []\n    for i in range(len(data)):\n        if i < len(data) // 2:  # len() calculated every time!\n            result.append(data[i] * 2)\n    return result\n\n# Good: Calculate once before loop\ndef good_loop():\n    data = list(range(10000))\n    result = []\n    data_len = len(data)\n    half_len = data_len // 2\n    for i in range(data_len):\n        if i < half_len:\n            result.append(data[i] * 2)\n    return result\n\n# Time comparison\nstart = time.time()\nbad_result = bad_loop()\nbad_time = time.time() - start\n\nstart = time.time()\ngood_result = good_loop()\ngood_time = time.time() - start\n\nprint(f\"  Bad approach: {bad_time:.4f} seconds\")\nprint(f\"  Good approach: {good_time:.4f} seconds\")\nprint(f\"  Improvement: {bad_time/good_time:.1f}x faster\")\n\n# Use list comprehensions when appropriate\nprint(f\"\\nOptimization 2: List comprehensions vs loops\")\n\n# Regular loop\nstart = time.time()\nloop_result = []\nfor i in range(10000):\n    if i % 2 == 0:\n        loop_result.append(i ** 2)\nloop_time = time.time() - start\n\n# List comprehension\nstart = time.time()\ncomp_result = [i ** 2 for i in range(10000) if i % 2 == 0]\ncomp_time = time.time() - start\n\nprint(f\"  Loop approach: {loop_time:.4f} seconds\")\nprint(f\"  Comprehension: {comp_time:.4f} seconds\")\nprint(f\"  Improvement: {loop_time/comp_time:.1f}x faster\")\n\n# Optimize membership testing\nprint(f\"\\nOptimization 3: Membership testing\")\n\n# Bad: List membership (O(n))\nvalid_ids_list = list(range(1000))\ntest_ids = [100, 500, 999, 1500]\n\nstart = time.time()\nfor test_id in test_ids * 100:  # Repeat for timing\n    if test_id in valid_ids_list:\n        pass\nlist_time = time.time() - start\n\n# Good: Set membership (O(1))\nvalid_ids_set = set(range(1000))\n\nstart = time.time()\nfor test_id in test_ids * 100:\n    if test_id in valid_ids_set:\n        pass\nset_time = time.time() - start\n\nprint(f\"  List membership: {list_time:.4f} seconds\")\nprint(f\"  Set membership: {set_time:.4f} seconds\")\nprint(f\"  Improvement: {list_time/set_time:.1f}x faster\")"
]
},
{
"cell_type": "markdown",
"metadata": {},
"source": [
"## Common Loop Pitfalls\n",
"\n",
"Mistakes to avoid when writing loops:"
]
},
{
"cell_type": "code",
"execution_count": null,
"metadata": {},
"outputs": [],
"source": [
"# Common loop pitfalls\nprint(\"Common Loop Pitfalls:\")\nprint(\"=\" * 20)\n\n# Pitfall 1: Modifying list while iterating\nprint(\"Pitfall 1: Modifying list during iteration\")\n\n# Bad: Removing items while iterating\nnumbers = [1, 2, 3, 4, 5, 6, 7, 8, 9, 10]\nprint(f\"Original: {numbers}\")\n\n# This can skip elements!\ntry:\n    for num in numbers[:]:  # Create a copy to iterate over\n        if num % 2 == 0:\n            numbers.remove(num)\n            print(f\"  Removed {num}, list now: {numbers}\")\nexcept:\n    pass\n\nprint(f\"Result: {numbers}\")\n\n# Good: Iterate backwards or use list comprehension\nnumbers = [1, 2, 3, 4, 5, 6, 7, 8, 9, 10]\nprint(f\"\\nSafe removal - iterating backwards:\")\nfor i in range(len(numbers) - 1, -1, -1):\n    if numbers[i] % 2 == 0:\n        removed = numbers.pop(i)\n        print(f\"  Removed {removed}\")\n\nprint(f\"Result: {numbers}\")\n\n# Best: Use list comprehension\noriginal = [1, 2, 3, 4, 5, 6, 7, 8, 9, 10]\nfiltered = [num for num in original if num % 2 != 0]\nprint(f\"\\nBest approach - list comprehension: {filtered}\")\n\n# Pitfall 2: Off-by-one errors\nprint(f\"\\nPitfall 2: Off-by-one errors\")\n\n# Common mistake with range\ndata = ['a', 'b', 'c', 'd', 'e']\nprint(f\"Data: {data}, Length: {len(data)}\")\n\n# Wrong: Using length as upper bound\nprint(\"Wrong approach (would cause IndexError):\")\nprint(\"# for i in range(len(data) + 1):  # Don't do this!\")\nprint(\"#     print(data[i])\")\n\n# Correct approaches\nprint(\"\\nCorrect approaches:\")\nprint(\"Method 1 - Direct iteration:\")\nfor item in data:\n    print(f\"  {item}\")\n\nprint(\"Method 2 - Index with range:\")\nfor i in range(len(data)):\n    print(f\"  {i}: {data[i]}\")\n\nprint(\"Method 3 - enumerate:\")\nfor i, item in enumerate(data):\n    print(f\"  {i}: {item}\")\n\n# Pitfall 3: Unintended infinite loops\nprint(f\"\\nPitfall 3: Infinite loop prevention\")\nprint(\"Always ensure loop variables are modified:\")\n\n# Example of proper counter management\ncounter = 0\nmax_iterations = 5\n\nwhile counter < max_iterations:\n    print(f\"  Iteration {counter + 1}\")\n    counter += 1  # Don't forget this!\n    \n    # Safety check to prevent runaway loops\n    if counter > 100:  # Emergency brake\n        print(\"  Emergency stop - too many iterations\")\n        break\n\nprint(\"  Loop completed safely\")"
]
},
{
"cell_type": "markdown",
"metadata": {},
"source": [
"## Loop Alternatives\n",
"\n",
"When not to use loops and what to use instead:"
]
},
{
"cell_type": "code",
"execution_count": null,
"metadata": {},
"outputs": [],
"source": [
"# Loop alternatives\nprint(\"Loop Alternatives:\")\nprint(\"=\" * 17)\n\n# Alternative 1: Built-in functions\nprint(\"Alternative 1: Built-in functions\")\n\nnumbers = [1, 2, 3, 4, 5, 6, 7, 8, 9, 10]\n\n# Instead of loop for sum\nloop_sum = 0\nfor num in numbers:\n    loop_sum += num\n\n# Use built-in sum()\nbuiltin_sum = sum(numbers)\n\nprint(f\"  Loop sum: {loop_sum}\")\nprint(f\"  Built-in sum: {builtin_sum}\")\n\n# Other useful built-ins\nprint(f\"  Max: {max(numbers)}\")\nprint(f\"  Min: {min(numbers)}\")\nprint(f\"  All positive: {all(n > 0 for n in numbers)}\")\nprint(f\"  Any even: {any(n % 2 == 0 for n in numbers)}\")\n\n# Alternative 2: map() and filter()\nprint(f\"\\nAlternative 2: map() and filter()\")\n\n# Instead of loop for transformation\ntransformed_loop = []\nfor num in numbers:\n    transformed_loop.append(num ** 2)\n\n# Use map()\ntransformed_map = list(map(lambda x: x ** 2, numbers))\n\n# Instead of loop for filtering\neven_loop = []\nfor num in numbers:\n    if num % 2 == 0:\n        even_loop.append(num)\n\n# Use filter()\neven_filter = list(filter(lambda x: x % 2 == 0, numbers))\n\nprint(f\"  Squared (loop): {transformed_loop}\")\nprint(f\"  Squared (map): {transformed_map}\")\nprint(f\"  Even (loop): {even_loop}\")\nprint(f\"  Even (filter): {even_filter}\")\n\n# Alternative 3: Comprehensions\nprint(f\"\\nAlternative 3: Comprehensions\")\n\n# Dictionary from two lists\nkeys = ['a', 'b', 'c', 'd']\nvalues = [1, 2, 3, 4]\n\n# Loop approach\nloop_dict = {}\nfor i, key in enumerate(keys):\n    loop_dict[key] = values[i]\n\n# Comprehension approach\ncomp_dict = {k: v for k, v in zip(keys, values)}\n\nprint(f\"  Dict (loop): {loop_dict}\")\nprint(f\"  Dict (comprehension): {comp_dict}\")\n\n# Set comprehension for unique squares\ndata = [1, 2, 2, 3, 3, 4, 5]\nunique_squares = {x ** 2 for x in data}\nprint(f\"  Unique squares: {unique_squares}\")\n\n# Alternative 4: itertools for advanced patterns\nfrom itertools import cycle, repeat, chain, combinations\n\nprint(f\"\\nAlternative 4: itertools\")\n\n# Cycling through values\ncolors = ['red', 'green', 'blue']\ncolor_cycle = cycle(colors)\nprint(f\"  First 8 colors: {[next(color_cycle) for _ in range(8)]}\")\n\n# Repeating values\nrepeated = list(repeat('hello', 3))\nprint(f\"  Repeated: {repeated}\")\n\n# Chaining iterables\nlist1 = [1, 2, 3]\nlist2 = [4, 5, 6]\nchained = list(chain(list1, list2))\nprint(f\"  Chained: {chained}\")\n\n# Combinations\nletters = ['A', 'B', 'C']\ncombos = list(combinations(letters, 2))\nprint(f\"  Combinations: {combos}\")"
]
},
{
"cell_type": "markdown",
"metadata": {},
"source": [
"## Summary\n",
"\n",
"In this notebook, you learned about:\n",
"\n",
"✅ **Advanced Control**: Multi-level breaks, complex exit conditions  \n",
"✅ **Optimization**: Avoiding repeated calculations, using efficient data structures  \n",
"✅ **Common Pitfalls**: Modifying during iteration, off-by-one errors, infinite loops  \n",
"✅ **Alternatives**: Built-in functions, map/filter, comprehensions, itertools  \n",
"✅ **Best Practices**: When to use loops vs alternatives  \n",
"\n",
"### Key Takeaways:\n",
"1. Use functions to avoid complex nested loop control\n",
"2. Move calculations outside loops when possible\n",
"3. Never modify a list while iterating over it directly\n",
"4. Consider list comprehensions for simple transformations\n",
"5. Use built-in functions when available\n",
"6. Profile your code to identify real bottlenecks\n",
"\n",
"### Next Topic: 13_functions.ipynb\n",
"Learn about creating reusable code with functions."
]
}
],
"metadata": {
"kernelspec": {
"display_name": "Python 3",
"language": "python",
"name": "python3"
},
"language_info": {
"codemirror_mode": {
"name": "ipython",
"version": 3
},
"file_extension": ".py",
"mimetype": "text/x-python",
"name": "python",
"nbconvert_exporter": "python",
"pygments_lexer": "ipython3",
"version": "3.8.5"
}
},
"nbformat": 4,
"nbformat_minor": 4
}
